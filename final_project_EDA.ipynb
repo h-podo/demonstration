{
 "cells": [
  {
   "cell_type": "markdown",
   "metadata": {},
   "source": [
    "<center>\n",
    "\n",
    "**Harry Podolsky**\n",
    "\n",
    "**Roux Institute, Northeastern University**\n",
    "\n",
    "**ALY 6140**\n",
    "\n",
    "**Professor Patrick McQuillan**\n",
    "\n",
    "\n",
    "**Final Project: Solar Farm Data Analysis**\n",
    "\n",
    "</center>\n",
    "\n",
    "\n",
    "\n",
    "\n",
    "\n",
    "\n",
    "\n",
    "\n",
    "\n",
    "\n",
    "\n",
    "\n",
    "\n",
    "\n",
    "\n",
    "\n",
    "\n",
    "\n"
   ]
  },
  {
   "cell_type": "markdown",
   "metadata": {},
   "source": [
    "**Introduction**\n",
    "\n",
    "This project will examine trends and dynamics at play for a photovoltaic (PV) generation plant over a 34 day period. The project is located in India. I will examine patterns and project performance over time. After parsing the data, standardizing data types, and creating additional variables of interest, I will build out functions to streamline visualization of the data using Plotly. Then I will look at correlations between all of the variables and attempt to model them. I will focus on PV panel efficiency as the dependent variable, with the project level and weather data as explanatory variables. I will divide the data into training and testing sets and then overlay the modelled results for the testing period over the actual results from that period. I will build models to describe and predict efficiency of the PV panels based on the explanatory variables.\n",
    "\n",
    "This project data comes from two separate files. One contains 15-minute observations of a solar generation plants in India over a 34 day period. Each individual inverter on the project has an observation on each interval, so there are 22 observations per unique timestamp for the generation file. The raw data reads in from two .csv files as character, float, and int data. Data type conversion will be necessary. Generation data variables include date-time, plant ID, a unique source key which maps to an individual inverter's output, DC power in kW (direct current generation from the panel into the inverter), AC Power in kW (AC power output from the inverter), plus daily and total yield sums. The other file contains 15-minute observations for weather at each plant, containing date-time, plant ID, a unique source key that maps to the collection device, ambient temperature at the farm in Celsius, module temperature at panel level in Celsius (note only one panel on each plant is being measured for this variable), and irradiation, measured in kWh per m^2. Most of the variables are numeric, with IDs and dates as the only raw categorical variables. I also add a categorical variable based on energy demand trends on the grid - assigning each timestamp to on-peak, off-peak, and night.\n",
    "\n",
    "\n",
    "**Data Extraction, Cleaning, and Transformation**\n",
    "\n",
    "In the following code chunks I focus on reading in, aggregating, and visualizing the weather and generation paired datasets for the solar project called Plant 1. Date-time formating in the raw datasets differs slightly between generation and weather sets, which led to some extensive troubleshooting in order to have Pandas read them correctly. \n",
    "    "
   ]
  },
  {
   "cell_type": "code",
   "execution_count": 19,
   "metadata": {},
   "outputs": [],
   "source": [
    "import pandas as pd\n",
    "import numpy as np\n",
    "import os\n",
    "import matplotlib.pyplot as plt\n",
    "import string\n",
    "from tabulate import tabulate\n",
    "from datetime import datetime\n",
    "from IPython.display import display"
   ]
  },
  {
   "cell_type": "markdown",
   "metadata": {},
   "source": [
    "Below are samples of the raw .csv files for generation and weather data. Note the differences in how the date-time variables are formated. Also note that the Plant_ID is the same for both files - the data pertains to the same PV asset."
   ]
  },
  {
   "cell_type": "code",
   "execution_count": 24,
   "metadata": {},
   "outputs": [
    {
     "name": "stdout",
     "output_type": "stream",
     "text": [
      "Generation Data Sample:\n"
     ]
    },
    {
     "data": {
      "text/html": [
       "<div>\n",
       "<style scoped>\n",
       "    .dataframe tbody tr th:only-of-type {\n",
       "        vertical-align: middle;\n",
       "    }\n",
       "\n",
       "    .dataframe tbody tr th {\n",
       "        vertical-align: top;\n",
       "    }\n",
       "\n",
       "    .dataframe thead th {\n",
       "        text-align: right;\n",
       "    }\n",
       "</style>\n",
       "<table border=\"1\" class=\"dataframe\">\n",
       "  <thead>\n",
       "    <tr style=\"text-align: right;\">\n",
       "      <th></th>\n",
       "      <th>DATE_TIME</th>\n",
       "      <th>PLANT_ID</th>\n",
       "      <th>SOURCE_KEY</th>\n",
       "      <th>DC_POWER</th>\n",
       "      <th>AC_POWER</th>\n",
       "      <th>DAILY_YIELD</th>\n",
       "      <th>TOTAL_YIELD</th>\n",
       "    </tr>\n",
       "  </thead>\n",
       "  <tbody>\n",
       "    <tr>\n",
       "      <th>0</th>\n",
       "      <td>15-05-2020 00:00</td>\n",
       "      <td>4135001</td>\n",
       "      <td>1BY6WEcLGh8j5v7</td>\n",
       "      <td>0.0</td>\n",
       "      <td>0.0</td>\n",
       "      <td>0.0</td>\n",
       "      <td>6259559.0</td>\n",
       "    </tr>\n",
       "    <tr>\n",
       "      <th>1</th>\n",
       "      <td>15-05-2020 00:00</td>\n",
       "      <td>4135001</td>\n",
       "      <td>1IF53ai7Xc0U56Y</td>\n",
       "      <td>0.0</td>\n",
       "      <td>0.0</td>\n",
       "      <td>0.0</td>\n",
       "      <td>6183645.0</td>\n",
       "    </tr>\n",
       "    <tr>\n",
       "      <th>2</th>\n",
       "      <td>15-05-2020 00:00</td>\n",
       "      <td>4135001</td>\n",
       "      <td>3PZuoBAID5Wc2HD</td>\n",
       "      <td>0.0</td>\n",
       "      <td>0.0</td>\n",
       "      <td>0.0</td>\n",
       "      <td>6987759.0</td>\n",
       "    </tr>\n",
       "    <tr>\n",
       "      <th>3</th>\n",
       "      <td>15-05-2020 00:00</td>\n",
       "      <td>4135001</td>\n",
       "      <td>7JYdWkrLSPkdwr4</td>\n",
       "      <td>0.0</td>\n",
       "      <td>0.0</td>\n",
       "      <td>0.0</td>\n",
       "      <td>7602960.0</td>\n",
       "    </tr>\n",
       "    <tr>\n",
       "      <th>4</th>\n",
       "      <td>15-05-2020 00:00</td>\n",
       "      <td>4135001</td>\n",
       "      <td>McdE0feGgRqW7Ca</td>\n",
       "      <td>0.0</td>\n",
       "      <td>0.0</td>\n",
       "      <td>0.0</td>\n",
       "      <td>7158964.0</td>\n",
       "    </tr>\n",
       "  </tbody>\n",
       "</table>\n",
       "</div>"
      ],
      "text/plain": [
       "          DATE_TIME  PLANT_ID       SOURCE_KEY  DC_POWER  AC_POWER  \\\n",
       "0  15-05-2020 00:00   4135001  1BY6WEcLGh8j5v7       0.0       0.0   \n",
       "1  15-05-2020 00:00   4135001  1IF53ai7Xc0U56Y       0.0       0.0   \n",
       "2  15-05-2020 00:00   4135001  3PZuoBAID5Wc2HD       0.0       0.0   \n",
       "3  15-05-2020 00:00   4135001  7JYdWkrLSPkdwr4       0.0       0.0   \n",
       "4  15-05-2020 00:00   4135001  McdE0feGgRqW7Ca       0.0       0.0   \n",
       "\n",
       "   DAILY_YIELD  TOTAL_YIELD  \n",
       "0          0.0    6259559.0  \n",
       "1          0.0    6183645.0  \n",
       "2          0.0    6987759.0  \n",
       "3          0.0    7602960.0  \n",
       "4          0.0    7158964.0  "
      ]
     },
     "metadata": {},
     "output_type": "display_data"
    },
    {
     "name": "stdout",
     "output_type": "stream",
     "text": [
      "Weather Data Sample:\n"
     ]
    },
    {
     "data": {
      "text/html": [
       "<div>\n",
       "<style scoped>\n",
       "    .dataframe tbody tr th:only-of-type {\n",
       "        vertical-align: middle;\n",
       "    }\n",
       "\n",
       "    .dataframe tbody tr th {\n",
       "        vertical-align: top;\n",
       "    }\n",
       "\n",
       "    .dataframe thead th {\n",
       "        text-align: right;\n",
       "    }\n",
       "</style>\n",
       "<table border=\"1\" class=\"dataframe\">\n",
       "  <thead>\n",
       "    <tr style=\"text-align: right;\">\n",
       "      <th></th>\n",
       "      <th>DATE_TIME</th>\n",
       "      <th>PLANT_ID</th>\n",
       "      <th>SOURCE_KEY</th>\n",
       "      <th>AMBIENT_TEMPERATURE</th>\n",
       "      <th>MODULE_TEMPERATURE</th>\n",
       "      <th>IRRADIATION</th>\n",
       "    </tr>\n",
       "  </thead>\n",
       "  <tbody>\n",
       "    <tr>\n",
       "      <th>0</th>\n",
       "      <td>5/15/20 0:00</td>\n",
       "      <td>4135001</td>\n",
       "      <td>HmiyD2TTLFNqkNe</td>\n",
       "      <td>25.184316</td>\n",
       "      <td>22.857507</td>\n",
       "      <td>0.0</td>\n",
       "    </tr>\n",
       "    <tr>\n",
       "      <th>1</th>\n",
       "      <td>5/15/20 0:15</td>\n",
       "      <td>4135001</td>\n",
       "      <td>HmiyD2TTLFNqkNe</td>\n",
       "      <td>25.084589</td>\n",
       "      <td>22.761668</td>\n",
       "      <td>0.0</td>\n",
       "    </tr>\n",
       "    <tr>\n",
       "      <th>2</th>\n",
       "      <td>5/15/20 0:30</td>\n",
       "      <td>4135001</td>\n",
       "      <td>HmiyD2TTLFNqkNe</td>\n",
       "      <td>24.935753</td>\n",
       "      <td>22.592306</td>\n",
       "      <td>0.0</td>\n",
       "    </tr>\n",
       "    <tr>\n",
       "      <th>3</th>\n",
       "      <td>5/15/20 0:45</td>\n",
       "      <td>4135001</td>\n",
       "      <td>HmiyD2TTLFNqkNe</td>\n",
       "      <td>24.846130</td>\n",
       "      <td>22.360852</td>\n",
       "      <td>0.0</td>\n",
       "    </tr>\n",
       "    <tr>\n",
       "      <th>4</th>\n",
       "      <td>5/15/20 1:00</td>\n",
       "      <td>4135001</td>\n",
       "      <td>HmiyD2TTLFNqkNe</td>\n",
       "      <td>24.621525</td>\n",
       "      <td>22.165423</td>\n",
       "      <td>0.0</td>\n",
       "    </tr>\n",
       "  </tbody>\n",
       "</table>\n",
       "</div>"
      ],
      "text/plain": [
       "      DATE_TIME  PLANT_ID       SOURCE_KEY  AMBIENT_TEMPERATURE  \\\n",
       "0  5/15/20 0:00   4135001  HmiyD2TTLFNqkNe            25.184316   \n",
       "1  5/15/20 0:15   4135001  HmiyD2TTLFNqkNe            25.084589   \n",
       "2  5/15/20 0:30   4135001  HmiyD2TTLFNqkNe            24.935753   \n",
       "3  5/15/20 0:45   4135001  HmiyD2TTLFNqkNe            24.846130   \n",
       "4  5/15/20 1:00   4135001  HmiyD2TTLFNqkNe            24.621525   \n",
       "\n",
       "   MODULE_TEMPERATURE  IRRADIATION  \n",
       "0           22.857507          0.0  \n",
       "1           22.761668          0.0  \n",
       "2           22.592306          0.0  \n",
       "3           22.360852          0.0  \n",
       "4           22.165423          0.0  "
      ]
     },
     "metadata": {},
     "output_type": "display_data"
    }
   ],
   "source": [
    "#Reading in the data\n",
    "generation1 = pd.read_csv(\"Plant_1_Generation_Data.csv\",header=0)\n",
    "weather1 = pd.read_csv(\"Plant_1_Weather_Sensor_Data.csv\",header=0)\n",
    "raw_gen_samp=pd.DataFrame(generation1.head())\n",
    "raw_weather_samp = pd.DataFrame(weather1.head())\n",
    "\n",
    "print(f\"Generation Data Sample:\")\n",
    "display(raw_gen_samp)\n",
    "\n",
    "print(f\"Weather Data Sample:\")\n",
    "display(raw_weather_samp)\n"
   ]
  },
  {
   "cell_type": "code",
   "execution_count": 4,
   "metadata": {},
   "outputs": [],
   "source": [
    "\"\"\"Storing unique inverter keys as a list, before creating a dictionary mapping alphabetical letters to unique\n",
    "inverter keys.I use a list comprehension to loop through the alphabet and assign lower case letters alphabetically\n",
    "up to the lengthof the list of unique keys (22 letters). I did this because I find the convoluted inverter keys\n",
    "irritating to work with, so I renamed them.\"\"\"\n",
    "\n",
    "unique = generation1['SOURCE_KEY'].unique().tolist()\n",
    "alphabet = [letter for letter in string.ascii_lowercase][:len(unique)]\n",
    "code_mapping = zip(unique, alphabet)\n",
    "code_mapping = dict(code_mapping)"
   ]
  },
  {
   "cell_type": "code",
   "execution_count": 25,
   "metadata": {},
   "outputs": [
    {
     "data": {
      "text/html": [
       "<div>\n",
       "<style scoped>\n",
       "    .dataframe tbody tr th:only-of-type {\n",
       "        vertical-align: middle;\n",
       "    }\n",
       "\n",
       "    .dataframe tbody tr th {\n",
       "        vertical-align: top;\n",
       "    }\n",
       "\n",
       "    .dataframe thead th {\n",
       "        text-align: right;\n",
       "    }\n",
       "</style>\n",
       "<table border=\"1\" class=\"dataframe\">\n",
       "  <thead>\n",
       "    <tr style=\"text-align: right;\">\n",
       "      <th></th>\n",
       "      <th>DATE_TIME</th>\n",
       "      <th>PLANT_ID</th>\n",
       "      <th>SOURCE_KEY</th>\n",
       "      <th>DC_POWER</th>\n",
       "      <th>AC_POWER</th>\n",
       "      <th>DAILY_YIELD</th>\n",
       "      <th>TOTAL_YIELD</th>\n",
       "    </tr>\n",
       "  </thead>\n",
       "  <tbody>\n",
       "    <tr>\n",
       "      <th>0</th>\n",
       "      <td>15-05-2020 00:00</td>\n",
       "      <td>4135001</td>\n",
       "      <td>a</td>\n",
       "      <td>0.0</td>\n",
       "      <td>0.0</td>\n",
       "      <td>0.0</td>\n",
       "      <td>6259559.0</td>\n",
       "    </tr>\n",
       "    <tr>\n",
       "      <th>1</th>\n",
       "      <td>15-05-2020 00:00</td>\n",
       "      <td>4135001</td>\n",
       "      <td>b</td>\n",
       "      <td>0.0</td>\n",
       "      <td>0.0</td>\n",
       "      <td>0.0</td>\n",
       "      <td>6183645.0</td>\n",
       "    </tr>\n",
       "    <tr>\n",
       "      <th>2</th>\n",
       "      <td>15-05-2020 00:00</td>\n",
       "      <td>4135001</td>\n",
       "      <td>c</td>\n",
       "      <td>0.0</td>\n",
       "      <td>0.0</td>\n",
       "      <td>0.0</td>\n",
       "      <td>6987759.0</td>\n",
       "    </tr>\n",
       "    <tr>\n",
       "      <th>3</th>\n",
       "      <td>15-05-2020 00:00</td>\n",
       "      <td>4135001</td>\n",
       "      <td>d</td>\n",
       "      <td>0.0</td>\n",
       "      <td>0.0</td>\n",
       "      <td>0.0</td>\n",
       "      <td>7602960.0</td>\n",
       "    </tr>\n",
       "    <tr>\n",
       "      <th>4</th>\n",
       "      <td>15-05-2020 00:00</td>\n",
       "      <td>4135001</td>\n",
       "      <td>e</td>\n",
       "      <td>0.0</td>\n",
       "      <td>0.0</td>\n",
       "      <td>0.0</td>\n",
       "      <td>7158964.0</td>\n",
       "    </tr>\n",
       "  </tbody>\n",
       "</table>\n",
       "</div>"
      ],
      "text/plain": [
       "          DATE_TIME  PLANT_ID SOURCE_KEY  DC_POWER  AC_POWER  DAILY_YIELD  \\\n",
       "0  15-05-2020 00:00   4135001          a       0.0       0.0          0.0   \n",
       "1  15-05-2020 00:00   4135001          b       0.0       0.0          0.0   \n",
       "2  15-05-2020 00:00   4135001          c       0.0       0.0          0.0   \n",
       "3  15-05-2020 00:00   4135001          d       0.0       0.0          0.0   \n",
       "4  15-05-2020 00:00   4135001          e       0.0       0.0          0.0   \n",
       "\n",
       "   TOTAL_YIELD  \n",
       "0    6259559.0  \n",
       "1    6183645.0  \n",
       "2    6987759.0  \n",
       "3    7602960.0  \n",
       "4    7158964.0  "
      ]
     },
     "metadata": {},
     "output_type": "display_data"
    }
   ],
   "source": [
    "#replacing convoluted source keys with simple alphabetical keys using lambda function within .apply()\n",
    "generation1['SOURCE_KEY'] = generation1['SOURCE_KEY'].apply(lambda x: code_mapping.get(x))\n",
    "display(generation1.head())"
   ]
  },
  {
   "cell_type": "code",
   "execution_count": 6,
   "metadata": {},
   "outputs": [],
   "source": [
    "\"\"\"The two datasets cover the exact same date-times, but the date-time variables are formated differently in each. \n",
    "pd.to_datetime() reads one correctly, but completely misinterprets the other. I got around this (after some difficulty)\n",
    "by again using a lambda function to apply the datetime.strptime() method to the raw date variable in both \n",
    "datasets, using the proper datetime format for each dataset.\"\"\"\n",
    "\n",
    "generation1['DATE_TIME'] = generation1['DATE_TIME'].apply(lambda x: datetime.strptime(x, '%d-%m-%Y %H:%M'))\n",
    "weather1['DATE_TIME'] = weather1['DATE_TIME'].apply(lambda x: datetime.strptime(x, '%m/%d/%y %H:%M'))"
   ]
  },
  {
   "cell_type": "markdown",
   "metadata": {},
   "source": [
    "After this initial cleaning, I now have two pandas dataframes covering identical time spans. In the following code chunks I join the two datasets, then aggregate up from 15-minute intervals to one hour in order to have a more manageable single dataframe. Joining weather and generation data together is complicated by the fact that the generation dataset has 22 inverter observations for each timestamp, compared to the weather data with only one observation per. My approach is to left join weather to generation as a starting point. This creates duplicates in the weather data for the new set (violating normal form), but sets me up to aggregate on DATE_TIME, creating a dataframe with the sum and mean inverter-level AC and DC output for each interval, total project generation for each interval, and weather information from that point in time. \n",
    "\n",
    "Below I join the two datasets, I completed data transformations to add two additional inverter-level datapoints. Inverter efficiency is AC output per unit of DC input to each inverter (stored as a ratio):\n",
    "\n",
    "***Inverter Efficiency = AC Output / DC Input***\n",
    "\n",
    "My hypothesis is that inverter efficiency does not vary widely, but I want to look for a pattern if there is variance in the inverter efficiency variable. Solar systems are generally set up with one or more individual photovoltaic (PV) panels feeding to a single inverter. I want to see how each inverter's set of panels compare, and also examine project-level efficiency at different times of day. DC production efficiency is one measure of the photovoltaic (PV) generation efficiency from the string of panels connected to each inverter.  This is the classic formula for PV efficiency:\n",
    "\n",
    "\n",
    "<b><i>Efficiency = DC Output / (Irradiation * Panel Area)</i></b>\n",
    "\n",
    "Unfortunately, surface area information for each string of panels is not available for this solar project. I had to find a different method for calculating efficiency, and instead used a formula that estimates efficiency by relating actual output to maximum panel output under standard test conditions (STC). To do so I store an assumed value for STC output based on the National Renewable Energy Laboratory (NREL) statement that average STC power ratings for a crystalline silicon PV module range from about 250 to 360 Watts. I went with 300W. This allows me to apply the following formula to find panel efficiency (as a ratio of theoretical maximum production):\n",
    "\n",
    "<b><i>Efficiency = (DC Output / (STC Power * Irradiance))/100</i></b>\n",
    "\n",
    "This sets me up to examine generation efficiency as a function of weather factors and other variables, which could begin with simply correlation analysis. NOTE: I did elect to use an assumption here around power ratings for the panels. I acknowledge that the efficiency values I generate are estimates as a result. The assumption is based on NREL data, and I will build a model to describe variation in this efficiency value."
   ]
  },
  {
   "cell_type": "code",
   "execution_count": 7,
   "metadata": {},
   "outputs": [],
   "source": [
    "# function that takes a df as input and returns the column names along with a boolean \n",
    "# indicating the presence or absence of NaN values, and a count of any NA values.    \n",
    "\n",
    "def na_check(df_name):\n",
    "    na_present = np.where(df_name.isna().any(), 'yes', 'no')\n",
    "    na_count = df_name.isna().sum().values\n",
    "    df_result = pd.DataFrame({\n",
    "        'column_name': df_name.columns,\n",
    "        'is.na': na_present,\n",
    "        'count': na_count\n",
    "    })\n",
    "    return df_result\n"
   ]
  },
  {
   "cell_type": "code",
   "execution_count": 27,
   "metadata": {},
   "outputs": [],
   "source": [
    "# storing raw joined data as a separate df\n",
    "plant1_raw = pd.merge(generation1, weather1,on='DATE_TIME',how='left')\n",
    "# copying raw data to add additional variables\n",
    "plant1_df = plant1_raw\n",
    "\"\"\"creating new variables, \n",
    " This needs to be implemented in plant1_raw so I can compare individual inverter performances.\n",
    " Due to zero irradiation at night, I apply a minimum threshold to avoid NaN from dividing by zero.\"\"\"\n",
    " \n",
    "plant1_df['inverter_efficiency'] = ((plant1_df['AC_POWER'] / plant1_df['DC_POWER']).apply(lambda x: x if x > .0001 else 0))\n",
    "\n",
    "stc_power = 300 #rating in Watts, assumed value.\n",
    "#when irradiation is 0, automatically insert an efficiency of 0 rather than Nan. PV efficiency is always 0 when there is no sun!\n",
    "plant1_df['PV_efficiency'] = np.where(plant1_df['IRRADIATION'] == 0, 0, (plant1_df['DC_POWER'] / (stc_power * plant1_df['IRRADIATION'])) / 100)\n",
    "\n",
    "plant1_df_samp=pd.DataFrame(plant1_raw.iloc[1220:1260,:])\n",
    "\n",
    "na_check(plant1_df)\n",
    "\n",
    "plant1_df=plant1_df.dropna()\n",
    "\n"
   ]
  },
  {
   "cell_type": "markdown",
   "metadata": {},
   "source": [
    "The call to na_check() immediately above reveals that there are just 4 NA rows in the combined dataframe. I suspect these are just the result of the generation and weather dataframes being slightly mismatched. A quick examination of the combined dataframe confirmed that they are consecutive observations from the end of the generation data, that weather data does not exist for. I dropped these NA rows as incomplete and unnecessary to my analysis.\n",
    "\n",
    "Below I summarize the output of the entire project for a given 15-minute timestamp. I also wrote a function to assign electric grid demand categories to times of day, to add a categorical variable. \"Peak\" times are defined as weekdays from 7am to 11am and from 5pm to 9pm. \"Off-peak\" times are defined as weekdays from 11am to 5pm, weekdays from 7pm to 11pm, and weekends from 7am to 11pm. \"Night\" times are defined as all other times. I can tweak these as needed, but this variable will also be useful to model and subset the data. "
   ]
  },
  {
   "cell_type": "code",
   "execution_count": 9,
   "metadata": {},
   "outputs": [
    {
     "data": {
      "text/html": [
       "<div>\n",
       "<style scoped>\n",
       "    .dataframe tbody tr th:only-of-type {\n",
       "        vertical-align: middle;\n",
       "    }\n",
       "\n",
       "    .dataframe tbody tr th {\n",
       "        vertical-align: top;\n",
       "    }\n",
       "\n",
       "    .dataframe thead th {\n",
       "        text-align: right;\n",
       "    }\n",
       "</style>\n",
       "<table border=\"1\" class=\"dataframe\">\n",
       "  <thead>\n",
       "    <tr style=\"text-align: right;\">\n",
       "      <th></th>\n",
       "      <th>column_name</th>\n",
       "      <th>is.na</th>\n",
       "      <th>count</th>\n",
       "    </tr>\n",
       "  </thead>\n",
       "  <tbody>\n",
       "    <tr>\n",
       "      <th>0</th>\n",
       "      <td>DATE_TIME</td>\n",
       "      <td>no</td>\n",
       "      <td>0</td>\n",
       "    </tr>\n",
       "    <tr>\n",
       "      <th>1</th>\n",
       "      <td>total_DC</td>\n",
       "      <td>no</td>\n",
       "      <td>0</td>\n",
       "    </tr>\n",
       "    <tr>\n",
       "      <th>2</th>\n",
       "      <td>total_AC</td>\n",
       "      <td>no</td>\n",
       "      <td>0</td>\n",
       "    </tr>\n",
       "    <tr>\n",
       "      <th>3</th>\n",
       "      <td>avg_DC</td>\n",
       "      <td>no</td>\n",
       "      <td>0</td>\n",
       "    </tr>\n",
       "    <tr>\n",
       "      <th>4</th>\n",
       "      <td>avg_AC</td>\n",
       "      <td>no</td>\n",
       "      <td>0</td>\n",
       "    </tr>\n",
       "    <tr>\n",
       "      <th>5</th>\n",
       "      <td>avg_temp</td>\n",
       "      <td>no</td>\n",
       "      <td>0</td>\n",
       "    </tr>\n",
       "    <tr>\n",
       "      <th>6</th>\n",
       "      <td>avg_module_temp</td>\n",
       "      <td>no</td>\n",
       "      <td>0</td>\n",
       "    </tr>\n",
       "    <tr>\n",
       "      <th>7</th>\n",
       "      <td>avg_irrad</td>\n",
       "      <td>no</td>\n",
       "      <td>0</td>\n",
       "    </tr>\n",
       "    <tr>\n",
       "      <th>8</th>\n",
       "      <td>avg_inverter_effic</td>\n",
       "      <td>no</td>\n",
       "      <td>0</td>\n",
       "    </tr>\n",
       "    <tr>\n",
       "      <th>9</th>\n",
       "      <td>avg_PV_effic</td>\n",
       "      <td>no</td>\n",
       "      <td>0</td>\n",
       "    </tr>\n",
       "    <tr>\n",
       "      <th>10</th>\n",
       "      <td>grid_intensity</td>\n",
       "      <td>no</td>\n",
       "      <td>0</td>\n",
       "    </tr>\n",
       "  </tbody>\n",
       "</table>\n",
       "</div>"
      ],
      "text/plain": [
       "           column_name is.na  count\n",
       "0            DATE_TIME    no      0\n",
       "1             total_DC    no      0\n",
       "2             total_AC    no      0\n",
       "3               avg_DC    no      0\n",
       "4               avg_AC    no      0\n",
       "5             avg_temp    no      0\n",
       "6      avg_module_temp    no      0\n",
       "7            avg_irrad    no      0\n",
       "8   avg_inverter_effic    no      0\n",
       "9         avg_PV_effic    no      0\n",
       "10      grid_intensity    no      0"
      ]
     },
     "execution_count": 9,
     "metadata": {},
     "output_type": "execute_result"
    }
   ],
   "source": [
    "\"\"\"Aggregating on datetime to create a project level dataframe. Variables include total \n",
    "project-level outputs (DC+AC), mean inverter-level outputs, and mean weather outputs. \n",
    "tagged to the original weather data. Sample provided from May 28, 2020 provided.\"\"\"\n",
    "\n",
    "plant1_aggregate = plant1_df.groupby(\"DATE_TIME\",as_index=False).agg(\n",
    "    total_DC = (\"DC_POWER\",np.sum),\n",
    "    total_AC = (\"AC_POWER\",np.sum),\n",
    "    #below: mean inverter-level DC and AC output for each 15 minute interval\n",
    "    avg_DC = (\"DC_POWER\",np.mean),\n",
    "    avg_AC = (\"AC_POWER\",np.mean),\n",
    "    avg_temp = (\"AMBIENT_TEMPERATURE\",np.mean),\n",
    "    avg_module_temp = (\"MODULE_TEMPERATURE\",np.mean),\n",
    "    avg_irrad = (\"IRRADIATION\",np.mean),\n",
    "    avg_inverter_effic = (\"inverter_efficiency\",np.mean),\n",
    "    avg_PV_effic =(\"PV_efficiency\",np.mean)\n",
    ")\n",
    "plant1_aggregate_samp = pd.DataFrame(plant1_aggregate.iloc[1220:1260,:])\n",
    "\n",
    "plant1_aggregate = plant1_aggregate.round(2)\n",
    "# function to assign grid utilization intensity based on time of day / day of week\n",
    "def classify_time(datetime_val):\n",
    "    hour = datetime_val.hour\n",
    "    dayofweek = datetime_val.dayofweek\n",
    "    \n",
    "    if ((hour >= 7) & (hour <= 11) & (dayofweek <= 4)) | ((hour >= 17) & (hour <= 21) & (dayofweek <= 4)):\n",
    "        return 'peak'\n",
    "    elif (hour >= 22) | (hour <= 6):\n",
    "        return 'night'\n",
    "    else:\n",
    "        return 'off-peak'\n",
    "\n",
    "plant1_aggregate_samp[\"grid_intensity\"]=plant1_aggregate_samp[\"DATE_TIME\"].apply(classify_time)\n",
    "plant1_aggregate[\"grid_intensity\"]=plant1_aggregate[\"DATE_TIME\"].apply(classify_time)\n",
    "#No More NA!\n",
    "na_check(plant1_aggregate)\n"
   ]
  },
  {
   "cell_type": "code",
   "execution_count": 28,
   "metadata": {},
   "outputs": [
    {
     "data": {
      "text/html": [
       "<div>\n",
       "<style scoped>\n",
       "    .dataframe tbody tr th:only-of-type {\n",
       "        vertical-align: middle;\n",
       "    }\n",
       "\n",
       "    .dataframe tbody tr th {\n",
       "        vertical-align: top;\n",
       "    }\n",
       "\n",
       "    .dataframe thead th {\n",
       "        text-align: right;\n",
       "    }\n",
       "</style>\n",
       "<table border=\"1\" class=\"dataframe\">\n",
       "  <thead>\n",
       "    <tr style=\"text-align: right;\">\n",
       "      <th></th>\n",
       "      <th>DATE_TIME</th>\n",
       "      <th>total_DC</th>\n",
       "      <th>total_AC</th>\n",
       "      <th>avg_DC</th>\n",
       "      <th>avg_AC</th>\n",
       "      <th>avg_temp</th>\n",
       "      <th>avg_module_temp</th>\n",
       "      <th>avg_irrad</th>\n",
       "      <th>avg_inverter_effic</th>\n",
       "      <th>avg_PV_effic</th>\n",
       "      <th>grid_intensity</th>\n",
       "    </tr>\n",
       "  </thead>\n",
       "  <tbody>\n",
       "    <tr>\n",
       "      <th>0</th>\n",
       "      <td>2020-05-15 00:00:00</td>\n",
       "      <td>0.00</td>\n",
       "      <td>0.00</td>\n",
       "      <td>0.00</td>\n",
       "      <td>0.00</td>\n",
       "      <td>25.01</td>\n",
       "      <td>22.64</td>\n",
       "      <td>0.00</td>\n",
       "      <td>0.00</td>\n",
       "      <td>0.00</td>\n",
       "      <td>night</td>\n",
       "    </tr>\n",
       "    <tr>\n",
       "      <th>1</th>\n",
       "      <td>2020-05-15 01:00:00</td>\n",
       "      <td>0.00</td>\n",
       "      <td>0.00</td>\n",
       "      <td>0.00</td>\n",
       "      <td>0.00</td>\n",
       "      <td>24.67</td>\n",
       "      <td>22.41</td>\n",
       "      <td>0.00</td>\n",
       "      <td>0.00</td>\n",
       "      <td>0.00</td>\n",
       "      <td>night</td>\n",
       "    </tr>\n",
       "    <tr>\n",
       "      <th>2</th>\n",
       "      <td>2020-05-15 02:00:00</td>\n",
       "      <td>0.00</td>\n",
       "      <td>0.00</td>\n",
       "      <td>0.00</td>\n",
       "      <td>0.00</td>\n",
       "      <td>24.99</td>\n",
       "      <td>23.51</td>\n",
       "      <td>0.00</td>\n",
       "      <td>0.00</td>\n",
       "      <td>0.00</td>\n",
       "      <td>night</td>\n",
       "    </tr>\n",
       "    <tr>\n",
       "      <th>3</th>\n",
       "      <td>2020-05-15 03:00:00</td>\n",
       "      <td>0.00</td>\n",
       "      <td>0.00</td>\n",
       "      <td>0.00</td>\n",
       "      <td>0.00</td>\n",
       "      <td>24.96</td>\n",
       "      <td>24.12</td>\n",
       "      <td>0.00</td>\n",
       "      <td>0.00</td>\n",
       "      <td>0.00</td>\n",
       "      <td>night</td>\n",
       "    </tr>\n",
       "    <tr>\n",
       "      <th>4</th>\n",
       "      <td>2020-05-15 04:00:00</td>\n",
       "      <td>0.00</td>\n",
       "      <td>0.00</td>\n",
       "      <td>0.00</td>\n",
       "      <td>0.00</td>\n",
       "      <td>24.28</td>\n",
       "      <td>22.13</td>\n",
       "      <td>0.00</td>\n",
       "      <td>0.00</td>\n",
       "      <td>0.00</td>\n",
       "      <td>night</td>\n",
       "    </tr>\n",
       "    <tr>\n",
       "      <th>5</th>\n",
       "      <td>2020-05-15 05:00:00</td>\n",
       "      <td>0.00</td>\n",
       "      <td>0.00</td>\n",
       "      <td>0.00</td>\n",
       "      <td>0.00</td>\n",
       "      <td>24.28</td>\n",
       "      <td>23.02</td>\n",
       "      <td>0.00</td>\n",
       "      <td>0.00</td>\n",
       "      <td>0.00</td>\n",
       "      <td>night</td>\n",
       "    </tr>\n",
       "    <tr>\n",
       "      <th>6</th>\n",
       "      <td>2020-05-15 06:00:00</td>\n",
       "      <td>50981.99</td>\n",
       "      <td>4954.91</td>\n",
       "      <td>583.17</td>\n",
       "      <td>56.68</td>\n",
       "      <td>24.08</td>\n",
       "      <td>22.97</td>\n",
       "      <td>0.04</td>\n",
       "      <td>0.10</td>\n",
       "      <td>0.40</td>\n",
       "      <td>night</td>\n",
       "    </tr>\n",
       "    <tr>\n",
       "      <th>7</th>\n",
       "      <td>2020-05-15 07:00:00</td>\n",
       "      <td>173925.30</td>\n",
       "      <td>17049.41</td>\n",
       "      <td>1976.43</td>\n",
       "      <td>193.74</td>\n",
       "      <td>24.89</td>\n",
       "      <td>28.81</td>\n",
       "      <td>0.15</td>\n",
       "      <td>0.10</td>\n",
       "      <td>0.44</td>\n",
       "      <td>peak</td>\n",
       "    </tr>\n",
       "    <tr>\n",
       "      <th>8</th>\n",
       "      <td>2020-05-15 08:00:00</td>\n",
       "      <td>371406.99</td>\n",
       "      <td>36443.34</td>\n",
       "      <td>4220.54</td>\n",
       "      <td>414.13</td>\n",
       "      <td>26.16</td>\n",
       "      <td>36.58</td>\n",
       "      <td>0.32</td>\n",
       "      <td>0.10</td>\n",
       "      <td>0.45</td>\n",
       "      <td>peak</td>\n",
       "    </tr>\n",
       "    <tr>\n",
       "      <th>9</th>\n",
       "      <td>2020-05-15 09:00:00</td>\n",
       "      <td>502317.20</td>\n",
       "      <td>49208.69</td>\n",
       "      <td>5708.15</td>\n",
       "      <td>559.19</td>\n",
       "      <td>27.64</td>\n",
       "      <td>42.92</td>\n",
       "      <td>0.44</td>\n",
       "      <td>0.10</td>\n",
       "      <td>0.44</td>\n",
       "      <td>peak</td>\n",
       "    </tr>\n",
       "    <tr>\n",
       "      <th>10</th>\n",
       "      <td>2020-05-15 10:00:00</td>\n",
       "      <td>583969.54</td>\n",
       "      <td>57168.97</td>\n",
       "      <td>6636.02</td>\n",
       "      <td>649.65</td>\n",
       "      <td>28.90</td>\n",
       "      <td>48.37</td>\n",
       "      <td>0.52</td>\n",
       "      <td>0.10</td>\n",
       "      <td>0.43</td>\n",
       "      <td>peak</td>\n",
       "    </tr>\n",
       "    <tr>\n",
       "      <th>11</th>\n",
       "      <td>2020-05-15 11:00:00</td>\n",
       "      <td>677146.63</td>\n",
       "      <td>66229.14</td>\n",
       "      <td>7694.85</td>\n",
       "      <td>752.60</td>\n",
       "      <td>30.18</td>\n",
       "      <td>48.84</td>\n",
       "      <td>0.56</td>\n",
       "      <td>0.10</td>\n",
       "      <td>0.46</td>\n",
       "      <td>peak</td>\n",
       "    </tr>\n",
       "    <tr>\n",
       "      <th>12</th>\n",
       "      <td>2020-05-15 12:00:00</td>\n",
       "      <td>772694.84</td>\n",
       "      <td>75540.44</td>\n",
       "      <td>8780.62</td>\n",
       "      <td>858.42</td>\n",
       "      <td>31.84</td>\n",
       "      <td>50.50</td>\n",
       "      <td>0.68</td>\n",
       "      <td>0.10</td>\n",
       "      <td>0.44</td>\n",
       "      <td>off-peak</td>\n",
       "    </tr>\n",
       "    <tr>\n",
       "      <th>13</th>\n",
       "      <td>2020-05-15 13:00:00</td>\n",
       "      <td>626126.96</td>\n",
       "      <td>61310.27</td>\n",
       "      <td>7115.08</td>\n",
       "      <td>696.71</td>\n",
       "      <td>32.58</td>\n",
       "      <td>47.70</td>\n",
       "      <td>0.51</td>\n",
       "      <td>0.10</td>\n",
       "      <td>0.46</td>\n",
       "      <td>off-peak</td>\n",
       "    </tr>\n",
       "    <tr>\n",
       "      <th>14</th>\n",
       "      <td>2020-05-15 14:00:00</td>\n",
       "      <td>785869.46</td>\n",
       "      <td>76811.88</td>\n",
       "      <td>8930.33</td>\n",
       "      <td>872.86</td>\n",
       "      <td>33.92</td>\n",
       "      <td>51.74</td>\n",
       "      <td>0.66</td>\n",
       "      <td>0.10</td>\n",
       "      <td>0.45</td>\n",
       "      <td>off-peak</td>\n",
       "    </tr>\n",
       "    <tr>\n",
       "      <th>15</th>\n",
       "      <td>2020-05-15 15:00:00</td>\n",
       "      <td>546353.00</td>\n",
       "      <td>53521.49</td>\n",
       "      <td>6208.56</td>\n",
       "      <td>608.20</td>\n",
       "      <td>34.19</td>\n",
       "      <td>45.24</td>\n",
       "      <td>0.44</td>\n",
       "      <td>0.10</td>\n",
       "      <td>0.48</td>\n",
       "      <td>off-peak</td>\n",
       "    </tr>\n",
       "    <tr>\n",
       "      <th>16</th>\n",
       "      <td>2020-05-15 16:00:00</td>\n",
       "      <td>390470.51</td>\n",
       "      <td>38321.89</td>\n",
       "      <td>4437.16</td>\n",
       "      <td>435.48</td>\n",
       "      <td>34.18</td>\n",
       "      <td>41.26</td>\n",
       "      <td>0.32</td>\n",
       "      <td>0.10</td>\n",
       "      <td>0.46</td>\n",
       "      <td>off-peak</td>\n",
       "    </tr>\n",
       "    <tr>\n",
       "      <th>17</th>\n",
       "      <td>2020-05-15 17:00:00</td>\n",
       "      <td>137272.51</td>\n",
       "      <td>13430.03</td>\n",
       "      <td>1559.92</td>\n",
       "      <td>152.61</td>\n",
       "      <td>33.02</td>\n",
       "      <td>34.64</td>\n",
       "      <td>0.12</td>\n",
       "      <td>0.10</td>\n",
       "      <td>0.45</td>\n",
       "      <td>peak</td>\n",
       "    </tr>\n",
       "    <tr>\n",
       "      <th>18</th>\n",
       "      <td>2020-05-15 18:00:00</td>\n",
       "      <td>8704.22</td>\n",
       "      <td>840.53</td>\n",
       "      <td>98.91</td>\n",
       "      <td>9.55</td>\n",
       "      <td>29.19</td>\n",
       "      <td>28.04</td>\n",
       "      <td>0.01</td>\n",
       "      <td>0.05</td>\n",
       "      <td>0.20</td>\n",
       "      <td>peak</td>\n",
       "    </tr>\n",
       "    <tr>\n",
       "      <th>19</th>\n",
       "      <td>2020-05-15 19:00:00</td>\n",
       "      <td>0.00</td>\n",
       "      <td>0.00</td>\n",
       "      <td>0.00</td>\n",
       "      <td>0.00</td>\n",
       "      <td>26.34</td>\n",
       "      <td>24.71</td>\n",
       "      <td>0.00</td>\n",
       "      <td>0.00</td>\n",
       "      <td>0.00</td>\n",
       "      <td>peak</td>\n",
       "    </tr>\n",
       "    <tr>\n",
       "      <th>20</th>\n",
       "      <td>2020-05-15 20:00:00</td>\n",
       "      <td>0.00</td>\n",
       "      <td>0.00</td>\n",
       "      <td>0.00</td>\n",
       "      <td>0.00</td>\n",
       "      <td>22.60</td>\n",
       "      <td>20.43</td>\n",
       "      <td>0.00</td>\n",
       "      <td>0.00</td>\n",
       "      <td>0.00</td>\n",
       "      <td>peak</td>\n",
       "    </tr>\n",
       "    <tr>\n",
       "      <th>21</th>\n",
       "      <td>2020-05-15 21:00:00</td>\n",
       "      <td>0.00</td>\n",
       "      <td>0.00</td>\n",
       "      <td>0.00</td>\n",
       "      <td>0.00</td>\n",
       "      <td>22.19</td>\n",
       "      <td>20.74</td>\n",
       "      <td>0.00</td>\n",
       "      <td>0.00</td>\n",
       "      <td>0.00</td>\n",
       "      <td>peak</td>\n",
       "    </tr>\n",
       "    <tr>\n",
       "      <th>22</th>\n",
       "      <td>2020-05-15 22:00:00</td>\n",
       "      <td>0.00</td>\n",
       "      <td>0.00</td>\n",
       "      <td>0.00</td>\n",
       "      <td>0.00</td>\n",
       "      <td>22.13</td>\n",
       "      <td>20.88</td>\n",
       "      <td>0.00</td>\n",
       "      <td>0.00</td>\n",
       "      <td>0.00</td>\n",
       "      <td>night</td>\n",
       "    </tr>\n",
       "    <tr>\n",
       "      <th>23</th>\n",
       "      <td>2020-05-15 23:00:00</td>\n",
       "      <td>0.00</td>\n",
       "      <td>0.00</td>\n",
       "      <td>0.00</td>\n",
       "      <td>0.00</td>\n",
       "      <td>22.24</td>\n",
       "      <td>21.24</td>\n",
       "      <td>0.00</td>\n",
       "      <td>0.00</td>\n",
       "      <td>0.00</td>\n",
       "      <td>night</td>\n",
       "    </tr>\n",
       "    <tr>\n",
       "      <th>24</th>\n",
       "      <td>2020-05-16 02:00:00</td>\n",
       "      <td>0.00</td>\n",
       "      <td>0.00</td>\n",
       "      <td>0.00</td>\n",
       "      <td>0.00</td>\n",
       "      <td>21.60</td>\n",
       "      <td>19.80</td>\n",
       "      <td>0.00</td>\n",
       "      <td>0.00</td>\n",
       "      <td>0.00</td>\n",
       "      <td>night</td>\n",
       "    </tr>\n",
       "    <tr>\n",
       "      <th>25</th>\n",
       "      <td>2020-05-16 03:00:00</td>\n",
       "      <td>0.00</td>\n",
       "      <td>0.00</td>\n",
       "      <td>0.00</td>\n",
       "      <td>0.00</td>\n",
       "      <td>21.71</td>\n",
       "      <td>20.26</td>\n",
       "      <td>0.00</td>\n",
       "      <td>0.00</td>\n",
       "      <td>0.00</td>\n",
       "      <td>night</td>\n",
       "    </tr>\n",
       "    <tr>\n",
       "      <th>26</th>\n",
       "      <td>2020-05-16 04:00:00</td>\n",
       "      <td>0.00</td>\n",
       "      <td>0.00</td>\n",
       "      <td>0.00</td>\n",
       "      <td>0.00</td>\n",
       "      <td>21.93</td>\n",
       "      <td>20.76</td>\n",
       "      <td>0.00</td>\n",
       "      <td>0.00</td>\n",
       "      <td>0.00</td>\n",
       "      <td>night</td>\n",
       "    </tr>\n",
       "    <tr>\n",
       "      <th>27</th>\n",
       "      <td>2020-05-16 05:00:00</td>\n",
       "      <td>0.00</td>\n",
       "      <td>0.00</td>\n",
       "      <td>0.00</td>\n",
       "      <td>0.00</td>\n",
       "      <td>21.91</td>\n",
       "      <td>20.61</td>\n",
       "      <td>0.00</td>\n",
       "      <td>0.00</td>\n",
       "      <td>0.00</td>\n",
       "      <td>night</td>\n",
       "    </tr>\n",
       "    <tr>\n",
       "      <th>28</th>\n",
       "      <td>2020-05-16 06:00:00</td>\n",
       "      <td>48975.18</td>\n",
       "      <td>4751.60</td>\n",
       "      <td>556.54</td>\n",
       "      <td>54.00</td>\n",
       "      <td>21.98</td>\n",
       "      <td>21.02</td>\n",
       "      <td>0.04</td>\n",
       "      <td>0.10</td>\n",
       "      <td>0.43</td>\n",
       "      <td>night</td>\n",
       "    </tr>\n",
       "    <tr>\n",
       "      <th>29</th>\n",
       "      <td>2020-05-16 07:00:00</td>\n",
       "      <td>207292.56</td>\n",
       "      <td>20330.69</td>\n",
       "      <td>2355.60</td>\n",
       "      <td>231.03</td>\n",
       "      <td>22.87</td>\n",
       "      <td>25.24</td>\n",
       "      <td>0.16</td>\n",
       "      <td>0.10</td>\n",
       "      <td>0.47</td>\n",
       "      <td>off-peak</td>\n",
       "    </tr>\n",
       "    <tr>\n",
       "      <th>30</th>\n",
       "      <td>2020-05-16 08:00:00</td>\n",
       "      <td>470620.55</td>\n",
       "      <td>46142.80</td>\n",
       "      <td>5347.96</td>\n",
       "      <td>524.35</td>\n",
       "      <td>24.81</td>\n",
       "      <td>34.83</td>\n",
       "      <td>0.38</td>\n",
       "      <td>0.10</td>\n",
       "      <td>0.46</td>\n",
       "      <td>off-peak</td>\n",
       "    </tr>\n",
       "    <tr>\n",
       "      <th>31</th>\n",
       "      <td>2020-05-16 09:00:00</td>\n",
       "      <td>559489.08</td>\n",
       "      <td>54808.95</td>\n",
       "      <td>6357.83</td>\n",
       "      <td>622.83</td>\n",
       "      <td>26.48</td>\n",
       "      <td>39.94</td>\n",
       "      <td>0.46</td>\n",
       "      <td>0.10</td>\n",
       "      <td>0.46</td>\n",
       "      <td>off-peak</td>\n",
       "    </tr>\n",
       "    <tr>\n",
       "      <th>32</th>\n",
       "      <td>2020-05-16 10:00:00</td>\n",
       "      <td>708576.72</td>\n",
       "      <td>69340.06</td>\n",
       "      <td>8052.01</td>\n",
       "      <td>787.95</td>\n",
       "      <td>28.15</td>\n",
       "      <td>47.41</td>\n",
       "      <td>0.55</td>\n",
       "      <td>0.10</td>\n",
       "      <td>0.49</td>\n",
       "      <td>off-peak</td>\n",
       "    </tr>\n",
       "    <tr>\n",
       "      <th>33</th>\n",
       "      <td>2020-05-16 11:00:00</td>\n",
       "      <td>697296.64</td>\n",
       "      <td>68245.96</td>\n",
       "      <td>7923.82</td>\n",
       "      <td>775.52</td>\n",
       "      <td>29.52</td>\n",
       "      <td>47.71</td>\n",
       "      <td>0.56</td>\n",
       "      <td>0.10</td>\n",
       "      <td>0.47</td>\n",
       "      <td>off-peak</td>\n",
       "    </tr>\n",
       "    <tr>\n",
       "      <th>34</th>\n",
       "      <td>2020-05-16 12:00:00</td>\n",
       "      <td>837437.95</td>\n",
       "      <td>81862.98</td>\n",
       "      <td>9516.34</td>\n",
       "      <td>930.26</td>\n",
       "      <td>30.64</td>\n",
       "      <td>50.86</td>\n",
       "      <td>0.70</td>\n",
       "      <td>0.10</td>\n",
       "      <td>0.46</td>\n",
       "      <td>off-peak</td>\n",
       "    </tr>\n",
       "    <tr>\n",
       "      <th>35</th>\n",
       "      <td>2020-05-16 13:00:00</td>\n",
       "      <td>766125.40</td>\n",
       "      <td>74936.03</td>\n",
       "      <td>8705.97</td>\n",
       "      <td>851.54</td>\n",
       "      <td>31.49</td>\n",
       "      <td>50.49</td>\n",
       "      <td>0.61</td>\n",
       "      <td>0.10</td>\n",
       "      <td>0.47</td>\n",
       "      <td>off-peak</td>\n",
       "    </tr>\n",
       "    <tr>\n",
       "      <th>36</th>\n",
       "      <td>2020-05-16 14:00:00</td>\n",
       "      <td>650535.37</td>\n",
       "      <td>63690.11</td>\n",
       "      <td>7392.45</td>\n",
       "      <td>723.75</td>\n",
       "      <td>32.00</td>\n",
       "      <td>47.24</td>\n",
       "      <td>0.52</td>\n",
       "      <td>0.10</td>\n",
       "      <td>0.47</td>\n",
       "      <td>off-peak</td>\n",
       "    </tr>\n",
       "    <tr>\n",
       "      <th>37</th>\n",
       "      <td>2020-05-16 15:00:00</td>\n",
       "      <td>484587.61</td>\n",
       "      <td>47503.28</td>\n",
       "      <td>5506.68</td>\n",
       "      <td>539.81</td>\n",
       "      <td>32.35</td>\n",
       "      <td>43.65</td>\n",
       "      <td>0.38</td>\n",
       "      <td>0.10</td>\n",
       "      <td>0.48</td>\n",
       "      <td>off-peak</td>\n",
       "    </tr>\n",
       "    <tr>\n",
       "      <th>38</th>\n",
       "      <td>2020-05-16 16:00:00</td>\n",
       "      <td>242881.41</td>\n",
       "      <td>23837.97</td>\n",
       "      <td>2760.02</td>\n",
       "      <td>270.88</td>\n",
       "      <td>31.95</td>\n",
       "      <td>36.14</td>\n",
       "      <td>0.19</td>\n",
       "      <td>0.10</td>\n",
       "      <td>0.49</td>\n",
       "      <td>off-peak</td>\n",
       "    </tr>\n",
       "    <tr>\n",
       "      <th>39</th>\n",
       "      <td>2020-05-16 17:00:00</td>\n",
       "      <td>120922.43</td>\n",
       "      <td>11808.23</td>\n",
       "      <td>1374.12</td>\n",
       "      <td>134.18</td>\n",
       "      <td>31.41</td>\n",
       "      <td>32.05</td>\n",
       "      <td>0.09</td>\n",
       "      <td>0.10</td>\n",
       "      <td>0.49</td>\n",
       "      <td>off-peak</td>\n",
       "    </tr>\n",
       "    <tr>\n",
       "      <th>40</th>\n",
       "      <td>2020-05-16 18:00:00</td>\n",
       "      <td>11396.61</td>\n",
       "      <td>1101.16</td>\n",
       "      <td>129.51</td>\n",
       "      <td>12.51</td>\n",
       "      <td>29.38</td>\n",
       "      <td>26.68</td>\n",
       "      <td>0.01</td>\n",
       "      <td>0.05</td>\n",
       "      <td>0.24</td>\n",
       "      <td>off-peak</td>\n",
       "    </tr>\n",
       "    <tr>\n",
       "      <th>41</th>\n",
       "      <td>2020-05-16 19:00:00</td>\n",
       "      <td>0.00</td>\n",
       "      <td>0.00</td>\n",
       "      <td>0.00</td>\n",
       "      <td>0.00</td>\n",
       "      <td>27.78</td>\n",
       "      <td>25.18</td>\n",
       "      <td>0.00</td>\n",
       "      <td>0.00</td>\n",
       "      <td>0.00</td>\n",
       "      <td>off-peak</td>\n",
       "    </tr>\n",
       "    <tr>\n",
       "      <th>42</th>\n",
       "      <td>2020-05-16 20:00:00</td>\n",
       "      <td>0.00</td>\n",
       "      <td>0.00</td>\n",
       "      <td>0.00</td>\n",
       "      <td>0.00</td>\n",
       "      <td>26.61</td>\n",
       "      <td>24.01</td>\n",
       "      <td>0.00</td>\n",
       "      <td>0.00</td>\n",
       "      <td>0.00</td>\n",
       "      <td>off-peak</td>\n",
       "    </tr>\n",
       "    <tr>\n",
       "      <th>43</th>\n",
       "      <td>2020-05-16 21:00:00</td>\n",
       "      <td>0.00</td>\n",
       "      <td>0.00</td>\n",
       "      <td>0.00</td>\n",
       "      <td>0.00</td>\n",
       "      <td>25.51</td>\n",
       "      <td>22.84</td>\n",
       "      <td>0.00</td>\n",
       "      <td>0.00</td>\n",
       "      <td>0.00</td>\n",
       "      <td>off-peak</td>\n",
       "    </tr>\n",
       "    <tr>\n",
       "      <th>44</th>\n",
       "      <td>2020-05-16 22:00:00</td>\n",
       "      <td>0.00</td>\n",
       "      <td>0.00</td>\n",
       "      <td>0.00</td>\n",
       "      <td>0.00</td>\n",
       "      <td>24.75</td>\n",
       "      <td>22.10</td>\n",
       "      <td>0.00</td>\n",
       "      <td>0.00</td>\n",
       "      <td>0.00</td>\n",
       "      <td>night</td>\n",
       "    </tr>\n",
       "    <tr>\n",
       "      <th>45</th>\n",
       "      <td>2020-05-16 23:00:00</td>\n",
       "      <td>0.00</td>\n",
       "      <td>0.00</td>\n",
       "      <td>0.00</td>\n",
       "      <td>0.00</td>\n",
       "      <td>24.37</td>\n",
       "      <td>22.08</td>\n",
       "      <td>0.00</td>\n",
       "      <td>0.00</td>\n",
       "      <td>0.00</td>\n",
       "      <td>night</td>\n",
       "    </tr>\n",
       "    <tr>\n",
       "      <th>46</th>\n",
       "      <td>2020-05-17 00:00:00</td>\n",
       "      <td>0.00</td>\n",
       "      <td>0.00</td>\n",
       "      <td>0.00</td>\n",
       "      <td>0.00</td>\n",
       "      <td>24.00</td>\n",
       "      <td>21.57</td>\n",
       "      <td>0.00</td>\n",
       "      <td>0.00</td>\n",
       "      <td>0.00</td>\n",
       "      <td>night</td>\n",
       "    </tr>\n",
       "    <tr>\n",
       "      <th>47</th>\n",
       "      <td>2020-05-17 01:00:00</td>\n",
       "      <td>0.00</td>\n",
       "      <td>0.00</td>\n",
       "      <td>0.00</td>\n",
       "      <td>0.00</td>\n",
       "      <td>23.78</td>\n",
       "      <td>21.62</td>\n",
       "      <td>0.00</td>\n",
       "      <td>0.00</td>\n",
       "      <td>0.00</td>\n",
       "      <td>night</td>\n",
       "    </tr>\n",
       "    <tr>\n",
       "      <th>48</th>\n",
       "      <td>2020-05-17 02:00:00</td>\n",
       "      <td>0.00</td>\n",
       "      <td>0.00</td>\n",
       "      <td>0.00</td>\n",
       "      <td>0.00</td>\n",
       "      <td>23.41</td>\n",
       "      <td>21.34</td>\n",
       "      <td>0.00</td>\n",
       "      <td>0.00</td>\n",
       "      <td>0.00</td>\n",
       "      <td>night</td>\n",
       "    </tr>\n",
       "    <tr>\n",
       "      <th>49</th>\n",
       "      <td>2020-05-17 03:00:00</td>\n",
       "      <td>0.00</td>\n",
       "      <td>0.00</td>\n",
       "      <td>0.00</td>\n",
       "      <td>0.00</td>\n",
       "      <td>23.10</td>\n",
       "      <td>21.16</td>\n",
       "      <td>0.00</td>\n",
       "      <td>0.00</td>\n",
       "      <td>0.00</td>\n",
       "      <td>night</td>\n",
       "    </tr>\n",
       "  </tbody>\n",
       "</table>\n",
       "</div>"
      ],
      "text/plain": [
       "             DATE_TIME   total_DC  total_AC   avg_DC  avg_AC  avg_temp  \\\n",
       "0  2020-05-15 00:00:00       0.00      0.00     0.00    0.00     25.01   \n",
       "1  2020-05-15 01:00:00       0.00      0.00     0.00    0.00     24.67   \n",
       "2  2020-05-15 02:00:00       0.00      0.00     0.00    0.00     24.99   \n",
       "3  2020-05-15 03:00:00       0.00      0.00     0.00    0.00     24.96   \n",
       "4  2020-05-15 04:00:00       0.00      0.00     0.00    0.00     24.28   \n",
       "5  2020-05-15 05:00:00       0.00      0.00     0.00    0.00     24.28   \n",
       "6  2020-05-15 06:00:00   50981.99   4954.91   583.17   56.68     24.08   \n",
       "7  2020-05-15 07:00:00  173925.30  17049.41  1976.43  193.74     24.89   \n",
       "8  2020-05-15 08:00:00  371406.99  36443.34  4220.54  414.13     26.16   \n",
       "9  2020-05-15 09:00:00  502317.20  49208.69  5708.15  559.19     27.64   \n",
       "10 2020-05-15 10:00:00  583969.54  57168.97  6636.02  649.65     28.90   \n",
       "11 2020-05-15 11:00:00  677146.63  66229.14  7694.85  752.60     30.18   \n",
       "12 2020-05-15 12:00:00  772694.84  75540.44  8780.62  858.42     31.84   \n",
       "13 2020-05-15 13:00:00  626126.96  61310.27  7115.08  696.71     32.58   \n",
       "14 2020-05-15 14:00:00  785869.46  76811.88  8930.33  872.86     33.92   \n",
       "15 2020-05-15 15:00:00  546353.00  53521.49  6208.56  608.20     34.19   \n",
       "16 2020-05-15 16:00:00  390470.51  38321.89  4437.16  435.48     34.18   \n",
       "17 2020-05-15 17:00:00  137272.51  13430.03  1559.92  152.61     33.02   \n",
       "18 2020-05-15 18:00:00    8704.22    840.53    98.91    9.55     29.19   \n",
       "19 2020-05-15 19:00:00       0.00      0.00     0.00    0.00     26.34   \n",
       "20 2020-05-15 20:00:00       0.00      0.00     0.00    0.00     22.60   \n",
       "21 2020-05-15 21:00:00       0.00      0.00     0.00    0.00     22.19   \n",
       "22 2020-05-15 22:00:00       0.00      0.00     0.00    0.00     22.13   \n",
       "23 2020-05-15 23:00:00       0.00      0.00     0.00    0.00     22.24   \n",
       "24 2020-05-16 02:00:00       0.00      0.00     0.00    0.00     21.60   \n",
       "25 2020-05-16 03:00:00       0.00      0.00     0.00    0.00     21.71   \n",
       "26 2020-05-16 04:00:00       0.00      0.00     0.00    0.00     21.93   \n",
       "27 2020-05-16 05:00:00       0.00      0.00     0.00    0.00     21.91   \n",
       "28 2020-05-16 06:00:00   48975.18   4751.60   556.54   54.00     21.98   \n",
       "29 2020-05-16 07:00:00  207292.56  20330.69  2355.60  231.03     22.87   \n",
       "30 2020-05-16 08:00:00  470620.55  46142.80  5347.96  524.35     24.81   \n",
       "31 2020-05-16 09:00:00  559489.08  54808.95  6357.83  622.83     26.48   \n",
       "32 2020-05-16 10:00:00  708576.72  69340.06  8052.01  787.95     28.15   \n",
       "33 2020-05-16 11:00:00  697296.64  68245.96  7923.82  775.52     29.52   \n",
       "34 2020-05-16 12:00:00  837437.95  81862.98  9516.34  930.26     30.64   \n",
       "35 2020-05-16 13:00:00  766125.40  74936.03  8705.97  851.54     31.49   \n",
       "36 2020-05-16 14:00:00  650535.37  63690.11  7392.45  723.75     32.00   \n",
       "37 2020-05-16 15:00:00  484587.61  47503.28  5506.68  539.81     32.35   \n",
       "38 2020-05-16 16:00:00  242881.41  23837.97  2760.02  270.88     31.95   \n",
       "39 2020-05-16 17:00:00  120922.43  11808.23  1374.12  134.18     31.41   \n",
       "40 2020-05-16 18:00:00   11396.61   1101.16   129.51   12.51     29.38   \n",
       "41 2020-05-16 19:00:00       0.00      0.00     0.00    0.00     27.78   \n",
       "42 2020-05-16 20:00:00       0.00      0.00     0.00    0.00     26.61   \n",
       "43 2020-05-16 21:00:00       0.00      0.00     0.00    0.00     25.51   \n",
       "44 2020-05-16 22:00:00       0.00      0.00     0.00    0.00     24.75   \n",
       "45 2020-05-16 23:00:00       0.00      0.00     0.00    0.00     24.37   \n",
       "46 2020-05-17 00:00:00       0.00      0.00     0.00    0.00     24.00   \n",
       "47 2020-05-17 01:00:00       0.00      0.00     0.00    0.00     23.78   \n",
       "48 2020-05-17 02:00:00       0.00      0.00     0.00    0.00     23.41   \n",
       "49 2020-05-17 03:00:00       0.00      0.00     0.00    0.00     23.10   \n",
       "\n",
       "    avg_module_temp  avg_irrad  avg_inverter_effic  avg_PV_effic  \\\n",
       "0             22.64       0.00                0.00          0.00   \n",
       "1             22.41       0.00                0.00          0.00   \n",
       "2             23.51       0.00                0.00          0.00   \n",
       "3             24.12       0.00                0.00          0.00   \n",
       "4             22.13       0.00                0.00          0.00   \n",
       "5             23.02       0.00                0.00          0.00   \n",
       "6             22.97       0.04                0.10          0.40   \n",
       "7             28.81       0.15                0.10          0.44   \n",
       "8             36.58       0.32                0.10          0.45   \n",
       "9             42.92       0.44                0.10          0.44   \n",
       "10            48.37       0.52                0.10          0.43   \n",
       "11            48.84       0.56                0.10          0.46   \n",
       "12            50.50       0.68                0.10          0.44   \n",
       "13            47.70       0.51                0.10          0.46   \n",
       "14            51.74       0.66                0.10          0.45   \n",
       "15            45.24       0.44                0.10          0.48   \n",
       "16            41.26       0.32                0.10          0.46   \n",
       "17            34.64       0.12                0.10          0.45   \n",
       "18            28.04       0.01                0.05          0.20   \n",
       "19            24.71       0.00                0.00          0.00   \n",
       "20            20.43       0.00                0.00          0.00   \n",
       "21            20.74       0.00                0.00          0.00   \n",
       "22            20.88       0.00                0.00          0.00   \n",
       "23            21.24       0.00                0.00          0.00   \n",
       "24            19.80       0.00                0.00          0.00   \n",
       "25            20.26       0.00                0.00          0.00   \n",
       "26            20.76       0.00                0.00          0.00   \n",
       "27            20.61       0.00                0.00          0.00   \n",
       "28            21.02       0.04                0.10          0.43   \n",
       "29            25.24       0.16                0.10          0.47   \n",
       "30            34.83       0.38                0.10          0.46   \n",
       "31            39.94       0.46                0.10          0.46   \n",
       "32            47.41       0.55                0.10          0.49   \n",
       "33            47.71       0.56                0.10          0.47   \n",
       "34            50.86       0.70                0.10          0.46   \n",
       "35            50.49       0.61                0.10          0.47   \n",
       "36            47.24       0.52                0.10          0.47   \n",
       "37            43.65       0.38                0.10          0.48   \n",
       "38            36.14       0.19                0.10          0.49   \n",
       "39            32.05       0.09                0.10          0.49   \n",
       "40            26.68       0.01                0.05          0.24   \n",
       "41            25.18       0.00                0.00          0.00   \n",
       "42            24.01       0.00                0.00          0.00   \n",
       "43            22.84       0.00                0.00          0.00   \n",
       "44            22.10       0.00                0.00          0.00   \n",
       "45            22.08       0.00                0.00          0.00   \n",
       "46            21.57       0.00                0.00          0.00   \n",
       "47            21.62       0.00                0.00          0.00   \n",
       "48            21.34       0.00                0.00          0.00   \n",
       "49            21.16       0.00                0.00          0.00   \n",
       "\n",
       "   grid_intensity  \n",
       "0           night  \n",
       "1           night  \n",
       "2           night  \n",
       "3           night  \n",
       "4           night  \n",
       "5           night  \n",
       "6           night  \n",
       "7            peak  \n",
       "8            peak  \n",
       "9            peak  \n",
       "10           peak  \n",
       "11           peak  \n",
       "12       off-peak  \n",
       "13       off-peak  \n",
       "14       off-peak  \n",
       "15       off-peak  \n",
       "16       off-peak  \n",
       "17           peak  \n",
       "18           peak  \n",
       "19           peak  \n",
       "20           peak  \n",
       "21           peak  \n",
       "22          night  \n",
       "23          night  \n",
       "24          night  \n",
       "25          night  \n",
       "26          night  \n",
       "27          night  \n",
       "28          night  \n",
       "29       off-peak  \n",
       "30       off-peak  \n",
       "31       off-peak  \n",
       "32       off-peak  \n",
       "33       off-peak  \n",
       "34       off-peak  \n",
       "35       off-peak  \n",
       "36       off-peak  \n",
       "37       off-peak  \n",
       "38       off-peak  \n",
       "39       off-peak  \n",
       "40       off-peak  \n",
       "41       off-peak  \n",
       "42       off-peak  \n",
       "43       off-peak  \n",
       "44          night  \n",
       "45          night  \n",
       "46          night  \n",
       "47          night  \n",
       "48          night  \n",
       "49          night  "
      ]
     },
     "metadata": {},
     "output_type": "display_data"
    }
   ],
   "source": [
    "\n",
    "\"\"\" \n",
    "Below I group by hour and provide total generation in DC and AC\n",
    "    \"\"\"\n",
    "hourly_aggregate = plant1_aggregate.groupby(plant1_aggregate[\"DATE_TIME\"].dt.floor('H'),as_index=False).agg(\n",
    "    DATE_TIME = (\"DATE_TIME\",'first'),\n",
    "    total_DC = (\"total_DC\",np.sum),\n",
    "    total_AC = (\"total_AC\",np.sum),\n",
    "    avg_DC = (\"avg_DC\",np.mean),\n",
    "    avg_AC = (\"avg_AC\",np.mean),\n",
    "    avg_temp = (\"avg_temp\",np.mean),\n",
    "    avg_module_temp = (\"avg_module_temp\",np.mean),\n",
    "    avg_irrad = (\"avg_irrad\",np.mean),\n",
    "    avg_inverter_effic = (\"avg_inverter_effic\",np.mean),\n",
    "    avg_PV_effic =(\"avg_PV_effic\",np.mean)\n",
    ")\n",
    "#rounding to 2 sig figs\n",
    "hourly_aggregate = hourly_aggregate.round(2)\n",
    "\n",
    "hourly_aggregate[\"grid_intensity\"]=hourly_aggregate[\"DATE_TIME\"].apply(classify_time)\n",
    "display(hourly_aggregate.head(25))"
   ]
  },
  {
   "cell_type": "code",
   "execution_count": 30,
   "metadata": {},
   "outputs": [
    {
     "data": {
      "text/plain": [
       "DATE_TIME             datetime64[ns]\n",
       "total_DC                     float64\n",
       "total_AC                     float64\n",
       "avg_DC                       float64\n",
       "avg_AC                       float64\n",
       "avg_temp                     float64\n",
       "avg_module_temp              float64\n",
       "avg_irrad                    float64\n",
       "avg_inverter_effic           float64\n",
       "avg_PV_effic                 float64\n",
       "grid_intensity                object\n",
       "dtype: object"
      ]
     },
     "metadata": {},
     "output_type": "display_data"
    }
   ],
   "source": [
    "display(plant1_aggregate.dtypes)"
   ]
  },
  {
   "cell_type": "markdown",
   "metadata": {},
   "source": [
    "Now that I have my data in one dataframe, clean and aggregated with new variables of interest calculated, I can move into visualization. I make use of plotly visualization functionality for this project. I like Plotly because it is quick and intuitive to use, and when the cursor is run over the plot area in line labels are automatically applied. This makes it easy to see what timestamp and data the user is highlighting. I wrote a couple of quick functions that streamline creating visualizations. They take the dataframe, variables of interest, titles and more as inputs, formating the resulting graph accordingly."
   ]
  },
  {
   "cell_type": "code",
   "execution_count": 12,
   "metadata": {},
   "outputs": [
    {
     "data": {
      "application/vnd.plotly.v1+json": {
       "config": {
        "plotlyServerURL": "https://plot.ly"
       },
       "data": [
        {
         "hovertemplate": "DATE_TIME=%{x}<br>avg_temp=%{y}<extra></extra>",
         "legendgroup": "",
         "line": {
          "color": "#636efa",
          "dash": "solid"
         },
         "marker": {
          "symbol": "circle"
         },
         "mode": "lines",
         "name": "",
         "orientation": "v",
         "showlegend": false,
         "type": "scatter",
         "x": [
          "2020-05-15T00:00:00",
          "2020-05-15T01:00:00",
          "2020-05-15T02:00:00",
          "2020-05-15T03:00:00",
          "2020-05-15T04:00:00",
          "2020-05-15T05:00:00",
          "2020-05-15T06:00:00",
          "2020-05-15T07:00:00",
          "2020-05-15T08:00:00",
          "2020-05-15T09:00:00",
          "2020-05-15T10:00:00",
          "2020-05-15T11:00:00",
          "2020-05-15T12:00:00",
          "2020-05-15T13:00:00",
          "2020-05-15T14:00:00",
          "2020-05-15T15:00:00",
          "2020-05-15T16:00:00",
          "2020-05-15T17:00:00",
          "2020-05-15T18:00:00",
          "2020-05-15T19:00:00",
          "2020-05-15T20:00:00",
          "2020-05-15T21:00:00",
          "2020-05-15T22:00:00",
          "2020-05-15T23:00:00",
          "2020-05-16T02:00:00",
          "2020-05-16T03:00:00",
          "2020-05-16T04:00:00",
          "2020-05-16T05:00:00",
          "2020-05-16T06:00:00",
          "2020-05-16T07:00:00",
          "2020-05-16T08:00:00",
          "2020-05-16T09:00:00",
          "2020-05-16T10:00:00",
          "2020-05-16T11:00:00",
          "2020-05-16T12:00:00",
          "2020-05-16T13:00:00",
          "2020-05-16T14:00:00",
          "2020-05-16T15:00:00",
          "2020-05-16T16:00:00",
          "2020-05-16T17:00:00",
          "2020-05-16T18:00:00",
          "2020-05-16T19:00:00",
          "2020-05-16T20:00:00",
          "2020-05-16T21:00:00",
          "2020-05-16T22:00:00",
          "2020-05-16T23:00:00",
          "2020-05-17T00:00:00",
          "2020-05-17T01:00:00",
          "2020-05-17T02:00:00",
          "2020-05-17T03:00:00",
          "2020-05-17T04:00:00",
          "2020-05-17T05:00:00",
          "2020-05-17T06:00:00",
          "2020-05-17T07:00:00",
          "2020-05-17T08:00:00",
          "2020-05-17T09:00:00",
          "2020-05-17T10:00:00",
          "2020-05-17T11:00:00",
          "2020-05-17T12:00:00",
          "2020-05-17T13:00:00",
          "2020-05-17T14:00:00",
          "2020-05-17T15:00:00",
          "2020-05-17T16:00:00",
          "2020-05-17T17:00:00",
          "2020-05-17T18:00:00",
          "2020-05-17T19:00:00",
          "2020-05-17T20:00:00",
          "2020-05-17T21:00:00",
          "2020-05-17T22:00:00",
          "2020-05-17T23:00:00",
          "2020-05-18T00:00:00",
          "2020-05-18T01:00:00",
          "2020-05-18T02:00:00",
          "2020-05-18T03:00:00",
          "2020-05-18T04:00:00",
          "2020-05-18T05:00:00",
          "2020-05-18T06:00:00",
          "2020-05-18T07:00:00",
          "2020-05-18T08:00:00",
          "2020-05-18T09:00:00",
          "2020-05-18T10:00:00",
          "2020-05-18T11:00:00",
          "2020-05-18T12:00:00",
          "2020-05-18T13:00:00",
          "2020-05-18T14:00:00",
          "2020-05-18T15:00:00",
          "2020-05-18T16:00:00",
          "2020-05-18T17:00:00",
          "2020-05-18T18:00:00",
          "2020-05-18T19:00:00",
          "2020-05-18T20:00:00",
          "2020-05-18T21:00:00",
          "2020-05-18T22:00:00",
          "2020-05-18T23:00:00",
          "2020-05-19T00:00:00",
          "2020-05-19T01:00:00",
          "2020-05-19T02:00:00",
          "2020-05-19T03:00:00",
          "2020-05-19T04:00:00",
          "2020-05-19T05:00:00",
          "2020-05-19T06:00:00",
          "2020-05-19T07:00:00",
          "2020-05-19T08:00:00",
          "2020-05-19T09:00:00",
          "2020-05-19T10:00:00",
          "2020-05-19T11:00:00",
          "2020-05-19T12:30:00",
          "2020-05-19T13:00:00",
          "2020-05-19T14:00:00",
          "2020-05-19T15:00:00",
          "2020-05-19T16:00:00",
          "2020-05-19T17:00:00",
          "2020-05-19T18:00:00",
          "2020-05-19T19:00:00",
          "2020-05-19T20:00:00",
          "2020-05-19T21:00:00",
          "2020-05-19T22:00:00",
          "2020-05-19T23:00:00",
          "2020-05-20T00:00:00",
          "2020-05-20T01:00:00",
          "2020-05-20T02:00:00",
          "2020-05-20T03:00:00",
          "2020-05-20T04:00:00",
          "2020-05-20T05:00:00",
          "2020-05-20T06:00:00",
          "2020-05-20T07:00:00",
          "2020-05-20T08:00:00",
          "2020-05-20T09:00:00",
          "2020-05-20T10:00:00",
          "2020-05-20T11:00:00",
          "2020-05-20T12:00:00",
          "2020-05-20T13:00:00",
          "2020-05-20T17:30:00",
          "2020-05-20T18:00:00",
          "2020-05-20T19:00:00",
          "2020-05-20T20:00:00",
          "2020-05-20T21:00:00",
          "2020-05-20T22:00:00",
          "2020-05-21T07:45:00",
          "2020-05-21T08:00:00",
          "2020-05-21T09:00:00",
          "2020-05-21T10:00:00",
          "2020-05-21T11:00:00",
          "2020-05-21T12:00:00",
          "2020-05-21T13:00:00",
          "2020-05-21T14:00:00",
          "2020-05-21T15:00:00",
          "2020-05-21T16:00:00",
          "2020-05-21T17:00:00",
          "2020-05-21T18:00:00",
          "2020-05-21T19:00:00",
          "2020-05-21T20:00:00",
          "2020-05-21T21:00:00",
          "2020-05-21T22:00:00",
          "2020-05-21T23:00:00",
          "2020-05-22T00:00:00",
          "2020-05-22T01:00:00",
          "2020-05-22T02:00:00",
          "2020-05-22T03:00:00",
          "2020-05-22T04:00:00",
          "2020-05-22T05:00:00",
          "2020-05-22T06:00:00",
          "2020-05-22T07:00:00",
          "2020-05-22T08:00:00",
          "2020-05-22T09:00:00",
          "2020-05-22T10:00:00",
          "2020-05-22T11:00:00",
          "2020-05-22T12:00:00",
          "2020-05-22T13:00:00",
          "2020-05-22T14:00:00",
          "2020-05-22T15:00:00",
          "2020-05-22T16:00:00",
          "2020-05-22T17:00:00",
          "2020-05-22T18:00:00",
          "2020-05-22T19:00:00",
          "2020-05-22T20:00:00",
          "2020-05-22T21:00:00",
          "2020-05-22T22:00:00",
          "2020-05-22T23:00:00",
          "2020-05-23T00:00:00",
          "2020-05-23T01:00:00",
          "2020-05-23T02:00:00",
          "2020-05-23T03:00:00",
          "2020-05-23T04:00:00",
          "2020-05-23T05:00:00",
          "2020-05-23T06:45:00",
          "2020-05-23T07:00:00",
          "2020-05-23T08:00:00",
          "2020-05-23T09:00:00",
          "2020-05-23T10:00:00",
          "2020-05-23T11:00:00",
          "2020-05-23T12:00:00",
          "2020-05-23T13:00:00",
          "2020-05-23T14:00:00",
          "2020-05-23T15:00:00",
          "2020-05-23T16:00:00",
          "2020-05-23T17:00:00",
          "2020-05-23T18:00:00",
          "2020-05-23T19:00:00",
          "2020-05-23T20:00:00",
          "2020-05-23T21:00:00",
          "2020-05-23T22:00:00",
          "2020-05-23T23:00:00",
          "2020-05-24T00:00:00",
          "2020-05-24T01:00:00",
          "2020-05-24T02:00:00",
          "2020-05-24T03:00:00",
          "2020-05-24T04:00:00",
          "2020-05-24T05:00:00",
          "2020-05-24T06:00:00",
          "2020-05-24T07:00:00",
          "2020-05-24T08:00:00",
          "2020-05-24T09:00:00",
          "2020-05-24T10:00:00",
          "2020-05-24T11:00:00",
          "2020-05-24T12:00:00",
          "2020-05-24T13:00:00",
          "2020-05-24T14:00:00",
          "2020-05-24T15:00:00",
          "2020-05-24T16:00:00",
          "2020-05-24T17:00:00",
          "2020-05-24T18:00:00",
          "2020-05-24T19:00:00",
          "2020-05-24T20:00:00",
          "2020-05-24T21:00:00",
          "2020-05-24T22:00:00",
          "2020-05-24T23:00:00",
          "2020-05-25T00:00:00",
          "2020-05-25T01:00:00",
          "2020-05-25T02:00:00",
          "2020-05-25T03:00:00",
          "2020-05-25T04:00:00",
          "2020-05-25T05:00:00",
          "2020-05-25T06:00:00",
          "2020-05-25T07:00:00",
          "2020-05-25T08:00:00",
          "2020-05-25T09:00:00",
          "2020-05-25T10:00:00",
          "2020-05-25T11:00:00",
          "2020-05-25T12:00:00",
          "2020-05-25T13:00:00",
          "2020-05-25T14:00:00",
          "2020-05-25T15:00:00",
          "2020-05-25T16:00:00",
          "2020-05-25T17:00:00",
          "2020-05-25T18:00:00",
          "2020-05-25T19:00:00",
          "2020-05-25T20:00:00",
          "2020-05-25T21:00:00",
          "2020-05-25T22:00:00",
          "2020-05-25T23:00:00",
          "2020-05-26T00:00:00",
          "2020-05-26T01:00:00",
          "2020-05-26T02:00:00",
          "2020-05-26T03:00:00",
          "2020-05-26T04:00:00",
          "2020-05-26T05:00:00",
          "2020-05-26T06:00:00",
          "2020-05-26T07:00:00",
          "2020-05-26T08:00:00",
          "2020-05-26T09:00:00",
          "2020-05-26T10:00:00",
          "2020-05-26T11:00:00",
          "2020-05-26T12:00:00",
          "2020-05-26T13:00:00",
          "2020-05-26T14:00:00",
          "2020-05-26T15:00:00",
          "2020-05-26T16:00:00",
          "2020-05-26T17:00:00",
          "2020-05-26T18:00:00",
          "2020-05-26T19:00:00",
          "2020-05-26T20:00:00",
          "2020-05-26T21:00:00",
          "2020-05-26T22:00:00",
          "2020-05-26T23:00:00",
          "2020-05-27T00:00:00",
          "2020-05-27T01:00:00",
          "2020-05-27T02:00:00",
          "2020-05-27T03:00:00",
          "2020-05-27T04:00:00",
          "2020-05-27T05:00:00",
          "2020-05-27T06:00:00",
          "2020-05-27T07:00:00",
          "2020-05-27T08:00:00",
          "2020-05-27T09:00:00",
          "2020-05-27T10:00:00",
          "2020-05-27T11:00:00",
          "2020-05-27T12:00:00",
          "2020-05-27T13:00:00",
          "2020-05-27T14:00:00",
          "2020-05-27T15:00:00",
          "2020-05-27T16:00:00",
          "2020-05-27T17:00:00",
          "2020-05-27T18:00:00",
          "2020-05-27T19:00:00",
          "2020-05-27T20:00:00",
          "2020-05-27T21:00:00",
          "2020-05-27T22:00:00",
          "2020-05-27T23:00:00",
          "2020-05-28T00:00:00",
          "2020-05-28T01:00:00",
          "2020-05-28T02:00:00",
          "2020-05-28T03:00:00",
          "2020-05-28T04:00:00",
          "2020-05-28T05:00:00",
          "2020-05-28T06:00:00",
          "2020-05-28T07:00:00",
          "2020-05-28T08:00:00",
          "2020-05-28T09:00:00",
          "2020-05-28T10:00:00",
          "2020-05-28T11:00:00",
          "2020-05-28T12:00:00",
          "2020-05-28T13:00:00",
          "2020-05-28T14:00:00",
          "2020-05-28T15:00:00",
          "2020-05-28T16:00:00",
          "2020-05-28T17:00:00",
          "2020-05-28T18:00:00",
          "2020-05-28T19:00:00",
          "2020-05-28T20:00:00",
          "2020-05-28T21:00:00",
          "2020-05-28T22:00:00",
          "2020-05-29T06:15:00",
          "2020-05-29T07:00:00",
          "2020-05-29T08:00:00",
          "2020-05-29T09:00:00",
          "2020-05-29T10:00:00",
          "2020-05-29T11:00:00",
          "2020-05-29T12:00:00",
          "2020-05-29T13:00:00",
          "2020-05-29T14:00:00",
          "2020-05-29T15:00:00",
          "2020-05-29T16:00:00",
          "2020-05-29T17:00:00",
          "2020-05-29T18:00:00",
          "2020-05-29T19:00:00",
          "2020-05-29T20:00:00",
          "2020-05-29T21:00:00",
          "2020-05-29T22:00:00",
          "2020-05-29T23:00:00",
          "2020-05-30T00:00:00",
          "2020-05-30T01:00:00",
          "2020-05-30T02:00:00",
          "2020-05-30T03:00:00",
          "2020-05-30T04:00:00",
          "2020-05-30T05:00:00",
          "2020-05-30T06:00:00",
          "2020-05-30T07:00:00",
          "2020-05-30T08:00:00",
          "2020-05-30T09:00:00",
          "2020-05-30T10:00:00",
          "2020-05-30T11:00:00",
          "2020-05-30T12:00:00",
          "2020-05-30T13:00:00",
          "2020-05-30T14:00:00",
          "2020-05-30T15:00:00",
          "2020-05-30T16:00:00",
          "2020-05-30T17:00:00",
          "2020-05-30T18:00:00",
          "2020-05-30T19:00:00",
          "2020-05-30T20:00:00",
          "2020-05-30T21:00:00",
          "2020-05-30T22:00:00",
          "2020-05-30T23:00:00",
          "2020-05-31T00:00:00",
          "2020-05-31T01:00:00",
          "2020-05-31T02:00:00",
          "2020-05-31T03:00:00",
          "2020-05-31T04:00:00",
          "2020-05-31T05:00:00",
          "2020-05-31T06:00:00",
          "2020-05-31T07:00:00",
          "2020-05-31T08:00:00",
          "2020-05-31T09:00:00",
          "2020-05-31T10:00:00",
          "2020-05-31T11:00:00",
          "2020-05-31T12:00:00",
          "2020-05-31T13:00:00",
          "2020-05-31T14:00:00",
          "2020-05-31T15:00:00",
          "2020-05-31T16:00:00",
          "2020-05-31T17:00:00",
          "2020-05-31T18:00:00",
          "2020-05-31T19:00:00",
          "2020-05-31T20:00:00",
          "2020-05-31T21:00:00",
          "2020-05-31T22:00:00",
          "2020-05-31T23:00:00",
          "2020-06-01T00:00:00",
          "2020-06-01T01:00:00",
          "2020-06-01T02:00:00",
          "2020-06-01T03:00:00",
          "2020-06-01T04:00:00",
          "2020-06-01T05:00:00",
          "2020-06-01T06:00:00",
          "2020-06-01T07:00:00",
          "2020-06-01T08:00:00",
          "2020-06-01T09:00:00",
          "2020-06-01T10:00:00",
          "2020-06-01T11:00:00",
          "2020-06-01T12:00:00",
          "2020-06-01T13:00:00",
          "2020-06-01T14:00:00",
          "2020-06-01T15:00:00",
          "2020-06-01T16:00:00",
          "2020-06-01T17:00:00",
          "2020-06-01T18:00:00",
          "2020-06-01T19:00:00",
          "2020-06-01T20:00:00",
          "2020-06-01T21:00:00",
          "2020-06-01T22:00:00",
          "2020-06-01T23:00:00",
          "2020-06-02T00:00:00",
          "2020-06-02T01:00:00",
          "2020-06-02T02:00:00",
          "2020-06-02T03:00:00",
          "2020-06-02T04:00:00",
          "2020-06-02T05:00:00",
          "2020-06-02T06:00:00",
          "2020-06-02T07:00:00",
          "2020-06-02T08:00:00",
          "2020-06-02T09:00:00",
          "2020-06-02T10:00:00",
          "2020-06-02T11:00:00",
          "2020-06-02T12:00:00",
          "2020-06-02T13:00:00",
          "2020-06-02T14:00:00",
          "2020-06-02T15:00:00",
          "2020-06-02T16:00:00",
          "2020-06-02T17:00:00",
          "2020-06-02T18:00:00",
          "2020-06-02T19:00:00",
          "2020-06-02T20:00:00",
          "2020-06-02T21:00:00",
          "2020-06-02T22:00:00",
          "2020-06-02T23:00:00",
          "2020-06-03T00:00:00",
          "2020-06-03T01:00:00",
          "2020-06-03T02:00:00",
          "2020-06-03T03:00:00",
          "2020-06-03T04:00:00",
          "2020-06-03T05:00:00",
          "2020-06-03T06:00:00",
          "2020-06-03T07:00:00",
          "2020-06-03T08:00:00",
          "2020-06-03T09:00:00",
          "2020-06-03T10:00:00",
          "2020-06-03T11:00:00",
          "2020-06-03T12:00:00",
          "2020-06-03T13:00:00",
          "2020-06-03T14:15:00",
          "2020-06-03T15:00:00",
          "2020-06-03T16:00:00",
          "2020-06-03T17:00:00",
          "2020-06-03T18:00:00",
          "2020-06-03T19:00:00",
          "2020-06-03T20:00:00",
          "2020-06-03T21:00:00",
          "2020-06-03T22:00:00",
          "2020-06-03T23:00:00",
          "2020-06-04T00:00:00",
          "2020-06-04T01:00:00",
          "2020-06-04T02:00:00",
          "2020-06-04T03:00:00",
          "2020-06-04T04:00:00",
          "2020-06-04T05:00:00",
          "2020-06-04T06:00:00",
          "2020-06-04T07:00:00",
          "2020-06-04T08:00:00",
          "2020-06-04T09:00:00",
          "2020-06-04T10:00:00",
          "2020-06-04T11:00:00",
          "2020-06-04T12:00:00",
          "2020-06-04T13:00:00",
          "2020-06-04T14:00:00",
          "2020-06-04T15:00:00",
          "2020-06-04T16:00:00",
          "2020-06-04T17:00:00",
          "2020-06-04T18:00:00",
          "2020-06-04T19:00:00",
          "2020-06-04T20:00:00",
          "2020-06-04T21:00:00",
          "2020-06-04T22:00:00",
          "2020-06-04T23:00:00",
          "2020-06-05T00:00:00",
          "2020-06-05T01:00:00",
          "2020-06-05T02:00:00",
          "2020-06-05T03:00:00",
          "2020-06-05T04:00:00",
          "2020-06-05T05:00:00",
          "2020-06-05T06:00:00",
          "2020-06-05T07:00:00",
          "2020-06-05T08:00:00",
          "2020-06-05T09:00:00",
          "2020-06-05T10:00:00",
          "2020-06-05T11:00:00",
          "2020-06-05T12:00:00",
          "2020-06-05T13:00:00",
          "2020-06-05T14:00:00",
          "2020-06-05T15:00:00",
          "2020-06-05T16:00:00",
          "2020-06-05T17:00:00",
          "2020-06-05T18:00:00",
          "2020-06-05T19:00:00",
          "2020-06-05T20:00:00",
          "2020-06-05T21:00:00",
          "2020-06-05T22:00:00",
          "2020-06-05T23:00:00",
          "2020-06-06T00:00:00",
          "2020-06-06T01:00:00",
          "2020-06-06T02:00:00",
          "2020-06-06T03:00:00",
          "2020-06-06T04:00:00",
          "2020-06-06T05:00:00",
          "2020-06-06T06:00:00",
          "2020-06-06T07:00:00",
          "2020-06-06T08:00:00",
          "2020-06-06T09:00:00",
          "2020-06-06T10:00:00",
          "2020-06-06T11:00:00",
          "2020-06-06T12:00:00",
          "2020-06-06T13:00:00",
          "2020-06-06T14:00:00",
          "2020-06-06T15:00:00",
          "2020-06-06T16:00:00",
          "2020-06-06T17:00:00",
          "2020-06-06T18:00:00",
          "2020-06-06T19:00:00",
          "2020-06-06T20:00:00",
          "2020-06-06T21:00:00",
          "2020-06-06T22:00:00",
          "2020-06-06T23:00:00",
          "2020-06-07T00:00:00",
          "2020-06-07T01:00:00",
          "2020-06-07T02:00:00",
          "2020-06-07T03:00:00",
          "2020-06-07T04:00:00",
          "2020-06-07T05:00:00",
          "2020-06-07T06:00:00",
          "2020-06-07T07:00:00",
          "2020-06-07T08:00:00",
          "2020-06-07T09:00:00",
          "2020-06-07T10:00:00",
          "2020-06-07T11:00:00",
          "2020-06-07T12:00:00",
          "2020-06-07T13:00:00",
          "2020-06-07T14:00:00",
          "2020-06-07T15:00:00",
          "2020-06-07T16:00:00",
          "2020-06-07T17:00:00",
          "2020-06-07T18:00:00",
          "2020-06-07T19:00:00",
          "2020-06-07T20:00:00",
          "2020-06-07T21:00:00",
          "2020-06-07T22:00:00",
          "2020-06-07T23:00:00",
          "2020-06-08T00:00:00",
          "2020-06-08T01:00:00",
          "2020-06-08T02:00:00",
          "2020-06-08T03:00:00",
          "2020-06-08T04:00:00",
          "2020-06-08T05:00:00",
          "2020-06-08T06:00:00",
          "2020-06-08T07:00:00",
          "2020-06-08T08:00:00",
          "2020-06-08T09:00:00",
          "2020-06-08T10:00:00",
          "2020-06-08T11:00:00",
          "2020-06-08T12:00:00",
          "2020-06-08T13:00:00",
          "2020-06-08T14:00:00",
          "2020-06-08T15:00:00",
          "2020-06-08T16:00:00",
          "2020-06-08T17:00:00",
          "2020-06-08T18:00:00",
          "2020-06-08T19:00:00",
          "2020-06-08T20:00:00",
          "2020-06-08T21:00:00",
          "2020-06-08T22:00:00",
          "2020-06-08T23:00:00",
          "2020-06-09T00:00:00",
          "2020-06-09T01:00:00",
          "2020-06-09T02:00:00",
          "2020-06-09T03:00:00",
          "2020-06-09T04:00:00",
          "2020-06-09T05:00:00",
          "2020-06-09T06:00:00",
          "2020-06-09T07:00:00",
          "2020-06-09T08:00:00",
          "2020-06-09T09:00:00",
          "2020-06-09T10:00:00",
          "2020-06-09T11:00:00",
          "2020-06-09T12:00:00",
          "2020-06-09T13:00:00",
          "2020-06-09T14:00:00",
          "2020-06-09T15:00:00",
          "2020-06-09T16:00:00",
          "2020-06-09T17:00:00",
          "2020-06-09T18:00:00",
          "2020-06-09T19:00:00",
          "2020-06-09T20:00:00",
          "2020-06-09T21:00:00",
          "2020-06-09T22:00:00",
          "2020-06-09T23:00:00",
          "2020-06-10T00:00:00",
          "2020-06-10T01:00:00",
          "2020-06-10T02:00:00",
          "2020-06-10T03:00:00",
          "2020-06-10T04:00:00",
          "2020-06-10T05:00:00",
          "2020-06-10T06:00:00",
          "2020-06-10T07:00:00",
          "2020-06-10T08:00:00",
          "2020-06-10T09:00:00",
          "2020-06-10T10:00:00",
          "2020-06-10T11:00:00",
          "2020-06-10T12:00:00",
          "2020-06-10T13:00:00",
          "2020-06-10T14:00:00",
          "2020-06-10T15:00:00",
          "2020-06-10T16:00:00",
          "2020-06-10T17:00:00",
          "2020-06-10T18:00:00",
          "2020-06-10T19:00:00",
          "2020-06-10T20:00:00",
          "2020-06-10T21:00:00",
          "2020-06-10T22:00:00",
          "2020-06-10T23:00:00",
          "2020-06-11T00:00:00",
          "2020-06-11T01:00:00",
          "2020-06-11T02:00:00",
          "2020-06-11T03:00:00",
          "2020-06-11T04:00:00",
          "2020-06-11T05:00:00",
          "2020-06-11T06:00:00",
          "2020-06-11T07:00:00",
          "2020-06-11T08:00:00",
          "2020-06-11T09:00:00",
          "2020-06-11T10:00:00",
          "2020-06-11T11:00:00",
          "2020-06-11T12:00:00",
          "2020-06-11T13:00:00",
          "2020-06-11T14:00:00",
          "2020-06-11T15:00:00",
          "2020-06-11T16:00:00",
          "2020-06-11T17:00:00",
          "2020-06-11T18:00:00",
          "2020-06-11T19:00:00",
          "2020-06-11T20:00:00",
          "2020-06-11T21:00:00",
          "2020-06-11T22:00:00",
          "2020-06-11T23:00:00",
          "2020-06-12T00:00:00",
          "2020-06-12T01:00:00",
          "2020-06-12T02:00:00",
          "2020-06-12T03:00:00",
          "2020-06-12T04:00:00",
          "2020-06-12T05:00:00",
          "2020-06-12T06:00:00",
          "2020-06-12T07:00:00",
          "2020-06-12T08:00:00",
          "2020-06-12T09:00:00",
          "2020-06-12T10:00:00",
          "2020-06-12T11:00:00",
          "2020-06-12T12:00:00",
          "2020-06-12T13:00:00",
          "2020-06-12T14:00:00",
          "2020-06-12T15:00:00",
          "2020-06-12T16:00:00",
          "2020-06-12T17:00:00",
          "2020-06-12T18:00:00",
          "2020-06-12T19:00:00",
          "2020-06-12T20:00:00",
          "2020-06-12T21:00:00",
          "2020-06-12T22:00:00",
          "2020-06-12T23:00:00",
          "2020-06-13T00:00:00",
          "2020-06-13T01:00:00",
          "2020-06-13T02:00:00",
          "2020-06-13T03:00:00",
          "2020-06-13T04:00:00",
          "2020-06-13T05:00:00",
          "2020-06-13T06:00:00",
          "2020-06-13T07:00:00",
          "2020-06-13T08:00:00",
          "2020-06-13T09:00:00",
          "2020-06-13T10:00:00",
          "2020-06-13T11:00:00",
          "2020-06-13T12:00:00",
          "2020-06-13T13:00:00",
          "2020-06-13T14:00:00",
          "2020-06-13T15:00:00",
          "2020-06-13T16:00:00",
          "2020-06-13T17:00:00",
          "2020-06-13T18:00:00",
          "2020-06-13T19:00:00",
          "2020-06-13T20:00:00",
          "2020-06-13T21:00:00",
          "2020-06-13T22:00:00",
          "2020-06-13T23:00:00",
          "2020-06-14T00:00:00",
          "2020-06-14T01:00:00",
          "2020-06-14T02:00:00",
          "2020-06-14T03:00:00",
          "2020-06-14T04:00:00",
          "2020-06-14T05:00:00",
          "2020-06-14T06:00:00",
          "2020-06-14T07:00:00",
          "2020-06-14T08:00:00",
          "2020-06-14T09:00:00",
          "2020-06-14T10:00:00",
          "2020-06-14T11:00:00",
          "2020-06-14T12:00:00",
          "2020-06-14T13:00:00",
          "2020-06-14T14:00:00",
          "2020-06-14T15:00:00",
          "2020-06-14T16:00:00",
          "2020-06-14T17:00:00",
          "2020-06-14T18:00:00",
          "2020-06-14T19:00:00",
          "2020-06-14T20:00:00",
          "2020-06-14T21:00:00",
          "2020-06-14T22:00:00",
          "2020-06-14T23:00:00",
          "2020-06-15T00:00:00",
          "2020-06-15T01:00:00",
          "2020-06-15T02:00:00",
          "2020-06-15T03:00:00",
          "2020-06-15T04:00:00",
          "2020-06-15T05:00:00",
          "2020-06-15T06:00:00",
          "2020-06-15T07:00:00",
          "2020-06-15T08:00:00",
          "2020-06-15T09:00:00",
          "2020-06-15T10:00:00",
          "2020-06-15T11:00:00",
          "2020-06-15T12:00:00",
          "2020-06-15T13:00:00",
          "2020-06-15T14:00:00",
          "2020-06-15T15:00:00",
          "2020-06-15T16:00:00",
          "2020-06-15T17:00:00",
          "2020-06-15T18:00:00",
          "2020-06-15T19:00:00",
          "2020-06-15T20:00:00",
          "2020-06-15T21:00:00",
          "2020-06-15T22:00:00",
          "2020-06-15T23:00:00",
          "2020-06-16T00:00:00",
          "2020-06-16T01:00:00",
          "2020-06-16T02:00:00",
          "2020-06-16T03:00:00",
          "2020-06-16T04:00:00",
          "2020-06-16T05:00:00",
          "2020-06-16T06:00:00",
          "2020-06-16T07:00:00",
          "2020-06-16T08:00:00",
          "2020-06-16T09:00:00",
          "2020-06-16T10:00:00",
          "2020-06-16T11:00:00",
          "2020-06-16T12:00:00",
          "2020-06-16T13:00:00",
          "2020-06-16T14:00:00",
          "2020-06-16T15:00:00",
          "2020-06-16T16:00:00",
          "2020-06-16T17:00:00",
          "2020-06-16T18:00:00",
          "2020-06-16T19:00:00",
          "2020-06-16T20:00:00",
          "2020-06-16T21:00:00",
          "2020-06-16T22:00:00",
          "2020-06-16T23:00:00",
          "2020-06-17T00:00:00",
          "2020-06-17T01:00:00",
          "2020-06-17T02:00:00",
          "2020-06-17T03:00:00",
          "2020-06-17T04:00:00",
          "2020-06-17T05:00:00",
          "2020-06-17T06:00:00",
          "2020-06-17T07:00:00",
          "2020-06-17T08:00:00",
          "2020-06-17T09:00:00",
          "2020-06-17T10:00:00",
          "2020-06-17T11:00:00",
          "2020-06-17T12:00:00",
          "2020-06-17T13:00:00",
          "2020-06-17T14:00:00",
          "2020-06-17T15:00:00",
          "2020-06-17T16:00:00",
          "2020-06-17T17:00:00",
          "2020-06-17T18:00:00",
          "2020-06-17T19:00:00",
          "2020-06-17T20:00:00",
          "2020-06-17T21:00:00",
          "2020-06-17T22:00:00",
          "2020-06-17T23:00:00"
         ],
         "xaxis": "x",
         "y": [
          25.01,
          24.67,
          24.99,
          24.96,
          24.28,
          24.28,
          24.08,
          24.89,
          26.16,
          27.64,
          28.9,
          30.18,
          31.84,
          32.58,
          33.92,
          34.19,
          34.18,
          33.02,
          29.19,
          26.34,
          22.6,
          22.19,
          22.13,
          22.24,
          21.6,
          21.71,
          21.93,
          21.91,
          21.98,
          22.87,
          24.81,
          26.48,
          28.15,
          29.52,
          30.64,
          31.49,
          32,
          32.35,
          31.95,
          31.41,
          29.38,
          27.78,
          26.61,
          25.51,
          24.75,
          24.37,
          24,
          23.78,
          23.41,
          23.1,
          22.82,
          22.57,
          22.78,
          23.78,
          25.97,
          28.38,
          30.34,
          31.88,
          33.06,
          33.68,
          34.24,
          34.99,
          31.18,
          27.84,
          26.16,
          25.89,
          25.44,
          22.67,
          21.28,
          21.23,
          21.12,
          21.02,
          21.08,
          21.34,
          21.16,
          21.15,
          21.5,
          22.46,
          23.41,
          23.76,
          24.01,
          25.13,
          26.45,
          27.34,
          27.68,
          27.48,
          27.4,
          26.21,
          24.9,
          24.48,
          24.12,
          23.58,
          22.92,
          22.76,
          22.57,
          22.63,
          22.84,
          23.02,
          23.19,
          23.26,
          23.41,
          24.6,
          25.44,
          26.86,
          27.76,
          28.25,
          29.8,
          29.9,
          30.17,
          29.95,
          29.68,
          28.36,
          23.32,
          22.5,
          23.13,
          23.94,
          23.58,
          22.9,
          22.29,
          22.16,
          22.01,
          22.01,
          22.12,
          21.85,
          21.8,
          23.2,
          25.34,
          27.11,
          28.52,
          29.78,
          31.02,
          31.46,
          29.15,
          27.78,
          26.24,
          25.4,
          24.74,
          24.19,
          23.53,
          24.74,
          27.05,
          28.46,
          29.86,
          30.72,
          31.54,
          31.86,
          32.12,
          30.94,
          29.28,
          27.55,
          26.28,
          25.23,
          24.48,
          24.14,
          23.91,
          23.63,
          23.51,
          23.43,
          23.12,
          22.97,
          22.85,
          23.1,
          24.12,
          25.2,
          26.62,
          27.92,
          29.52,
          30.98,
          31.68,
          32.28,
          32.47,
          30.54,
          29.2,
          28.15,
          27.26,
          26.7,
          26.04,
          23.58,
          21.79,
          21.66,
          21.53,
          21.81,
          21.94,
          22.07,
          21.92,
          22.34,
          22.97,
          25.2,
          27.36,
          28.2,
          29.71,
          31.03,
          32.14,
          32.78,
          32.92,
          32.53,
          30.47,
          28.78,
          27.48,
          26.65,
          26.13,
          25.56,
          24.94,
          24.45,
          24.3,
          24.42,
          23.98,
          23.82,
          23.42,
          23.55,
          25.15,
          26.5,
          27.57,
          28.81,
          30.45,
          31.74,
          32.94,
          33.61,
          33.4,
          32.88,
          32.17,
          29.95,
          28.25,
          27.08,
          25.79,
          24.66,
          24.11,
          23.68,
          23.79,
          23.67,
          23.55,
          23.43,
          23.2,
          23.19,
          24.14,
          25.44,
          27.85,
          29.33,
          30.99,
          32.07,
          33.24,
          33.68,
          34.38,
          33.9,
          32.05,
          28.3,
          26.58,
          26.23,
          25.44,
          22.49,
          22.47,
          22.26,
          22.22,
          21.8,
          21.36,
          21.31,
          22.07,
          22.78,
          24.21,
          26.27,
          27.8,
          29.54,
          30.41,
          31.47,
          32.67,
          32.7,
          32.7,
          33.23,
          31.72,
          28.96,
          27.48,
          26.14,
          26.58,
          25.93,
          24.1,
          23.4,
          23.56,
          23.55,
          24.05,
          23.57,
          23.44,
          23.44,
          25.02,
          26.9,
          28.43,
          29.26,
          30.84,
          32.11,
          32.43,
          32.59,
          32.45,
          31.95,
          30.33,
          28.61,
          25.77,
          22.94,
          23.14,
          22.91,
          23.37,
          23.19,
          22.68,
          22.49,
          22.54,
          22.56,
          21.91,
          21.92,
          23.86,
          26.17,
          28.09,
          29.44,
          30.85,
          32.12,
          32.99,
          33.09,
          33.34,
          32.78,
          32.16,
          29.93,
          27.7,
          26.81,
          23.46,
          20.98,
          21.01,
          21.93,
          23.4,
          25.4,
          27.65,
          29.2,
          30.18,
          31.3,
          31.69,
          32.36,
          31.69,
          29.34,
          27.61,
          26.08,
          25.58,
          25.52,
          23.57,
          21.54,
          21.44,
          21.3,
          21.32,
          21.39,
          21.39,
          21.25,
          21.32,
          22.3,
          23.44,
          24.62,
          24.89,
          25.76,
          27.99,
          29.08,
          30.1,
          30.72,
          30.92,
          30.12,
          28.32,
          26.64,
          25.24,
          23.7,
          23.28,
          23.26,
          23.43,
          23.64,
          23.26,
          22.81,
          22.37,
          22.03,
          22.26,
          22.92,
          24.13,
          25.9,
          27.45,
          28.54,
          29.56,
          30.26,
          30.32,
          27.56,
          27.78,
          28.02,
          27.02,
          25.68,
          24.84,
          24.23,
          23.76,
          23.57,
          22.98,
          22.4,
          21.97,
          21.61,
          21.45,
          21.26,
          21.74,
          23.56,
          25.51,
          26.95,
          28.69,
          29.72,
          29.5,
          28.73,
          27.03,
          26.7,
          26.69,
          25.83,
          25.28,
          24.52,
          23.86,
          23.46,
          22.97,
          22.26,
          22.53,
          21.91,
          21.59,
          21.3,
          21.5,
          21.68,
          21.95,
          23.11,
          25.13,
          26.69,
          27.37,
          27.56,
          27.72,
          27.83,
          27.18,
          26.6,
          26.35,
          25.28,
          24.57,
          24.21,
          23.62,
          23.08,
          23.1,
          23.12,
          22.85,
          22.83,
          22.62,
          22.44,
          22.34,
          22.12,
          21.96,
          23.08,
          24.92,
          25.9,
          26.56,
          28.12,
          28.48,
          28.59,
          28.32,
          28.57,
          26.98,
          26.42,
          25.09,
          24.13,
          23.67,
          23.41,
          23.29,
          23.3,
          23.23,
          22.94,
          22.94,
          22.2,
          21.81,
          22.26,
          22.43,
          23.51,
          25.3,
          26.81,
          27.87,
          28.96,
          29.53,
          29.98,
          29.24,
          28.92,
          28.24,
          27.32,
          25.76,
          24.64,
          24.03,
          23.46,
          23.08,
          22.4,
          22.4,
          22.16,
          21.98,
          21.9,
          21.68,
          21.58,
          21.84,
          22.85,
          24.48,
          26.73,
          27.72,
          28.29,
          26.24,
          26.3,
          29.21,
          29.28,
          29.13,
          28.29,
          26.69,
          24.91,
          24.14,
          23.51,
          23.01,
          22.54,
          22.37,
          22.14,
          21.87,
          21.53,
          21.3,
          20.68,
          21.13,
          23.24,
          25.55,
          26.77,
          28.04,
          29.34,
          29.72,
          28.61,
          27.34,
          26.08,
          25.84,
          24.6,
          23.9,
          23.06,
          22.34,
          22.2,
          22.16,
          22.13,
          22.17,
          22.24,
          22.06,
          21.9,
          21.94,
          22.1,
          22.1,
          22.54,
          23.16,
          24.37,
          25.58,
          27.55,
          28.78,
          29.98,
          30.15,
          30.26,
          29.9,
          28.36,
          26.17,
          24.84,
          24.07,
          23.7,
          23.2,
          23.25,
          23.12,
          22.6,
          22.44,
          22.16,
          22.01,
          21.58,
          21.62,
          22.6,
          24.22,
          26.63,
          28.18,
          28.78,
          29.15,
          29.95,
          30.67,
          30.78,
          29.02,
          28.65,
          27.13,
          25.5,
          24.32,
          23.52,
          23.19,
          22.76,
          22.22,
          21.85,
          21.42,
          21.31,
          21.3,
          21.21,
          21.64,
          23.29,
          25.32,
          27.5,
          28.36,
          29.97,
          30.4,
          31.09,
          30.82,
          30.56,
          29.87,
          28.4,
          26.8,
          25.35,
          24.58,
          23.81,
          23.16,
          22.87,
          22.76,
          22.51,
          22.36,
          22.18,
          21.9,
          21.86,
          22.08,
          23.62,
          25.17,
          26.78,
          27.35,
          28.17,
          30.23,
          31.04,
          30.11,
          24.49,
          26.14,
          25.94,
          25.13,
          24.55,
          23,
          22.33,
          22.04,
          22.35,
          22.52,
          22.26,
          21.93,
          21.45,
          21.14,
          21.78,
          21.87,
          22.27,
          23.41,
          24.41,
          25.27,
          26.57,
          27.47,
          27.92,
          28.58,
          28.48,
          27.56,
          26.46,
          25.42,
          24.49,
          24.03,
          23.74,
          23.53,
          23.11,
          22.73,
          22.5,
          22.11,
          21.94,
          21.21,
          20.98,
          21.2,
          21.88,
          22.86,
          24.16,
          25.27,
          25.78,
          26.99,
          27.63,
          28.43,
          28.01,
          27.19,
          26.49,
          25.76,
          24.22,
          22.97,
          22.6,
          22.58,
          22.22,
          21.7,
          21.69,
          21.82,
          21.78,
          21.7,
          21.54,
          21.28,
          23.19,
          25.42,
          26.77,
          27.99,
          29.22,
          29.63,
          27.84,
          26.77,
          27.84,
          27.13,
          25.96,
          24.95,
          23.99,
          23.66,
          22.99,
          22.5,
          22.25,
          22.36,
          22.52,
          22.59,
          22.21,
          22.24,
          22.42,
          22.68,
          23.54,
          23.92,
          25.38,
          26.34,
          26.7,
          25.13,
          26.24,
          27.69,
          27.22,
          26.58,
          25.76,
          25.1,
          24.47,
          23.93,
          23.86,
          23.61,
          23.4,
          23.18,
          22.68,
          22.08,
          22.14,
          21.75,
          21.46,
          21.86,
          23.33,
          25.44,
          26.45,
          27.58,
          28.48,
          28.69,
          28.6,
          27.35,
          28.04,
          27.4,
          26.92,
          26.04,
          23.05,
          23.36,
          23.04,
          23.3,
          23.62,
          22.82,
          22.68,
          22.6,
          22.45,
          22.59,
          22.6,
          22.71,
          23.45,
          24.74,
          25.88,
          27.2,
          27.98,
          27.88,
          28.18,
          28.78,
          28.15,
          27.78,
          26.63,
          25.52,
          24.6,
          23.78,
          23.44,
          22.94,
          22.93,
          22.85,
          22.7,
          22.67,
          22.81,
          22.63,
          22.15,
          22.02,
          22.89,
          24.12,
          25.16,
          26.07,
          27,
          28.77,
          28.77,
          28.69,
          26.43,
          24.05,
          24.21,
          23.9,
          23.37,
          22.92,
          22.98,
          22.27,
          22
         ],
         "yaxis": "y"
        }
       ],
       "layout": {
        "legend": {
         "tracegroupgap": 0
        },
        "margin": {
         "t": 60
        },
        "template": {
         "data": {
          "bar": [
           {
            "error_x": {
             "color": "#2a3f5f"
            },
            "error_y": {
             "color": "#2a3f5f"
            },
            "marker": {
             "line": {
              "color": "#E5ECF6",
              "width": 0.5
             },
             "pattern": {
              "fillmode": "overlay",
              "size": 10,
              "solidity": 0.2
             }
            },
            "type": "bar"
           }
          ],
          "barpolar": [
           {
            "marker": {
             "line": {
              "color": "#E5ECF6",
              "width": 0.5
             },
             "pattern": {
              "fillmode": "overlay",
              "size": 10,
              "solidity": 0.2
             }
            },
            "type": "barpolar"
           }
          ],
          "carpet": [
           {
            "aaxis": {
             "endlinecolor": "#2a3f5f",
             "gridcolor": "white",
             "linecolor": "white",
             "minorgridcolor": "white",
             "startlinecolor": "#2a3f5f"
            },
            "baxis": {
             "endlinecolor": "#2a3f5f",
             "gridcolor": "white",
             "linecolor": "white",
             "minorgridcolor": "white",
             "startlinecolor": "#2a3f5f"
            },
            "type": "carpet"
           }
          ],
          "choropleth": [
           {
            "colorbar": {
             "outlinewidth": 0,
             "ticks": ""
            },
            "type": "choropleth"
           }
          ],
          "contour": [
           {
            "colorbar": {
             "outlinewidth": 0,
             "ticks": ""
            },
            "colorscale": [
             [
              0,
              "#0d0887"
             ],
             [
              0.1111111111111111,
              "#46039f"
             ],
             [
              0.2222222222222222,
              "#7201a8"
             ],
             [
              0.3333333333333333,
              "#9c179e"
             ],
             [
              0.4444444444444444,
              "#bd3786"
             ],
             [
              0.5555555555555556,
              "#d8576b"
             ],
             [
              0.6666666666666666,
              "#ed7953"
             ],
             [
              0.7777777777777778,
              "#fb9f3a"
             ],
             [
              0.8888888888888888,
              "#fdca26"
             ],
             [
              1,
              "#f0f921"
             ]
            ],
            "type": "contour"
           }
          ],
          "contourcarpet": [
           {
            "colorbar": {
             "outlinewidth": 0,
             "ticks": ""
            },
            "type": "contourcarpet"
           }
          ],
          "heatmap": [
           {
            "colorbar": {
             "outlinewidth": 0,
             "ticks": ""
            },
            "colorscale": [
             [
              0,
              "#0d0887"
             ],
             [
              0.1111111111111111,
              "#46039f"
             ],
             [
              0.2222222222222222,
              "#7201a8"
             ],
             [
              0.3333333333333333,
              "#9c179e"
             ],
             [
              0.4444444444444444,
              "#bd3786"
             ],
             [
              0.5555555555555556,
              "#d8576b"
             ],
             [
              0.6666666666666666,
              "#ed7953"
             ],
             [
              0.7777777777777778,
              "#fb9f3a"
             ],
             [
              0.8888888888888888,
              "#fdca26"
             ],
             [
              1,
              "#f0f921"
             ]
            ],
            "type": "heatmap"
           }
          ],
          "heatmapgl": [
           {
            "colorbar": {
             "outlinewidth": 0,
             "ticks": ""
            },
            "colorscale": [
             [
              0,
              "#0d0887"
             ],
             [
              0.1111111111111111,
              "#46039f"
             ],
             [
              0.2222222222222222,
              "#7201a8"
             ],
             [
              0.3333333333333333,
              "#9c179e"
             ],
             [
              0.4444444444444444,
              "#bd3786"
             ],
             [
              0.5555555555555556,
              "#d8576b"
             ],
             [
              0.6666666666666666,
              "#ed7953"
             ],
             [
              0.7777777777777778,
              "#fb9f3a"
             ],
             [
              0.8888888888888888,
              "#fdca26"
             ],
             [
              1,
              "#f0f921"
             ]
            ],
            "type": "heatmapgl"
           }
          ],
          "histogram": [
           {
            "marker": {
             "pattern": {
              "fillmode": "overlay",
              "size": 10,
              "solidity": 0.2
             }
            },
            "type": "histogram"
           }
          ],
          "histogram2d": [
           {
            "colorbar": {
             "outlinewidth": 0,
             "ticks": ""
            },
            "colorscale": [
             [
              0,
              "#0d0887"
             ],
             [
              0.1111111111111111,
              "#46039f"
             ],
             [
              0.2222222222222222,
              "#7201a8"
             ],
             [
              0.3333333333333333,
              "#9c179e"
             ],
             [
              0.4444444444444444,
              "#bd3786"
             ],
             [
              0.5555555555555556,
              "#d8576b"
             ],
             [
              0.6666666666666666,
              "#ed7953"
             ],
             [
              0.7777777777777778,
              "#fb9f3a"
             ],
             [
              0.8888888888888888,
              "#fdca26"
             ],
             [
              1,
              "#f0f921"
             ]
            ],
            "type": "histogram2d"
           }
          ],
          "histogram2dcontour": [
           {
            "colorbar": {
             "outlinewidth": 0,
             "ticks": ""
            },
            "colorscale": [
             [
              0,
              "#0d0887"
             ],
             [
              0.1111111111111111,
              "#46039f"
             ],
             [
              0.2222222222222222,
              "#7201a8"
             ],
             [
              0.3333333333333333,
              "#9c179e"
             ],
             [
              0.4444444444444444,
              "#bd3786"
             ],
             [
              0.5555555555555556,
              "#d8576b"
             ],
             [
              0.6666666666666666,
              "#ed7953"
             ],
             [
              0.7777777777777778,
              "#fb9f3a"
             ],
             [
              0.8888888888888888,
              "#fdca26"
             ],
             [
              1,
              "#f0f921"
             ]
            ],
            "type": "histogram2dcontour"
           }
          ],
          "mesh3d": [
           {
            "colorbar": {
             "outlinewidth": 0,
             "ticks": ""
            },
            "type": "mesh3d"
           }
          ],
          "parcoords": [
           {
            "line": {
             "colorbar": {
              "outlinewidth": 0,
              "ticks": ""
             }
            },
            "type": "parcoords"
           }
          ],
          "pie": [
           {
            "automargin": true,
            "type": "pie"
           }
          ],
          "scatter": [
           {
            "fillpattern": {
             "fillmode": "overlay",
             "size": 10,
             "solidity": 0.2
            },
            "type": "scatter"
           }
          ],
          "scatter3d": [
           {
            "line": {
             "colorbar": {
              "outlinewidth": 0,
              "ticks": ""
             }
            },
            "marker": {
             "colorbar": {
              "outlinewidth": 0,
              "ticks": ""
             }
            },
            "type": "scatter3d"
           }
          ],
          "scattercarpet": [
           {
            "marker": {
             "colorbar": {
              "outlinewidth": 0,
              "ticks": ""
             }
            },
            "type": "scattercarpet"
           }
          ],
          "scattergeo": [
           {
            "marker": {
             "colorbar": {
              "outlinewidth": 0,
              "ticks": ""
             }
            },
            "type": "scattergeo"
           }
          ],
          "scattergl": [
           {
            "marker": {
             "colorbar": {
              "outlinewidth": 0,
              "ticks": ""
             }
            },
            "type": "scattergl"
           }
          ],
          "scattermapbox": [
           {
            "marker": {
             "colorbar": {
              "outlinewidth": 0,
              "ticks": ""
             }
            },
            "type": "scattermapbox"
           }
          ],
          "scatterpolar": [
           {
            "marker": {
             "colorbar": {
              "outlinewidth": 0,
              "ticks": ""
             }
            },
            "type": "scatterpolar"
           }
          ],
          "scatterpolargl": [
           {
            "marker": {
             "colorbar": {
              "outlinewidth": 0,
              "ticks": ""
             }
            },
            "type": "scatterpolargl"
           }
          ],
          "scatterternary": [
           {
            "marker": {
             "colorbar": {
              "outlinewidth": 0,
              "ticks": ""
             }
            },
            "type": "scatterternary"
           }
          ],
          "surface": [
           {
            "colorbar": {
             "outlinewidth": 0,
             "ticks": ""
            },
            "colorscale": [
             [
              0,
              "#0d0887"
             ],
             [
              0.1111111111111111,
              "#46039f"
             ],
             [
              0.2222222222222222,
              "#7201a8"
             ],
             [
              0.3333333333333333,
              "#9c179e"
             ],
             [
              0.4444444444444444,
              "#bd3786"
             ],
             [
              0.5555555555555556,
              "#d8576b"
             ],
             [
              0.6666666666666666,
              "#ed7953"
             ],
             [
              0.7777777777777778,
              "#fb9f3a"
             ],
             [
              0.8888888888888888,
              "#fdca26"
             ],
             [
              1,
              "#f0f921"
             ]
            ],
            "type": "surface"
           }
          ],
          "table": [
           {
            "cells": {
             "fill": {
              "color": "#EBF0F8"
             },
             "line": {
              "color": "white"
             }
            },
            "header": {
             "fill": {
              "color": "#C8D4E3"
             },
             "line": {
              "color": "white"
             }
            },
            "type": "table"
           }
          ]
         },
         "layout": {
          "annotationdefaults": {
           "arrowcolor": "#2a3f5f",
           "arrowhead": 0,
           "arrowwidth": 1
          },
          "autotypenumbers": "strict",
          "coloraxis": {
           "colorbar": {
            "outlinewidth": 0,
            "ticks": ""
           }
          },
          "colorscale": {
           "diverging": [
            [
             0,
             "#8e0152"
            ],
            [
             0.1,
             "#c51b7d"
            ],
            [
             0.2,
             "#de77ae"
            ],
            [
             0.3,
             "#f1b6da"
            ],
            [
             0.4,
             "#fde0ef"
            ],
            [
             0.5,
             "#f7f7f7"
            ],
            [
             0.6,
             "#e6f5d0"
            ],
            [
             0.7,
             "#b8e186"
            ],
            [
             0.8,
             "#7fbc41"
            ],
            [
             0.9,
             "#4d9221"
            ],
            [
             1,
             "#276419"
            ]
           ],
           "sequential": [
            [
             0,
             "#0d0887"
            ],
            [
             0.1111111111111111,
             "#46039f"
            ],
            [
             0.2222222222222222,
             "#7201a8"
            ],
            [
             0.3333333333333333,
             "#9c179e"
            ],
            [
             0.4444444444444444,
             "#bd3786"
            ],
            [
             0.5555555555555556,
             "#d8576b"
            ],
            [
             0.6666666666666666,
             "#ed7953"
            ],
            [
             0.7777777777777778,
             "#fb9f3a"
            ],
            [
             0.8888888888888888,
             "#fdca26"
            ],
            [
             1,
             "#f0f921"
            ]
           ],
           "sequentialminus": [
            [
             0,
             "#0d0887"
            ],
            [
             0.1111111111111111,
             "#46039f"
            ],
            [
             0.2222222222222222,
             "#7201a8"
            ],
            [
             0.3333333333333333,
             "#9c179e"
            ],
            [
             0.4444444444444444,
             "#bd3786"
            ],
            [
             0.5555555555555556,
             "#d8576b"
            ],
            [
             0.6666666666666666,
             "#ed7953"
            ],
            [
             0.7777777777777778,
             "#fb9f3a"
            ],
            [
             0.8888888888888888,
             "#fdca26"
            ],
            [
             1,
             "#f0f921"
            ]
           ]
          },
          "colorway": [
           "#636efa",
           "#EF553B",
           "#00cc96",
           "#ab63fa",
           "#FFA15A",
           "#19d3f3",
           "#FF6692",
           "#B6E880",
           "#FF97FF",
           "#FECB52"
          ],
          "font": {
           "color": "#2a3f5f"
          },
          "geo": {
           "bgcolor": "white",
           "lakecolor": "white",
           "landcolor": "#E5ECF6",
           "showlakes": true,
           "showland": true,
           "subunitcolor": "white"
          },
          "hoverlabel": {
           "align": "left"
          },
          "hovermode": "closest",
          "mapbox": {
           "style": "light"
          },
          "paper_bgcolor": "white",
          "plot_bgcolor": "#E5ECF6",
          "polar": {
           "angularaxis": {
            "gridcolor": "white",
            "linecolor": "white",
            "ticks": ""
           },
           "bgcolor": "#E5ECF6",
           "radialaxis": {
            "gridcolor": "white",
            "linecolor": "white",
            "ticks": ""
           }
          },
          "scene": {
           "xaxis": {
            "backgroundcolor": "#E5ECF6",
            "gridcolor": "white",
            "gridwidth": 2,
            "linecolor": "white",
            "showbackground": true,
            "ticks": "",
            "zerolinecolor": "white"
           },
           "yaxis": {
            "backgroundcolor": "#E5ECF6",
            "gridcolor": "white",
            "gridwidth": 2,
            "linecolor": "white",
            "showbackground": true,
            "ticks": "",
            "zerolinecolor": "white"
           },
           "zaxis": {
            "backgroundcolor": "#E5ECF6",
            "gridcolor": "white",
            "gridwidth": 2,
            "linecolor": "white",
            "showbackground": true,
            "ticks": "",
            "zerolinecolor": "white"
           }
          },
          "shapedefaults": {
           "line": {
            "color": "#2a3f5f"
           }
          },
          "ternary": {
           "aaxis": {
            "gridcolor": "white",
            "linecolor": "white",
            "ticks": ""
           },
           "baxis": {
            "gridcolor": "white",
            "linecolor": "white",
            "ticks": ""
           },
           "bgcolor": "#E5ECF6",
           "caxis": {
            "gridcolor": "white",
            "linecolor": "white",
            "ticks": ""
           }
          },
          "title": {
           "x": 0.05
          },
          "xaxis": {
           "automargin": true,
           "gridcolor": "white",
           "linecolor": "white",
           "ticks": "",
           "title": {
            "standoff": 15
           },
           "zerolinecolor": "white",
           "zerolinewidth": 2
          },
          "yaxis": {
           "automargin": true,
           "gridcolor": "white",
           "linecolor": "white",
           "ticks": "",
           "title": {
            "standoff": 15
           },
           "zerolinecolor": "white",
           "zerolinewidth": 2
          }
         }
        },
        "title": {
         "text": "Temperature Changes at Solar Site, 5/15/2020 to 6/17/2020"
        },
        "xaxis": {
         "anchor": "y",
         "domain": [
          0,
          1
         ],
         "title": {
          "text": "DATE_TIME"
         }
        },
        "yaxis": {
         "anchor": "x",
         "domain": [
          0,
          1
         ],
         "title": {
          "text": "Temperature (Celsius)"
         }
        }
       }
      }
     },
     "metadata": {},
     "output_type": "display_data"
    }
   ],
   "source": [
    "import plotly.express as px\n",
    "\n",
    "# function for quick one off variable plotting through time\n",
    "def plot_variable(df, var,title,yaxis):\n",
    "    fig = px.line(df, x=\"DATE_TIME\", y=var)\n",
    "    fig.update_layout(title=title,yaxis_title=yaxis)\n",
    "    fig.show()\n",
    "\n",
    "plot_variable(df=hourly_aggregate,\n",
    "              var=\"avg_temp\",\n",
    "              title=\"Temperature Changes at Solar Site, 5/15/2020 to 6/17/2020\",\n",
    "              yaxis=\"Temperature (Celsius)\")"
   ]
  },
  {
   "cell_type": "markdown",
   "metadata": {},
   "source": [
    "Temperature varies fairly widely at the site, from highs in the low/mid 30s C (this is low 90's F) to the low 60's F at night. There were some cold days during the period. "
   ]
  },
  {
   "cell_type": "code",
   "execution_count": 31,
   "metadata": {},
   "outputs": [
    {
     "data": {
      "application/vnd.plotly.v1+json": {
       "config": {
        "plotlyServerURL": "https://plot.ly"
       },
       "data": [
        {
         "name": "Total DC",
         "type": "scatter",
         "x": [
          "2020-05-20T00:00:00",
          "2020-05-20T01:00:00",
          "2020-05-20T02:00:00",
          "2020-05-20T03:00:00",
          "2020-05-20T04:00:00",
          "2020-05-20T05:00:00",
          "2020-05-20T06:00:00",
          "2020-05-20T07:00:00",
          "2020-05-20T08:00:00",
          "2020-05-20T09:00:00",
          "2020-05-20T10:00:00",
          "2020-05-20T11:00:00",
          "2020-05-20T12:00:00",
          "2020-05-20T13:00:00",
          "2020-05-20T17:30:00",
          "2020-05-20T18:00:00",
          "2020-05-20T19:00:00",
          "2020-05-20T20:00:00",
          "2020-05-20T21:00:00",
          "2020-05-20T22:00:00",
          "2020-05-21T07:45:00",
          "2020-05-21T08:00:00",
          "2020-05-21T09:00:00",
          "2020-05-21T10:00:00",
          "2020-05-21T11:00:00",
          "2020-05-21T12:00:00",
          "2020-05-21T13:00:00",
          "2020-05-21T14:00:00",
          "2020-05-21T15:00:00",
          "2020-05-21T16:00:00",
          "2020-05-21T17:00:00",
          "2020-05-21T18:00:00",
          "2020-05-21T19:00:00",
          "2020-05-21T20:00:00",
          "2020-05-21T21:00:00",
          "2020-05-21T22:00:00",
          "2020-05-21T23:00:00",
          "2020-05-22T00:00:00",
          "2020-05-22T01:00:00",
          "2020-05-22T02:00:00",
          "2020-05-22T03:00:00",
          "2020-05-22T04:00:00",
          "2020-05-22T05:00:00",
          "2020-05-22T06:00:00",
          "2020-05-22T07:00:00",
          "2020-05-22T08:00:00",
          "2020-05-22T09:00:00",
          "2020-05-22T10:00:00",
          "2020-05-22T11:00:00",
          "2020-05-22T12:00:00",
          "2020-05-22T13:00:00",
          "2020-05-22T14:00:00",
          "2020-05-22T15:00:00",
          "2020-05-22T16:00:00",
          "2020-05-22T17:00:00",
          "2020-05-22T18:00:00",
          "2020-05-22T19:00:00",
          "2020-05-22T20:00:00",
          "2020-05-22T21:00:00",
          "2020-05-22T22:00:00",
          "2020-05-22T23:00:00",
          "2020-05-23T00:00:00",
          "2020-05-23T01:00:00",
          "2020-05-23T02:00:00",
          "2020-05-23T03:00:00",
          "2020-05-23T04:00:00",
          "2020-05-23T05:00:00",
          "2020-05-23T06:45:00",
          "2020-05-23T07:00:00",
          "2020-05-23T08:00:00",
          "2020-05-23T09:00:00",
          "2020-05-23T10:00:00",
          "2020-05-23T11:00:00",
          "2020-05-23T12:00:00",
          "2020-05-23T13:00:00",
          "2020-05-23T14:00:00",
          "2020-05-23T15:00:00",
          "2020-05-23T16:00:00",
          "2020-05-23T17:00:00",
          "2020-05-23T18:00:00",
          "2020-05-23T19:00:00",
          "2020-05-23T20:00:00",
          "2020-05-23T21:00:00",
          "2020-05-23T22:00:00",
          "2020-05-23T23:00:00",
          "2020-05-24T00:00:00",
          "2020-05-24T01:00:00",
          "2020-05-24T02:00:00",
          "2020-05-24T03:00:00",
          "2020-05-24T04:00:00",
          "2020-05-24T05:00:00",
          "2020-05-24T06:00:00",
          "2020-05-24T07:00:00",
          "2020-05-24T08:00:00",
          "2020-05-24T09:00:00",
          "2020-05-24T10:00:00",
          "2020-05-24T11:00:00",
          "2020-05-24T12:00:00",
          "2020-05-24T13:00:00",
          "2020-05-24T14:00:00",
          "2020-05-24T15:00:00",
          "2020-05-24T16:00:00",
          "2020-05-24T17:00:00",
          "2020-05-24T18:00:00",
          "2020-05-24T19:00:00",
          "2020-05-24T20:00:00",
          "2020-05-24T21:00:00",
          "2020-05-24T22:00:00",
          "2020-05-24T23:00:00",
          "2020-05-25T00:00:00",
          "2020-05-25T01:00:00",
          "2020-05-25T02:00:00",
          "2020-05-25T03:00:00",
          "2020-05-25T04:00:00",
          "2020-05-25T05:00:00",
          "2020-05-25T06:00:00",
          "2020-05-25T07:00:00",
          "2020-05-25T08:00:00",
          "2020-05-25T09:00:00",
          "2020-05-25T10:00:00",
          "2020-05-25T11:00:00",
          "2020-05-25T12:00:00",
          "2020-05-25T13:00:00",
          "2020-05-25T14:00:00",
          "2020-05-25T15:00:00",
          "2020-05-25T16:00:00",
          "2020-05-25T17:00:00",
          "2020-05-25T18:00:00",
          "2020-05-25T19:00:00",
          "2020-05-25T20:00:00",
          "2020-05-25T21:00:00",
          "2020-05-25T22:00:00",
          "2020-05-25T23:00:00",
          "2020-05-26T00:00:00",
          "2020-05-26T01:00:00",
          "2020-05-26T02:00:00",
          "2020-05-26T03:00:00",
          "2020-05-26T04:00:00",
          "2020-05-26T05:00:00",
          "2020-05-26T06:00:00",
          "2020-05-26T07:00:00",
          "2020-05-26T08:00:00",
          "2020-05-26T09:00:00",
          "2020-05-26T10:00:00",
          "2020-05-26T11:00:00",
          "2020-05-26T12:00:00",
          "2020-05-26T13:00:00",
          "2020-05-26T14:00:00",
          "2020-05-26T15:00:00",
          "2020-05-26T16:00:00",
          "2020-05-26T17:00:00",
          "2020-05-26T18:00:00",
          "2020-05-26T19:00:00",
          "2020-05-26T20:00:00",
          "2020-05-26T21:00:00",
          "2020-05-26T22:00:00",
          "2020-05-26T23:00:00",
          "2020-05-27T00:00:00"
         ],
         "y": [
          0,
          0,
          0,
          0,
          0,
          0,
          48567.57,
          260964.3,
          547730.37,
          760212.75,
          949093.43,
          1064016.89,
          1120950.52,
          522015.51,
          74780.93,
          27253.52,
          0,
          0,
          0,
          0,
          76297.85,
          527519.31,
          808786.06,
          734222.31,
          1045382.99,
          875804.47,
          977007.34,
          739455.91,
          614382.46,
          310917.68,
          62690.61,
          8601.16,
          0,
          0,
          0,
          0,
          0,
          0,
          0,
          0,
          0,
          0,
          0,
          63238.34,
          308776.84,
          356639.8,
          496513.18,
          669893.89,
          902382.14,
          961908.82,
          920133.13,
          871788.63,
          547448.75,
          222682.3,
          90621.88,
          8656.8,
          0,
          0,
          0,
          0,
          0,
          0,
          0,
          0,
          0,
          0,
          0,
          14655.7,
          220372.52,
          584691.97,
          755380.65,
          800699.79,
          1067784.34,
          1029668.67,
          1033346.44,
          727498.52,
          658016.14,
          482317.9,
          213762.1,
          42022.46,
          0,
          0,
          0,
          0,
          0,
          0,
          0,
          0,
          0,
          0,
          0,
          53771.59,
          251061.89,
          488279.06,
          635502,
          808944.42,
          992282,
          1059852.97,
          995978.87,
          819105.35,
          476225.87,
          346192.2,
          208189.37,
          24968.31,
          0,
          0,
          0,
          0,
          0,
          0,
          0,
          0,
          0,
          0,
          0,
          50796.6,
          231660.19,
          516674.22,
          809243.88,
          963598.78,
          1071420.87,
          1102284.93,
          1039643.22,
          911162.54,
          778420.89,
          336460.88,
          72409.05,
          15189.05,
          0,
          0,
          0,
          0,
          0,
          0,
          0,
          0,
          0,
          0,
          0,
          54580.04,
          261908.34,
          553836.4,
          799685.76,
          956244.43,
          894533.47,
          951177.42,
          876905.65,
          516402.4,
          536224.54,
          500614.44,
          140609.96,
          9982.05,
          0,
          0,
          0,
          0,
          0,
          0
         ]
        },
        {
         "name": "Total AC",
         "type": "scatter",
         "x": [
          "2020-05-20T00:00:00",
          "2020-05-20T01:00:00",
          "2020-05-20T02:00:00",
          "2020-05-20T03:00:00",
          "2020-05-20T04:00:00",
          "2020-05-20T05:00:00",
          "2020-05-20T06:00:00",
          "2020-05-20T07:00:00",
          "2020-05-20T08:00:00",
          "2020-05-20T09:00:00",
          "2020-05-20T10:00:00",
          "2020-05-20T11:00:00",
          "2020-05-20T12:00:00",
          "2020-05-20T13:00:00",
          "2020-05-20T17:30:00",
          "2020-05-20T18:00:00",
          "2020-05-20T19:00:00",
          "2020-05-20T20:00:00",
          "2020-05-20T21:00:00",
          "2020-05-20T22:00:00",
          "2020-05-21T07:45:00",
          "2020-05-21T08:00:00",
          "2020-05-21T09:00:00",
          "2020-05-21T10:00:00",
          "2020-05-21T11:00:00",
          "2020-05-21T12:00:00",
          "2020-05-21T13:00:00",
          "2020-05-21T14:00:00",
          "2020-05-21T15:00:00",
          "2020-05-21T16:00:00",
          "2020-05-21T17:00:00",
          "2020-05-21T18:00:00",
          "2020-05-21T19:00:00",
          "2020-05-21T20:00:00",
          "2020-05-21T21:00:00",
          "2020-05-21T22:00:00",
          "2020-05-21T23:00:00",
          "2020-05-22T00:00:00",
          "2020-05-22T01:00:00",
          "2020-05-22T02:00:00",
          "2020-05-22T03:00:00",
          "2020-05-22T04:00:00",
          "2020-05-22T05:00:00",
          "2020-05-22T06:00:00",
          "2020-05-22T07:00:00",
          "2020-05-22T08:00:00",
          "2020-05-22T09:00:00",
          "2020-05-22T10:00:00",
          "2020-05-22T11:00:00",
          "2020-05-22T12:00:00",
          "2020-05-22T13:00:00",
          "2020-05-22T14:00:00",
          "2020-05-22T15:00:00",
          "2020-05-22T16:00:00",
          "2020-05-22T17:00:00",
          "2020-05-22T18:00:00",
          "2020-05-22T19:00:00",
          "2020-05-22T20:00:00",
          "2020-05-22T21:00:00",
          "2020-05-22T22:00:00",
          "2020-05-22T23:00:00",
          "2020-05-23T00:00:00",
          "2020-05-23T01:00:00",
          "2020-05-23T02:00:00",
          "2020-05-23T03:00:00",
          "2020-05-23T04:00:00",
          "2020-05-23T05:00:00",
          "2020-05-23T06:45:00",
          "2020-05-23T07:00:00",
          "2020-05-23T08:00:00",
          "2020-05-23T09:00:00",
          "2020-05-23T10:00:00",
          "2020-05-23T11:00:00",
          "2020-05-23T12:00:00",
          "2020-05-23T13:00:00",
          "2020-05-23T14:00:00",
          "2020-05-23T15:00:00",
          "2020-05-23T16:00:00",
          "2020-05-23T17:00:00",
          "2020-05-23T18:00:00",
          "2020-05-23T19:00:00",
          "2020-05-23T20:00:00",
          "2020-05-23T21:00:00",
          "2020-05-23T22:00:00",
          "2020-05-23T23:00:00",
          "2020-05-24T00:00:00",
          "2020-05-24T01:00:00",
          "2020-05-24T02:00:00",
          "2020-05-24T03:00:00",
          "2020-05-24T04:00:00",
          "2020-05-24T05:00:00",
          "2020-05-24T06:00:00",
          "2020-05-24T07:00:00",
          "2020-05-24T08:00:00",
          "2020-05-24T09:00:00",
          "2020-05-24T10:00:00",
          "2020-05-24T11:00:00",
          "2020-05-24T12:00:00",
          "2020-05-24T13:00:00",
          "2020-05-24T14:00:00",
          "2020-05-24T15:00:00",
          "2020-05-24T16:00:00",
          "2020-05-24T17:00:00",
          "2020-05-24T18:00:00",
          "2020-05-24T19:00:00",
          "2020-05-24T20:00:00",
          "2020-05-24T21:00:00",
          "2020-05-24T22:00:00",
          "2020-05-24T23:00:00",
          "2020-05-25T00:00:00",
          "2020-05-25T01:00:00",
          "2020-05-25T02:00:00",
          "2020-05-25T03:00:00",
          "2020-05-25T04:00:00",
          "2020-05-25T05:00:00",
          "2020-05-25T06:00:00",
          "2020-05-25T07:00:00",
          "2020-05-25T08:00:00",
          "2020-05-25T09:00:00",
          "2020-05-25T10:00:00",
          "2020-05-25T11:00:00",
          "2020-05-25T12:00:00",
          "2020-05-25T13:00:00",
          "2020-05-25T14:00:00",
          "2020-05-25T15:00:00",
          "2020-05-25T16:00:00",
          "2020-05-25T17:00:00",
          "2020-05-25T18:00:00",
          "2020-05-25T19:00:00",
          "2020-05-25T20:00:00",
          "2020-05-25T21:00:00",
          "2020-05-25T22:00:00",
          "2020-05-25T23:00:00",
          "2020-05-26T00:00:00",
          "2020-05-26T01:00:00",
          "2020-05-26T02:00:00",
          "2020-05-26T03:00:00",
          "2020-05-26T04:00:00",
          "2020-05-26T05:00:00",
          "2020-05-26T06:00:00",
          "2020-05-26T07:00:00",
          "2020-05-26T08:00:00",
          "2020-05-26T09:00:00",
          "2020-05-26T10:00:00",
          "2020-05-26T11:00:00",
          "2020-05-26T12:00:00",
          "2020-05-26T13:00:00",
          "2020-05-26T14:00:00",
          "2020-05-26T15:00:00",
          "2020-05-26T16:00:00",
          "2020-05-26T17:00:00",
          "2020-05-26T18:00:00",
          "2020-05-26T19:00:00",
          "2020-05-26T20:00:00",
          "2020-05-26T21:00:00",
          "2020-05-26T22:00:00",
          "2020-05-26T23:00:00",
          "2020-05-27T00:00:00"
         ],
         "y": [
          0,
          0,
          0,
          0,
          0,
          0,
          4708.73,
          25611.13,
          53661.91,
          74383.59,
          92747.57,
          103784.21,
          109303.6,
          50921.96,
          7321.02,
          2640.84,
          0,
          0,
          0,
          0,
          7494.9,
          51681.05,
          79104.39,
          71733.19,
          101990.98,
          85531.15,
          95340.14,
          72271.47,
          60150.29,
          30535.06,
          6079.12,
          830.71,
          0,
          0,
          0,
          0,
          0,
          0,
          0,
          0,
          0,
          0,
          0,
          6137.71,
          30296.06,
          34982.97,
          48662.57,
          65507.71,
          88098.58,
          93897.23,
          89940.01,
          85169.12,
          53622.66,
          21853.3,
          8826.2,
          836.01,
          0,
          0,
          0,
          0,
          0,
          0,
          0,
          0,
          0,
          0,
          0,
          1419.49,
          21618.51,
          57270.05,
          73896.87,
          78277.04,
          104151.51,
          100487.35,
          100832.61,
          71175.47,
          64415.91,
          47284.24,
          20970.6,
          4084.68,
          0,
          0,
          0,
          0,
          0,
          0,
          0,
          0,
          0,
          0,
          0,
          5218.01,
          24642.03,
          47856.74,
          62212.88,
          79030.81,
          96831.03,
          103382.34,
          97169.33,
          80053.77,
          46647.29,
          33949.5,
          20409.04,
          2415.03,
          0,
          0,
          0,
          0,
          0,
          0,
          0,
          0,
          0,
          0,
          0,
          4930.22,
          22726.09,
          50620.39,
          79157.66,
          94110.22,
          104485.66,
          107479.25,
          101424.39,
          89043.63,
          76152.92,
          32950.54,
          7027.56,
          1467.64,
          0,
          0,
          0,
          0,
          0,
          0,
          0,
          0,
          0,
          0,
          0,
          5297.33,
          25709.9,
          54256.72,
          78226.43,
          93362.42,
          87336.89,
          92820.49,
          85607.42,
          50566.87,
          52534.75,
          49061.01,
          13739.03,
          964.52,
          0,
          0,
          0,
          0,
          0,
          0
         ]
        }
       ],
       "layout": {
        "annotations": [
         {
          "showarrow": false,
          "text": "2020-05-20 to 2020-05-27",
          "x": -0.022,
          "xref": "paper",
          "y": 1.15,
          "yref": "paper"
         }
        ],
        "template": {
         "data": {
          "bar": [
           {
            "error_x": {
             "color": "#2a3f5f"
            },
            "error_y": {
             "color": "#2a3f5f"
            },
            "marker": {
             "line": {
              "color": "#E5ECF6",
              "width": 0.5
             },
             "pattern": {
              "fillmode": "overlay",
              "size": 10,
              "solidity": 0.2
             }
            },
            "type": "bar"
           }
          ],
          "barpolar": [
           {
            "marker": {
             "line": {
              "color": "#E5ECF6",
              "width": 0.5
             },
             "pattern": {
              "fillmode": "overlay",
              "size": 10,
              "solidity": 0.2
             }
            },
            "type": "barpolar"
           }
          ],
          "carpet": [
           {
            "aaxis": {
             "endlinecolor": "#2a3f5f",
             "gridcolor": "white",
             "linecolor": "white",
             "minorgridcolor": "white",
             "startlinecolor": "#2a3f5f"
            },
            "baxis": {
             "endlinecolor": "#2a3f5f",
             "gridcolor": "white",
             "linecolor": "white",
             "minorgridcolor": "white",
             "startlinecolor": "#2a3f5f"
            },
            "type": "carpet"
           }
          ],
          "choropleth": [
           {
            "colorbar": {
             "outlinewidth": 0,
             "ticks": ""
            },
            "type": "choropleth"
           }
          ],
          "contour": [
           {
            "colorbar": {
             "outlinewidth": 0,
             "ticks": ""
            },
            "colorscale": [
             [
              0,
              "#0d0887"
             ],
             [
              0.1111111111111111,
              "#46039f"
             ],
             [
              0.2222222222222222,
              "#7201a8"
             ],
             [
              0.3333333333333333,
              "#9c179e"
             ],
             [
              0.4444444444444444,
              "#bd3786"
             ],
             [
              0.5555555555555556,
              "#d8576b"
             ],
             [
              0.6666666666666666,
              "#ed7953"
             ],
             [
              0.7777777777777778,
              "#fb9f3a"
             ],
             [
              0.8888888888888888,
              "#fdca26"
             ],
             [
              1,
              "#f0f921"
             ]
            ],
            "type": "contour"
           }
          ],
          "contourcarpet": [
           {
            "colorbar": {
             "outlinewidth": 0,
             "ticks": ""
            },
            "type": "contourcarpet"
           }
          ],
          "heatmap": [
           {
            "colorbar": {
             "outlinewidth": 0,
             "ticks": ""
            },
            "colorscale": [
             [
              0,
              "#0d0887"
             ],
             [
              0.1111111111111111,
              "#46039f"
             ],
             [
              0.2222222222222222,
              "#7201a8"
             ],
             [
              0.3333333333333333,
              "#9c179e"
             ],
             [
              0.4444444444444444,
              "#bd3786"
             ],
             [
              0.5555555555555556,
              "#d8576b"
             ],
             [
              0.6666666666666666,
              "#ed7953"
             ],
             [
              0.7777777777777778,
              "#fb9f3a"
             ],
             [
              0.8888888888888888,
              "#fdca26"
             ],
             [
              1,
              "#f0f921"
             ]
            ],
            "type": "heatmap"
           }
          ],
          "heatmapgl": [
           {
            "colorbar": {
             "outlinewidth": 0,
             "ticks": ""
            },
            "colorscale": [
             [
              0,
              "#0d0887"
             ],
             [
              0.1111111111111111,
              "#46039f"
             ],
             [
              0.2222222222222222,
              "#7201a8"
             ],
             [
              0.3333333333333333,
              "#9c179e"
             ],
             [
              0.4444444444444444,
              "#bd3786"
             ],
             [
              0.5555555555555556,
              "#d8576b"
             ],
             [
              0.6666666666666666,
              "#ed7953"
             ],
             [
              0.7777777777777778,
              "#fb9f3a"
             ],
             [
              0.8888888888888888,
              "#fdca26"
             ],
             [
              1,
              "#f0f921"
             ]
            ],
            "type": "heatmapgl"
           }
          ],
          "histogram": [
           {
            "marker": {
             "pattern": {
              "fillmode": "overlay",
              "size": 10,
              "solidity": 0.2
             }
            },
            "type": "histogram"
           }
          ],
          "histogram2d": [
           {
            "colorbar": {
             "outlinewidth": 0,
             "ticks": ""
            },
            "colorscale": [
             [
              0,
              "#0d0887"
             ],
             [
              0.1111111111111111,
              "#46039f"
             ],
             [
              0.2222222222222222,
              "#7201a8"
             ],
             [
              0.3333333333333333,
              "#9c179e"
             ],
             [
              0.4444444444444444,
              "#bd3786"
             ],
             [
              0.5555555555555556,
              "#d8576b"
             ],
             [
              0.6666666666666666,
              "#ed7953"
             ],
             [
              0.7777777777777778,
              "#fb9f3a"
             ],
             [
              0.8888888888888888,
              "#fdca26"
             ],
             [
              1,
              "#f0f921"
             ]
            ],
            "type": "histogram2d"
           }
          ],
          "histogram2dcontour": [
           {
            "colorbar": {
             "outlinewidth": 0,
             "ticks": ""
            },
            "colorscale": [
             [
              0,
              "#0d0887"
             ],
             [
              0.1111111111111111,
              "#46039f"
             ],
             [
              0.2222222222222222,
              "#7201a8"
             ],
             [
              0.3333333333333333,
              "#9c179e"
             ],
             [
              0.4444444444444444,
              "#bd3786"
             ],
             [
              0.5555555555555556,
              "#d8576b"
             ],
             [
              0.6666666666666666,
              "#ed7953"
             ],
             [
              0.7777777777777778,
              "#fb9f3a"
             ],
             [
              0.8888888888888888,
              "#fdca26"
             ],
             [
              1,
              "#f0f921"
             ]
            ],
            "type": "histogram2dcontour"
           }
          ],
          "mesh3d": [
           {
            "colorbar": {
             "outlinewidth": 0,
             "ticks": ""
            },
            "type": "mesh3d"
           }
          ],
          "parcoords": [
           {
            "line": {
             "colorbar": {
              "outlinewidth": 0,
              "ticks": ""
             }
            },
            "type": "parcoords"
           }
          ],
          "pie": [
           {
            "automargin": true,
            "type": "pie"
           }
          ],
          "scatter": [
           {
            "fillpattern": {
             "fillmode": "overlay",
             "size": 10,
             "solidity": 0.2
            },
            "type": "scatter"
           }
          ],
          "scatter3d": [
           {
            "line": {
             "colorbar": {
              "outlinewidth": 0,
              "ticks": ""
             }
            },
            "marker": {
             "colorbar": {
              "outlinewidth": 0,
              "ticks": ""
             }
            },
            "type": "scatter3d"
           }
          ],
          "scattercarpet": [
           {
            "marker": {
             "colorbar": {
              "outlinewidth": 0,
              "ticks": ""
             }
            },
            "type": "scattercarpet"
           }
          ],
          "scattergeo": [
           {
            "marker": {
             "colorbar": {
              "outlinewidth": 0,
              "ticks": ""
             }
            },
            "type": "scattergeo"
           }
          ],
          "scattergl": [
           {
            "marker": {
             "colorbar": {
              "outlinewidth": 0,
              "ticks": ""
             }
            },
            "type": "scattergl"
           }
          ],
          "scattermapbox": [
           {
            "marker": {
             "colorbar": {
              "outlinewidth": 0,
              "ticks": ""
             }
            },
            "type": "scattermapbox"
           }
          ],
          "scatterpolar": [
           {
            "marker": {
             "colorbar": {
              "outlinewidth": 0,
              "ticks": ""
             }
            },
            "type": "scatterpolar"
           }
          ],
          "scatterpolargl": [
           {
            "marker": {
             "colorbar": {
              "outlinewidth": 0,
              "ticks": ""
             }
            },
            "type": "scatterpolargl"
           }
          ],
          "scatterternary": [
           {
            "marker": {
             "colorbar": {
              "outlinewidth": 0,
              "ticks": ""
             }
            },
            "type": "scatterternary"
           }
          ],
          "surface": [
           {
            "colorbar": {
             "outlinewidth": 0,
             "ticks": ""
            },
            "colorscale": [
             [
              0,
              "#0d0887"
             ],
             [
              0.1111111111111111,
              "#46039f"
             ],
             [
              0.2222222222222222,
              "#7201a8"
             ],
             [
              0.3333333333333333,
              "#9c179e"
             ],
             [
              0.4444444444444444,
              "#bd3786"
             ],
             [
              0.5555555555555556,
              "#d8576b"
             ],
             [
              0.6666666666666666,
              "#ed7953"
             ],
             [
              0.7777777777777778,
              "#fb9f3a"
             ],
             [
              0.8888888888888888,
              "#fdca26"
             ],
             [
              1,
              "#f0f921"
             ]
            ],
            "type": "surface"
           }
          ],
          "table": [
           {
            "cells": {
             "fill": {
              "color": "#EBF0F8"
             },
             "line": {
              "color": "white"
             }
            },
            "header": {
             "fill": {
              "color": "#C8D4E3"
             },
             "line": {
              "color": "white"
             }
            },
            "type": "table"
           }
          ]
         },
         "layout": {
          "annotationdefaults": {
           "arrowcolor": "#2a3f5f",
           "arrowhead": 0,
           "arrowwidth": 1
          },
          "autotypenumbers": "strict",
          "coloraxis": {
           "colorbar": {
            "outlinewidth": 0,
            "ticks": ""
           }
          },
          "colorscale": {
           "diverging": [
            [
             0,
             "#8e0152"
            ],
            [
             0.1,
             "#c51b7d"
            ],
            [
             0.2,
             "#de77ae"
            ],
            [
             0.3,
             "#f1b6da"
            ],
            [
             0.4,
             "#fde0ef"
            ],
            [
             0.5,
             "#f7f7f7"
            ],
            [
             0.6,
             "#e6f5d0"
            ],
            [
             0.7,
             "#b8e186"
            ],
            [
             0.8,
             "#7fbc41"
            ],
            [
             0.9,
             "#4d9221"
            ],
            [
             1,
             "#276419"
            ]
           ],
           "sequential": [
            [
             0,
             "#0d0887"
            ],
            [
             0.1111111111111111,
             "#46039f"
            ],
            [
             0.2222222222222222,
             "#7201a8"
            ],
            [
             0.3333333333333333,
             "#9c179e"
            ],
            [
             0.4444444444444444,
             "#bd3786"
            ],
            [
             0.5555555555555556,
             "#d8576b"
            ],
            [
             0.6666666666666666,
             "#ed7953"
            ],
            [
             0.7777777777777778,
             "#fb9f3a"
            ],
            [
             0.8888888888888888,
             "#fdca26"
            ],
            [
             1,
             "#f0f921"
            ]
           ],
           "sequentialminus": [
            [
             0,
             "#0d0887"
            ],
            [
             0.1111111111111111,
             "#46039f"
            ],
            [
             0.2222222222222222,
             "#7201a8"
            ],
            [
             0.3333333333333333,
             "#9c179e"
            ],
            [
             0.4444444444444444,
             "#bd3786"
            ],
            [
             0.5555555555555556,
             "#d8576b"
            ],
            [
             0.6666666666666666,
             "#ed7953"
            ],
            [
             0.7777777777777778,
             "#fb9f3a"
            ],
            [
             0.8888888888888888,
             "#fdca26"
            ],
            [
             1,
             "#f0f921"
            ]
           ]
          },
          "colorway": [
           "#636efa",
           "#EF553B",
           "#00cc96",
           "#ab63fa",
           "#FFA15A",
           "#19d3f3",
           "#FF6692",
           "#B6E880",
           "#FF97FF",
           "#FECB52"
          ],
          "font": {
           "color": "#2a3f5f"
          },
          "geo": {
           "bgcolor": "white",
           "lakecolor": "white",
           "landcolor": "#E5ECF6",
           "showlakes": true,
           "showland": true,
           "subunitcolor": "white"
          },
          "hoverlabel": {
           "align": "left"
          },
          "hovermode": "closest",
          "mapbox": {
           "style": "light"
          },
          "paper_bgcolor": "white",
          "plot_bgcolor": "#E5ECF6",
          "polar": {
           "angularaxis": {
            "gridcolor": "white",
            "linecolor": "white",
            "ticks": ""
           },
           "bgcolor": "#E5ECF6",
           "radialaxis": {
            "gridcolor": "white",
            "linecolor": "white",
            "ticks": ""
           }
          },
          "scene": {
           "xaxis": {
            "backgroundcolor": "#E5ECF6",
            "gridcolor": "white",
            "gridwidth": 2,
            "linecolor": "white",
            "showbackground": true,
            "ticks": "",
            "zerolinecolor": "white"
           },
           "yaxis": {
            "backgroundcolor": "#E5ECF6",
            "gridcolor": "white",
            "gridwidth": 2,
            "linecolor": "white",
            "showbackground": true,
            "ticks": "",
            "zerolinecolor": "white"
           },
           "zaxis": {
            "backgroundcolor": "#E5ECF6",
            "gridcolor": "white",
            "gridwidth": 2,
            "linecolor": "white",
            "showbackground": true,
            "ticks": "",
            "zerolinecolor": "white"
           }
          },
          "shapedefaults": {
           "line": {
            "color": "#2a3f5f"
           }
          },
          "ternary": {
           "aaxis": {
            "gridcolor": "white",
            "linecolor": "white",
            "ticks": ""
           },
           "baxis": {
            "gridcolor": "white",
            "linecolor": "white",
            "ticks": ""
           },
           "bgcolor": "#E5ECF6",
           "caxis": {
            "gridcolor": "white",
            "linecolor": "white",
            "ticks": ""
           }
          },
          "title": {
           "x": 0.05
          },
          "xaxis": {
           "automargin": true,
           "gridcolor": "white",
           "linecolor": "white",
           "ticks": "",
           "title": {
            "standoff": 15
           },
           "zerolinecolor": "white",
           "zerolinewidth": 2
          },
          "yaxis": {
           "automargin": true,
           "gridcolor": "white",
           "linecolor": "white",
           "ticks": "",
           "title": {
            "standoff": 15
           },
           "zerolinecolor": "white",
           "zerolinewidth": 2
          }
         }
        },
        "title": {
         "text": "Hourly DC and AC Output"
        },
        "xaxis": {
         "title": {
          "text": "Date"
         }
        },
        "yaxis": {
         "title": {
          "text": "kilowatts"
         }
        }
       }
      }
     },
     "metadata": {},
     "output_type": "display_data"
    }
   ],
   "source": [
    "import plotly.graph_objects as go\n",
    "\n",
    "\"\"\"plot multiple variables on the same axis, and filter by date. This was a tricky function to write, it took me a long time. \n",
    "I like Plotly a lot for its interactive labels. This function plays around with start and end dates, using conditional behavior \n",
    "depending on what is provided for start and end date. If only start is provided, the graph will include all data from that date \n",
    "through the end of the period. If only end is provided, it will start at the beginning and go to this end point. If no dates are \n",
    "provided, the entire timeframe is included.\n",
    "\"\"\"\n",
    "def plot_variable(df, var, key, start_date=None, end_date=None, title=None, subtitle=None,y_axis=None,x_axis=\"Date\"):\n",
    "    if start_date is None:\n",
    "        start_date = df[\"DATE_TIME\"].min()\n",
    "    else:\n",
    "        start_date = pd.to_datetime(start_date)\n",
    "\n",
    "    if end_date is None:\n",
    "        end_date = df[\"DATE_TIME\"].max()\n",
    "    else:\n",
    "        end_date = pd.to_datetime(end_date)\n",
    "\n",
    "    filtered_df = df[\n",
    "        (df[\"DATE_TIME\"] >= start_date) & (df[\"DATE_TIME\"] <= end_date)\n",
    "    ]\n",
    "\n",
    "    fig = go.Figure()\n",
    "    for v, k in zip(var, key):\n",
    "        fig.add_trace(go.Scatter(x=filtered_df[\"DATE_TIME\"], y=filtered_df[v], name=k))\n",
    "    fig.update_layout(title=title, yaxis_title = y_axis, xaxis_title=x_axis)\n",
    "    if subtitle:\n",
    "        fig.update_layout(annotations=[go.layout.Annotation(text=subtitle, xref='paper', yref='paper', x=-0.022, y=1.15, showarrow=False)])\n",
    "    fig.show()\n",
    "#example\n",
    "variables = ['total_DC', 'total_AC']\n",
    "key_labels = ['Total DC', 'Total AC']\n",
    "\n",
    "plot_variable(hourly_aggregate, variables, key_labels, \n",
    "              start_date='2020-05-20',end_date='2020-05-27',\n",
    "              title='Hourly DC and AC Output',subtitle=\"2020-05-20 to 2020-05-27\",\n",
    "              y_axis=\"kilowatts\"\n",
    "              )"
   ]
  },
  {
   "cell_type": "markdown",
   "metadata": {},
   "source": [
    "You can see that AC and DC output are highly related. This makes sense - DC output is raw energy off the panel, while AC is the output from the inverter converting the DC. Roughly one tenth of the DC output is retained as AC output for this solar farm."
   ]
  },
  {
   "cell_type": "markdown",
   "metadata": {},
   "source": [
    "Below I break a cardinal rule of visualization by mixing units on a single graph. I display hourly Irradiance (measured in Watts/M^2) and PV panel efficiency (measured as a percentage of the theoretical maximum output for a string of panels) on one graph in order to quickly get a quick visual on how these two variables interact. I want to pick a day to examine at the 15 minute interval. It is clear that June 7, 2020 was when the project experienced its highest level of irradiance over the time period - and there is also a precipitous drop in PV Efficiency that day. "
   ]
  },
  {
   "cell_type": "code",
   "execution_count": 32,
   "metadata": {},
   "outputs": [
    {
     "data": {
      "application/vnd.plotly.v1+json": {
       "config": {
        "plotlyServerURL": "https://plot.ly"
       },
       "data": [
        {
         "name": "Mean Irradiance (W/M^2)",
         "type": "scatter",
         "x": [
          "2020-05-15T00:00:00",
          "2020-05-15T01:00:00",
          "2020-05-15T02:00:00",
          "2020-05-15T03:00:00",
          "2020-05-15T04:00:00",
          "2020-05-15T05:00:00",
          "2020-05-15T06:00:00",
          "2020-05-15T07:00:00",
          "2020-05-15T08:00:00",
          "2020-05-15T09:00:00",
          "2020-05-15T10:00:00",
          "2020-05-15T11:00:00",
          "2020-05-15T12:00:00",
          "2020-05-15T13:00:00",
          "2020-05-15T14:00:00",
          "2020-05-15T15:00:00",
          "2020-05-15T16:00:00",
          "2020-05-15T17:00:00",
          "2020-05-15T18:00:00",
          "2020-05-15T19:00:00",
          "2020-05-15T20:00:00",
          "2020-05-15T21:00:00",
          "2020-05-15T22:00:00",
          "2020-05-15T23:00:00",
          "2020-05-16T02:00:00",
          "2020-05-16T03:00:00",
          "2020-05-16T04:00:00",
          "2020-05-16T05:00:00",
          "2020-05-16T06:00:00",
          "2020-05-16T07:00:00",
          "2020-05-16T08:00:00",
          "2020-05-16T09:00:00",
          "2020-05-16T10:00:00",
          "2020-05-16T11:00:00",
          "2020-05-16T12:00:00",
          "2020-05-16T13:00:00",
          "2020-05-16T14:00:00",
          "2020-05-16T15:00:00",
          "2020-05-16T16:00:00",
          "2020-05-16T17:00:00",
          "2020-05-16T18:00:00",
          "2020-05-16T19:00:00",
          "2020-05-16T20:00:00",
          "2020-05-16T21:00:00",
          "2020-05-16T22:00:00",
          "2020-05-16T23:00:00",
          "2020-05-17T00:00:00",
          "2020-05-17T01:00:00",
          "2020-05-17T02:00:00",
          "2020-05-17T03:00:00",
          "2020-05-17T04:00:00",
          "2020-05-17T05:00:00",
          "2020-05-17T06:00:00",
          "2020-05-17T07:00:00",
          "2020-05-17T08:00:00",
          "2020-05-17T09:00:00",
          "2020-05-17T10:00:00",
          "2020-05-17T11:00:00",
          "2020-05-17T12:00:00",
          "2020-05-17T13:00:00",
          "2020-05-17T14:00:00",
          "2020-05-17T15:00:00",
          "2020-05-17T16:00:00",
          "2020-05-17T17:00:00",
          "2020-05-17T18:00:00",
          "2020-05-17T19:00:00",
          "2020-05-17T20:00:00",
          "2020-05-17T21:00:00",
          "2020-05-17T22:00:00",
          "2020-05-17T23:00:00",
          "2020-05-18T00:00:00",
          "2020-05-18T01:00:00",
          "2020-05-18T02:00:00",
          "2020-05-18T03:00:00",
          "2020-05-18T04:00:00",
          "2020-05-18T05:00:00",
          "2020-05-18T06:00:00",
          "2020-05-18T07:00:00",
          "2020-05-18T08:00:00",
          "2020-05-18T09:00:00",
          "2020-05-18T10:00:00",
          "2020-05-18T11:00:00",
          "2020-05-18T12:00:00",
          "2020-05-18T13:00:00",
          "2020-05-18T14:00:00",
          "2020-05-18T15:00:00",
          "2020-05-18T16:00:00",
          "2020-05-18T17:00:00",
          "2020-05-18T18:00:00",
          "2020-05-18T19:00:00",
          "2020-05-18T20:00:00",
          "2020-05-18T21:00:00",
          "2020-05-18T22:00:00",
          "2020-05-18T23:00:00",
          "2020-05-19T00:00:00",
          "2020-05-19T01:00:00",
          "2020-05-19T02:00:00",
          "2020-05-19T03:00:00",
          "2020-05-19T04:00:00",
          "2020-05-19T05:00:00",
          "2020-05-19T06:00:00",
          "2020-05-19T07:00:00",
          "2020-05-19T08:00:00",
          "2020-05-19T09:00:00",
          "2020-05-19T10:00:00",
          "2020-05-19T11:00:00",
          "2020-05-19T12:30:00",
          "2020-05-19T13:00:00",
          "2020-05-19T14:00:00",
          "2020-05-19T15:00:00",
          "2020-05-19T16:00:00",
          "2020-05-19T17:00:00",
          "2020-05-19T18:00:00",
          "2020-05-19T19:00:00",
          "2020-05-19T20:00:00",
          "2020-05-19T21:00:00",
          "2020-05-19T22:00:00",
          "2020-05-19T23:00:00",
          "2020-05-20T00:00:00",
          "2020-05-20T01:00:00",
          "2020-05-20T02:00:00",
          "2020-05-20T03:00:00",
          "2020-05-20T04:00:00",
          "2020-05-20T05:00:00",
          "2020-05-20T06:00:00",
          "2020-05-20T07:00:00",
          "2020-05-20T08:00:00",
          "2020-05-20T09:00:00",
          "2020-05-20T10:00:00",
          "2020-05-20T11:00:00",
          "2020-05-20T12:00:00",
          "2020-05-20T13:00:00",
          "2020-05-20T17:30:00",
          "2020-05-20T18:00:00",
          "2020-05-20T19:00:00",
          "2020-05-20T20:00:00",
          "2020-05-20T21:00:00",
          "2020-05-20T22:00:00",
          "2020-05-21T07:45:00",
          "2020-05-21T08:00:00",
          "2020-05-21T09:00:00",
          "2020-05-21T10:00:00",
          "2020-05-21T11:00:00",
          "2020-05-21T12:00:00",
          "2020-05-21T13:00:00",
          "2020-05-21T14:00:00",
          "2020-05-21T15:00:00",
          "2020-05-21T16:00:00",
          "2020-05-21T17:00:00",
          "2020-05-21T18:00:00",
          "2020-05-21T19:00:00",
          "2020-05-21T20:00:00",
          "2020-05-21T21:00:00",
          "2020-05-21T22:00:00",
          "2020-05-21T23:00:00",
          "2020-05-22T00:00:00",
          "2020-05-22T01:00:00",
          "2020-05-22T02:00:00",
          "2020-05-22T03:00:00",
          "2020-05-22T04:00:00",
          "2020-05-22T05:00:00",
          "2020-05-22T06:00:00",
          "2020-05-22T07:00:00",
          "2020-05-22T08:00:00",
          "2020-05-22T09:00:00",
          "2020-05-22T10:00:00",
          "2020-05-22T11:00:00",
          "2020-05-22T12:00:00",
          "2020-05-22T13:00:00",
          "2020-05-22T14:00:00",
          "2020-05-22T15:00:00",
          "2020-05-22T16:00:00",
          "2020-05-22T17:00:00",
          "2020-05-22T18:00:00",
          "2020-05-22T19:00:00",
          "2020-05-22T20:00:00",
          "2020-05-22T21:00:00",
          "2020-05-22T22:00:00",
          "2020-05-22T23:00:00",
          "2020-05-23T00:00:00",
          "2020-05-23T01:00:00",
          "2020-05-23T02:00:00",
          "2020-05-23T03:00:00",
          "2020-05-23T04:00:00",
          "2020-05-23T05:00:00",
          "2020-05-23T06:45:00",
          "2020-05-23T07:00:00",
          "2020-05-23T08:00:00",
          "2020-05-23T09:00:00",
          "2020-05-23T10:00:00",
          "2020-05-23T11:00:00",
          "2020-05-23T12:00:00",
          "2020-05-23T13:00:00",
          "2020-05-23T14:00:00",
          "2020-05-23T15:00:00",
          "2020-05-23T16:00:00",
          "2020-05-23T17:00:00",
          "2020-05-23T18:00:00",
          "2020-05-23T19:00:00",
          "2020-05-23T20:00:00",
          "2020-05-23T21:00:00",
          "2020-05-23T22:00:00",
          "2020-05-23T23:00:00",
          "2020-05-24T00:00:00",
          "2020-05-24T01:00:00",
          "2020-05-24T02:00:00",
          "2020-05-24T03:00:00",
          "2020-05-24T04:00:00",
          "2020-05-24T05:00:00",
          "2020-05-24T06:00:00",
          "2020-05-24T07:00:00",
          "2020-05-24T08:00:00",
          "2020-05-24T09:00:00",
          "2020-05-24T10:00:00",
          "2020-05-24T11:00:00",
          "2020-05-24T12:00:00",
          "2020-05-24T13:00:00",
          "2020-05-24T14:00:00",
          "2020-05-24T15:00:00",
          "2020-05-24T16:00:00",
          "2020-05-24T17:00:00",
          "2020-05-24T18:00:00",
          "2020-05-24T19:00:00",
          "2020-05-24T20:00:00",
          "2020-05-24T21:00:00",
          "2020-05-24T22:00:00",
          "2020-05-24T23:00:00",
          "2020-05-25T00:00:00",
          "2020-05-25T01:00:00",
          "2020-05-25T02:00:00",
          "2020-05-25T03:00:00",
          "2020-05-25T04:00:00",
          "2020-05-25T05:00:00",
          "2020-05-25T06:00:00",
          "2020-05-25T07:00:00",
          "2020-05-25T08:00:00",
          "2020-05-25T09:00:00",
          "2020-05-25T10:00:00",
          "2020-05-25T11:00:00",
          "2020-05-25T12:00:00",
          "2020-05-25T13:00:00",
          "2020-05-25T14:00:00",
          "2020-05-25T15:00:00",
          "2020-05-25T16:00:00",
          "2020-05-25T17:00:00",
          "2020-05-25T18:00:00",
          "2020-05-25T19:00:00",
          "2020-05-25T20:00:00",
          "2020-05-25T21:00:00",
          "2020-05-25T22:00:00",
          "2020-05-25T23:00:00",
          "2020-05-26T00:00:00",
          "2020-05-26T01:00:00",
          "2020-05-26T02:00:00",
          "2020-05-26T03:00:00",
          "2020-05-26T04:00:00",
          "2020-05-26T05:00:00",
          "2020-05-26T06:00:00",
          "2020-05-26T07:00:00",
          "2020-05-26T08:00:00",
          "2020-05-26T09:00:00",
          "2020-05-26T10:00:00",
          "2020-05-26T11:00:00",
          "2020-05-26T12:00:00",
          "2020-05-26T13:00:00",
          "2020-05-26T14:00:00",
          "2020-05-26T15:00:00",
          "2020-05-26T16:00:00",
          "2020-05-26T17:00:00",
          "2020-05-26T18:00:00",
          "2020-05-26T19:00:00",
          "2020-05-26T20:00:00",
          "2020-05-26T21:00:00",
          "2020-05-26T22:00:00",
          "2020-05-26T23:00:00",
          "2020-05-27T00:00:00",
          "2020-05-27T01:00:00",
          "2020-05-27T02:00:00",
          "2020-05-27T03:00:00",
          "2020-05-27T04:00:00",
          "2020-05-27T05:00:00",
          "2020-05-27T06:00:00",
          "2020-05-27T07:00:00",
          "2020-05-27T08:00:00",
          "2020-05-27T09:00:00",
          "2020-05-27T10:00:00",
          "2020-05-27T11:00:00",
          "2020-05-27T12:00:00",
          "2020-05-27T13:00:00",
          "2020-05-27T14:00:00",
          "2020-05-27T15:00:00",
          "2020-05-27T16:00:00",
          "2020-05-27T17:00:00",
          "2020-05-27T18:00:00",
          "2020-05-27T19:00:00",
          "2020-05-27T20:00:00",
          "2020-05-27T21:00:00",
          "2020-05-27T22:00:00",
          "2020-05-27T23:00:00",
          "2020-05-28T00:00:00",
          "2020-05-28T01:00:00",
          "2020-05-28T02:00:00",
          "2020-05-28T03:00:00",
          "2020-05-28T04:00:00",
          "2020-05-28T05:00:00",
          "2020-05-28T06:00:00",
          "2020-05-28T07:00:00",
          "2020-05-28T08:00:00",
          "2020-05-28T09:00:00",
          "2020-05-28T10:00:00",
          "2020-05-28T11:00:00",
          "2020-05-28T12:00:00",
          "2020-05-28T13:00:00",
          "2020-05-28T14:00:00",
          "2020-05-28T15:00:00",
          "2020-05-28T16:00:00",
          "2020-05-28T17:00:00",
          "2020-05-28T18:00:00",
          "2020-05-28T19:00:00",
          "2020-05-28T20:00:00",
          "2020-05-28T21:00:00",
          "2020-05-28T22:00:00",
          "2020-05-29T06:15:00",
          "2020-05-29T07:00:00",
          "2020-05-29T08:00:00",
          "2020-05-29T09:00:00",
          "2020-05-29T10:00:00",
          "2020-05-29T11:00:00",
          "2020-05-29T12:00:00",
          "2020-05-29T13:00:00",
          "2020-05-29T14:00:00",
          "2020-05-29T15:00:00",
          "2020-05-29T16:00:00",
          "2020-05-29T17:00:00",
          "2020-05-29T18:00:00",
          "2020-05-29T19:00:00",
          "2020-05-29T20:00:00",
          "2020-05-29T21:00:00",
          "2020-05-29T22:00:00",
          "2020-05-29T23:00:00",
          "2020-05-30T00:00:00",
          "2020-05-30T01:00:00",
          "2020-05-30T02:00:00",
          "2020-05-30T03:00:00",
          "2020-05-30T04:00:00",
          "2020-05-30T05:00:00",
          "2020-05-30T06:00:00",
          "2020-05-30T07:00:00",
          "2020-05-30T08:00:00",
          "2020-05-30T09:00:00",
          "2020-05-30T10:00:00",
          "2020-05-30T11:00:00",
          "2020-05-30T12:00:00",
          "2020-05-30T13:00:00",
          "2020-05-30T14:00:00",
          "2020-05-30T15:00:00",
          "2020-05-30T16:00:00",
          "2020-05-30T17:00:00",
          "2020-05-30T18:00:00",
          "2020-05-30T19:00:00",
          "2020-05-30T20:00:00",
          "2020-05-30T21:00:00",
          "2020-05-30T22:00:00",
          "2020-05-30T23:00:00",
          "2020-05-31T00:00:00",
          "2020-05-31T01:00:00",
          "2020-05-31T02:00:00",
          "2020-05-31T03:00:00",
          "2020-05-31T04:00:00",
          "2020-05-31T05:00:00",
          "2020-05-31T06:00:00",
          "2020-05-31T07:00:00",
          "2020-05-31T08:00:00",
          "2020-05-31T09:00:00",
          "2020-05-31T10:00:00",
          "2020-05-31T11:00:00",
          "2020-05-31T12:00:00",
          "2020-05-31T13:00:00",
          "2020-05-31T14:00:00",
          "2020-05-31T15:00:00",
          "2020-05-31T16:00:00",
          "2020-05-31T17:00:00",
          "2020-05-31T18:00:00",
          "2020-05-31T19:00:00",
          "2020-05-31T20:00:00",
          "2020-05-31T21:00:00",
          "2020-05-31T22:00:00",
          "2020-05-31T23:00:00",
          "2020-06-01T00:00:00",
          "2020-06-01T01:00:00",
          "2020-06-01T02:00:00",
          "2020-06-01T03:00:00",
          "2020-06-01T04:00:00",
          "2020-06-01T05:00:00",
          "2020-06-01T06:00:00",
          "2020-06-01T07:00:00",
          "2020-06-01T08:00:00",
          "2020-06-01T09:00:00",
          "2020-06-01T10:00:00",
          "2020-06-01T11:00:00",
          "2020-06-01T12:00:00",
          "2020-06-01T13:00:00",
          "2020-06-01T14:00:00",
          "2020-06-01T15:00:00",
          "2020-06-01T16:00:00",
          "2020-06-01T17:00:00",
          "2020-06-01T18:00:00",
          "2020-06-01T19:00:00",
          "2020-06-01T20:00:00",
          "2020-06-01T21:00:00",
          "2020-06-01T22:00:00",
          "2020-06-01T23:00:00",
          "2020-06-02T00:00:00",
          "2020-06-02T01:00:00",
          "2020-06-02T02:00:00",
          "2020-06-02T03:00:00",
          "2020-06-02T04:00:00",
          "2020-06-02T05:00:00",
          "2020-06-02T06:00:00",
          "2020-06-02T07:00:00",
          "2020-06-02T08:00:00",
          "2020-06-02T09:00:00",
          "2020-06-02T10:00:00",
          "2020-06-02T11:00:00",
          "2020-06-02T12:00:00",
          "2020-06-02T13:00:00",
          "2020-06-02T14:00:00",
          "2020-06-02T15:00:00",
          "2020-06-02T16:00:00",
          "2020-06-02T17:00:00",
          "2020-06-02T18:00:00",
          "2020-06-02T19:00:00",
          "2020-06-02T20:00:00",
          "2020-06-02T21:00:00",
          "2020-06-02T22:00:00",
          "2020-06-02T23:00:00",
          "2020-06-03T00:00:00",
          "2020-06-03T01:00:00",
          "2020-06-03T02:00:00",
          "2020-06-03T03:00:00",
          "2020-06-03T04:00:00",
          "2020-06-03T05:00:00",
          "2020-06-03T06:00:00",
          "2020-06-03T07:00:00",
          "2020-06-03T08:00:00",
          "2020-06-03T09:00:00",
          "2020-06-03T10:00:00",
          "2020-06-03T11:00:00",
          "2020-06-03T12:00:00",
          "2020-06-03T13:00:00",
          "2020-06-03T14:15:00",
          "2020-06-03T15:00:00",
          "2020-06-03T16:00:00",
          "2020-06-03T17:00:00",
          "2020-06-03T18:00:00",
          "2020-06-03T19:00:00",
          "2020-06-03T20:00:00",
          "2020-06-03T21:00:00",
          "2020-06-03T22:00:00",
          "2020-06-03T23:00:00",
          "2020-06-04T00:00:00",
          "2020-06-04T01:00:00",
          "2020-06-04T02:00:00",
          "2020-06-04T03:00:00",
          "2020-06-04T04:00:00",
          "2020-06-04T05:00:00",
          "2020-06-04T06:00:00",
          "2020-06-04T07:00:00",
          "2020-06-04T08:00:00",
          "2020-06-04T09:00:00",
          "2020-06-04T10:00:00",
          "2020-06-04T11:00:00",
          "2020-06-04T12:00:00",
          "2020-06-04T13:00:00",
          "2020-06-04T14:00:00",
          "2020-06-04T15:00:00",
          "2020-06-04T16:00:00",
          "2020-06-04T17:00:00",
          "2020-06-04T18:00:00",
          "2020-06-04T19:00:00",
          "2020-06-04T20:00:00",
          "2020-06-04T21:00:00",
          "2020-06-04T22:00:00",
          "2020-06-04T23:00:00",
          "2020-06-05T00:00:00",
          "2020-06-05T01:00:00",
          "2020-06-05T02:00:00",
          "2020-06-05T03:00:00",
          "2020-06-05T04:00:00",
          "2020-06-05T05:00:00",
          "2020-06-05T06:00:00",
          "2020-06-05T07:00:00",
          "2020-06-05T08:00:00",
          "2020-06-05T09:00:00",
          "2020-06-05T10:00:00",
          "2020-06-05T11:00:00",
          "2020-06-05T12:00:00",
          "2020-06-05T13:00:00",
          "2020-06-05T14:00:00",
          "2020-06-05T15:00:00",
          "2020-06-05T16:00:00",
          "2020-06-05T17:00:00",
          "2020-06-05T18:00:00",
          "2020-06-05T19:00:00",
          "2020-06-05T20:00:00",
          "2020-06-05T21:00:00",
          "2020-06-05T22:00:00",
          "2020-06-05T23:00:00",
          "2020-06-06T00:00:00",
          "2020-06-06T01:00:00",
          "2020-06-06T02:00:00",
          "2020-06-06T03:00:00",
          "2020-06-06T04:00:00",
          "2020-06-06T05:00:00",
          "2020-06-06T06:00:00",
          "2020-06-06T07:00:00",
          "2020-06-06T08:00:00",
          "2020-06-06T09:00:00",
          "2020-06-06T10:00:00",
          "2020-06-06T11:00:00",
          "2020-06-06T12:00:00",
          "2020-06-06T13:00:00",
          "2020-06-06T14:00:00",
          "2020-06-06T15:00:00",
          "2020-06-06T16:00:00",
          "2020-06-06T17:00:00",
          "2020-06-06T18:00:00",
          "2020-06-06T19:00:00",
          "2020-06-06T20:00:00",
          "2020-06-06T21:00:00",
          "2020-06-06T22:00:00",
          "2020-06-06T23:00:00",
          "2020-06-07T00:00:00",
          "2020-06-07T01:00:00",
          "2020-06-07T02:00:00",
          "2020-06-07T03:00:00",
          "2020-06-07T04:00:00",
          "2020-06-07T05:00:00",
          "2020-06-07T06:00:00",
          "2020-06-07T07:00:00",
          "2020-06-07T08:00:00",
          "2020-06-07T09:00:00",
          "2020-06-07T10:00:00",
          "2020-06-07T11:00:00",
          "2020-06-07T12:00:00",
          "2020-06-07T13:00:00",
          "2020-06-07T14:00:00",
          "2020-06-07T15:00:00",
          "2020-06-07T16:00:00",
          "2020-06-07T17:00:00",
          "2020-06-07T18:00:00",
          "2020-06-07T19:00:00",
          "2020-06-07T20:00:00",
          "2020-06-07T21:00:00",
          "2020-06-07T22:00:00",
          "2020-06-07T23:00:00",
          "2020-06-08T00:00:00",
          "2020-06-08T01:00:00",
          "2020-06-08T02:00:00",
          "2020-06-08T03:00:00",
          "2020-06-08T04:00:00",
          "2020-06-08T05:00:00",
          "2020-06-08T06:00:00",
          "2020-06-08T07:00:00",
          "2020-06-08T08:00:00",
          "2020-06-08T09:00:00",
          "2020-06-08T10:00:00",
          "2020-06-08T11:00:00",
          "2020-06-08T12:00:00",
          "2020-06-08T13:00:00",
          "2020-06-08T14:00:00",
          "2020-06-08T15:00:00",
          "2020-06-08T16:00:00",
          "2020-06-08T17:00:00",
          "2020-06-08T18:00:00",
          "2020-06-08T19:00:00",
          "2020-06-08T20:00:00",
          "2020-06-08T21:00:00",
          "2020-06-08T22:00:00",
          "2020-06-08T23:00:00",
          "2020-06-09T00:00:00",
          "2020-06-09T01:00:00",
          "2020-06-09T02:00:00",
          "2020-06-09T03:00:00",
          "2020-06-09T04:00:00",
          "2020-06-09T05:00:00",
          "2020-06-09T06:00:00",
          "2020-06-09T07:00:00",
          "2020-06-09T08:00:00",
          "2020-06-09T09:00:00",
          "2020-06-09T10:00:00",
          "2020-06-09T11:00:00",
          "2020-06-09T12:00:00",
          "2020-06-09T13:00:00",
          "2020-06-09T14:00:00",
          "2020-06-09T15:00:00",
          "2020-06-09T16:00:00",
          "2020-06-09T17:00:00",
          "2020-06-09T18:00:00",
          "2020-06-09T19:00:00",
          "2020-06-09T20:00:00",
          "2020-06-09T21:00:00",
          "2020-06-09T22:00:00",
          "2020-06-09T23:00:00",
          "2020-06-10T00:00:00",
          "2020-06-10T01:00:00",
          "2020-06-10T02:00:00",
          "2020-06-10T03:00:00",
          "2020-06-10T04:00:00",
          "2020-06-10T05:00:00",
          "2020-06-10T06:00:00",
          "2020-06-10T07:00:00",
          "2020-06-10T08:00:00",
          "2020-06-10T09:00:00",
          "2020-06-10T10:00:00",
          "2020-06-10T11:00:00",
          "2020-06-10T12:00:00",
          "2020-06-10T13:00:00",
          "2020-06-10T14:00:00",
          "2020-06-10T15:00:00",
          "2020-06-10T16:00:00",
          "2020-06-10T17:00:00",
          "2020-06-10T18:00:00",
          "2020-06-10T19:00:00",
          "2020-06-10T20:00:00",
          "2020-06-10T21:00:00",
          "2020-06-10T22:00:00",
          "2020-06-10T23:00:00",
          "2020-06-11T00:00:00",
          "2020-06-11T01:00:00",
          "2020-06-11T02:00:00",
          "2020-06-11T03:00:00",
          "2020-06-11T04:00:00",
          "2020-06-11T05:00:00",
          "2020-06-11T06:00:00",
          "2020-06-11T07:00:00",
          "2020-06-11T08:00:00",
          "2020-06-11T09:00:00",
          "2020-06-11T10:00:00",
          "2020-06-11T11:00:00",
          "2020-06-11T12:00:00",
          "2020-06-11T13:00:00",
          "2020-06-11T14:00:00",
          "2020-06-11T15:00:00",
          "2020-06-11T16:00:00",
          "2020-06-11T17:00:00",
          "2020-06-11T18:00:00",
          "2020-06-11T19:00:00",
          "2020-06-11T20:00:00",
          "2020-06-11T21:00:00",
          "2020-06-11T22:00:00",
          "2020-06-11T23:00:00",
          "2020-06-12T00:00:00",
          "2020-06-12T01:00:00",
          "2020-06-12T02:00:00",
          "2020-06-12T03:00:00",
          "2020-06-12T04:00:00",
          "2020-06-12T05:00:00",
          "2020-06-12T06:00:00",
          "2020-06-12T07:00:00",
          "2020-06-12T08:00:00",
          "2020-06-12T09:00:00",
          "2020-06-12T10:00:00",
          "2020-06-12T11:00:00",
          "2020-06-12T12:00:00",
          "2020-06-12T13:00:00",
          "2020-06-12T14:00:00",
          "2020-06-12T15:00:00",
          "2020-06-12T16:00:00",
          "2020-06-12T17:00:00",
          "2020-06-12T18:00:00",
          "2020-06-12T19:00:00",
          "2020-06-12T20:00:00",
          "2020-06-12T21:00:00",
          "2020-06-12T22:00:00",
          "2020-06-12T23:00:00",
          "2020-06-13T00:00:00",
          "2020-06-13T01:00:00",
          "2020-06-13T02:00:00",
          "2020-06-13T03:00:00",
          "2020-06-13T04:00:00",
          "2020-06-13T05:00:00",
          "2020-06-13T06:00:00",
          "2020-06-13T07:00:00",
          "2020-06-13T08:00:00",
          "2020-06-13T09:00:00",
          "2020-06-13T10:00:00",
          "2020-06-13T11:00:00",
          "2020-06-13T12:00:00",
          "2020-06-13T13:00:00",
          "2020-06-13T14:00:00",
          "2020-06-13T15:00:00",
          "2020-06-13T16:00:00",
          "2020-06-13T17:00:00",
          "2020-06-13T18:00:00",
          "2020-06-13T19:00:00",
          "2020-06-13T20:00:00",
          "2020-06-13T21:00:00",
          "2020-06-13T22:00:00",
          "2020-06-13T23:00:00",
          "2020-06-14T00:00:00",
          "2020-06-14T01:00:00",
          "2020-06-14T02:00:00",
          "2020-06-14T03:00:00",
          "2020-06-14T04:00:00",
          "2020-06-14T05:00:00",
          "2020-06-14T06:00:00",
          "2020-06-14T07:00:00",
          "2020-06-14T08:00:00",
          "2020-06-14T09:00:00",
          "2020-06-14T10:00:00",
          "2020-06-14T11:00:00",
          "2020-06-14T12:00:00",
          "2020-06-14T13:00:00",
          "2020-06-14T14:00:00",
          "2020-06-14T15:00:00",
          "2020-06-14T16:00:00",
          "2020-06-14T17:00:00",
          "2020-06-14T18:00:00",
          "2020-06-14T19:00:00",
          "2020-06-14T20:00:00",
          "2020-06-14T21:00:00",
          "2020-06-14T22:00:00",
          "2020-06-14T23:00:00",
          "2020-06-15T00:00:00",
          "2020-06-15T01:00:00",
          "2020-06-15T02:00:00",
          "2020-06-15T03:00:00",
          "2020-06-15T04:00:00",
          "2020-06-15T05:00:00",
          "2020-06-15T06:00:00",
          "2020-06-15T07:00:00",
          "2020-06-15T08:00:00",
          "2020-06-15T09:00:00",
          "2020-06-15T10:00:00",
          "2020-06-15T11:00:00",
          "2020-06-15T12:00:00",
          "2020-06-15T13:00:00",
          "2020-06-15T14:00:00",
          "2020-06-15T15:00:00",
          "2020-06-15T16:00:00",
          "2020-06-15T17:00:00",
          "2020-06-15T18:00:00",
          "2020-06-15T19:00:00",
          "2020-06-15T20:00:00",
          "2020-06-15T21:00:00",
          "2020-06-15T22:00:00",
          "2020-06-15T23:00:00",
          "2020-06-16T00:00:00",
          "2020-06-16T01:00:00",
          "2020-06-16T02:00:00",
          "2020-06-16T03:00:00",
          "2020-06-16T04:00:00",
          "2020-06-16T05:00:00",
          "2020-06-16T06:00:00",
          "2020-06-16T07:00:00",
          "2020-06-16T08:00:00",
          "2020-06-16T09:00:00",
          "2020-06-16T10:00:00",
          "2020-06-16T11:00:00",
          "2020-06-16T12:00:00",
          "2020-06-16T13:00:00",
          "2020-06-16T14:00:00",
          "2020-06-16T15:00:00",
          "2020-06-16T16:00:00",
          "2020-06-16T17:00:00",
          "2020-06-16T18:00:00",
          "2020-06-16T19:00:00",
          "2020-06-16T20:00:00",
          "2020-06-16T21:00:00",
          "2020-06-16T22:00:00",
          "2020-06-16T23:00:00",
          "2020-06-17T00:00:00",
          "2020-06-17T01:00:00",
          "2020-06-17T02:00:00",
          "2020-06-17T03:00:00",
          "2020-06-17T04:00:00",
          "2020-06-17T05:00:00",
          "2020-06-17T06:00:00",
          "2020-06-17T07:00:00",
          "2020-06-17T08:00:00",
          "2020-06-17T09:00:00",
          "2020-06-17T10:00:00",
          "2020-06-17T11:00:00",
          "2020-06-17T12:00:00",
          "2020-06-17T13:00:00",
          "2020-06-17T14:00:00",
          "2020-06-17T15:00:00",
          "2020-06-17T16:00:00",
          "2020-06-17T17:00:00",
          "2020-06-17T18:00:00",
          "2020-06-17T19:00:00",
          "2020-06-17T20:00:00",
          "2020-06-17T21:00:00",
          "2020-06-17T22:00:00",
          "2020-06-17T23:00:00"
         ],
         "y": [
          0,
          0,
          0,
          0,
          0,
          0,
          0.04,
          0.15,
          0.32,
          0.44,
          0.52,
          0.56,
          0.68,
          0.51,
          0.66,
          0.44,
          0.32,
          0.12,
          0.01,
          0,
          0,
          0,
          0,
          0,
          0,
          0,
          0,
          0,
          0.04,
          0.16,
          0.38,
          0.46,
          0.55,
          0.56,
          0.7,
          0.61,
          0.52,
          0.38,
          0.19,
          0.09,
          0.01,
          0,
          0,
          0,
          0,
          0,
          0,
          0,
          0,
          0,
          0,
          0,
          0.03,
          0.21,
          0.44,
          0.6,
          0.76,
          0.92,
          0.73,
          0.56,
          0.53,
          0.52,
          0.34,
          0.1,
          0.01,
          0,
          0,
          0,
          0,
          0,
          0,
          0,
          0,
          0,
          0,
          0,
          0.04,
          0.17,
          0.1,
          0.11,
          0.21,
          0.42,
          0.57,
          0.77,
          0.49,
          0.54,
          0.29,
          0.1,
          0.01,
          0,
          0,
          0,
          0,
          0,
          0,
          0,
          0,
          0,
          0,
          0,
          0.02,
          0.2,
          0.22,
          0.5,
          0.55,
          0.53,
          0.79,
          0.62,
          0.69,
          0.45,
          0.36,
          0.11,
          0,
          0,
          0,
          0,
          0,
          0,
          0,
          0,
          0,
          0,
          0,
          0,
          0.04,
          0.23,
          0.46,
          0.63,
          0.8,
          0.9,
          0.97,
          0.9,
          0.12,
          0.02,
          0,
          0,
          0,
          0,
          0.32,
          0.44,
          0.7,
          0.69,
          0.92,
          0.78,
          0.85,
          0.61,
          0.51,
          0.24,
          0.05,
          0.01,
          0,
          0,
          0,
          0,
          0,
          0,
          0,
          0,
          0,
          0,
          0,
          0.05,
          0.28,
          0.3,
          0.4,
          0.58,
          0.8,
          0.88,
          0.78,
          0.74,
          0.47,
          0.18,
          0.07,
          0.01,
          0,
          0,
          0,
          0,
          0,
          0,
          0,
          0,
          0,
          0,
          0,
          0.05,
          0.18,
          0.49,
          0.65,
          0.68,
          0.94,
          0.92,
          0.9,
          0.61,
          0.52,
          0.41,
          0.18,
          0.03,
          0,
          0,
          0,
          0,
          0,
          0,
          0,
          0,
          0,
          0,
          0,
          0.04,
          0.24,
          0.41,
          0.52,
          0.69,
          0.87,
          0.96,
          0.88,
          0.75,
          0.4,
          0.28,
          0.18,
          0.02,
          0,
          0,
          0,
          0,
          0,
          0,
          0,
          0,
          0,
          0,
          0,
          0.04,
          0.21,
          0.44,
          0.69,
          0.84,
          0.94,
          0.97,
          0.9,
          0.79,
          0.64,
          0.27,
          0.06,
          0.01,
          0,
          0,
          0,
          0,
          0,
          0,
          0,
          0,
          0,
          0,
          0,
          0.04,
          0.24,
          0.48,
          0.7,
          0.84,
          0.78,
          0.82,
          0.76,
          0.43,
          0.43,
          0.41,
          0.12,
          0.02,
          0,
          0,
          0,
          0,
          0,
          0,
          0,
          0,
          0,
          0,
          0,
          0.05,
          0.22,
          0.45,
          0.64,
          0.57,
          0.78,
          0.71,
          0.42,
          0.4,
          0.42,
          0.36,
          0.1,
          0.01,
          0,
          0,
          0,
          0,
          0,
          0,
          0,
          0,
          0,
          0,
          0,
          0.04,
          0.26,
          0.48,
          0.68,
          0.8,
          0.94,
          0.92,
          0.78,
          0.55,
          0.61,
          0.28,
          0.14,
          0.02,
          0,
          0,
          0,
          0,
          0.07,
          0.15,
          0.32,
          0.57,
          0.84,
          0.88,
          0.86,
          0.85,
          0.62,
          0.53,
          0.38,
          0.14,
          0.01,
          0,
          0,
          0,
          0,
          0,
          0,
          0,
          0,
          0,
          0,
          0,
          0.04,
          0.14,
          0.26,
          0.34,
          0.32,
          0.58,
          0.96,
          0.82,
          0.82,
          0.62,
          0.38,
          0.17,
          0.02,
          0,
          0,
          0,
          0,
          0,
          0,
          0,
          0,
          0,
          0,
          0,
          0.04,
          0.11,
          0.31,
          0.48,
          0.74,
          0.61,
          0.7,
          0.52,
          0.45,
          0.18,
          0.15,
          0.11,
          0.02,
          0,
          0,
          0,
          0,
          0,
          0,
          0,
          0,
          0,
          0,
          0,
          0.06,
          0.28,
          0.46,
          0.48,
          0.79,
          0.74,
          0.46,
          0.58,
          0.24,
          0.13,
          0.12,
          0.06,
          0.02,
          0,
          0,
          0,
          0,
          0,
          0,
          0,
          0,
          0,
          0,
          0,
          0.04,
          0.14,
          0.52,
          0.65,
          0.58,
          0.5,
          0.68,
          0.85,
          0.56,
          0.41,
          0.33,
          0.11,
          0.02,
          0,
          0,
          0,
          0,
          0,
          0,
          0,
          0,
          0,
          0,
          0,
          0.03,
          0.18,
          0.32,
          0.42,
          0.55,
          0.8,
          0.77,
          0.72,
          0.71,
          0.65,
          0.28,
          0.22,
          0.02,
          0,
          0,
          0,
          0,
          0,
          0,
          0,
          0,
          0,
          0,
          0,
          0.04,
          0.2,
          0.39,
          0.47,
          0.75,
          0.75,
          0.76,
          0.86,
          0.58,
          0.66,
          0.43,
          0.24,
          0.02,
          0,
          0,
          0,
          0,
          0,
          0,
          0,
          0,
          0,
          0,
          0,
          0.04,
          0.14,
          0.43,
          0.56,
          0.68,
          0.9,
          0.31,
          0.72,
          0.75,
          0.52,
          0.45,
          0.26,
          0.04,
          0,
          0,
          0,
          0,
          0,
          0,
          0,
          0,
          0,
          0,
          0,
          0.05,
          0.3,
          0.46,
          0.47,
          0.69,
          0.63,
          0.72,
          0.64,
          0.48,
          0.27,
          0.11,
          0.04,
          0.01,
          0,
          0,
          0,
          0,
          0,
          0,
          0,
          0,
          0,
          0,
          0,
          0.05,
          0.14,
          0.26,
          0.53,
          0.67,
          0.91,
          1.01,
          0.83,
          0.57,
          0.54,
          0.39,
          0.18,
          0.02,
          0,
          0,
          0,
          0,
          0,
          0,
          0,
          0,
          0,
          0,
          0,
          0.04,
          0.19,
          0.36,
          0.72,
          0.86,
          0.81,
          0.72,
          0.74,
          0.76,
          0.6,
          0.34,
          0.17,
          0.03,
          0,
          0,
          0,
          0,
          0,
          0,
          0,
          0,
          0,
          0,
          0,
          0.05,
          0.22,
          0.5,
          0.66,
          0.76,
          0.85,
          0.72,
          0.76,
          0.51,
          0.57,
          0.38,
          0.17,
          0.02,
          0,
          0,
          0,
          0,
          0,
          0,
          0,
          0,
          0,
          0,
          0,
          0.05,
          0.26,
          0.31,
          0.52,
          0.44,
          0.57,
          0.91,
          0.7,
          0.43,
          0.22,
          0.26,
          0.13,
          0.01,
          0,
          0,
          0,
          0,
          0,
          0,
          0,
          0,
          0,
          0,
          0,
          0.02,
          0.09,
          0.2,
          0.28,
          0.37,
          0.52,
          0.55,
          0.43,
          0.56,
          0.47,
          0.28,
          0.12,
          0.02,
          0,
          0,
          0,
          0,
          0,
          0,
          0,
          0,
          0,
          0,
          0,
          0.02,
          0.07,
          0.2,
          0.39,
          0.48,
          0.57,
          0.56,
          0.59,
          0.5,
          0.36,
          0.19,
          0.14,
          0.02,
          0,
          0,
          0,
          0,
          0,
          0,
          0,
          0,
          0,
          0,
          0,
          0.04,
          0.25,
          0.48,
          0.62,
          0.74,
          0.92,
          0.91,
          0.62,
          0.78,
          0.61,
          0.27,
          0.1,
          0.02,
          0,
          0,
          0,
          0,
          0,
          0,
          0,
          0,
          0,
          0,
          0,
          0.04,
          0.23,
          0.32,
          0.53,
          0.67,
          0.6,
          0.48,
          0.74,
          0.78,
          0.54,
          0.26,
          0.08,
          0.02,
          0,
          0,
          0,
          0,
          0,
          0,
          0,
          0,
          0,
          0,
          0,
          0.05,
          0.18,
          0.53,
          0.63,
          0.76,
          0.64,
          0.5,
          0.41,
          0.46,
          0.42,
          0.2,
          0.14,
          0.02,
          0,
          0,
          0,
          0,
          0,
          0,
          0,
          0,
          0,
          0,
          0,
          0.03,
          0.18,
          0.37,
          0.52,
          0.7,
          0.62,
          0.41,
          0.45,
          0.5,
          0.35,
          0.24,
          0.11,
          0.02,
          0,
          0,
          0,
          0,
          0,
          0,
          0,
          0,
          0,
          0,
          0,
          0.02,
          0.18,
          0.26,
          0.39,
          0.46,
          0.61,
          0.84,
          0.59,
          0.5,
          0.14,
          0.16,
          0.09,
          0.02,
          0,
          0,
          0,
          0,
          0
         ]
        },
        {
         "name": "Mean PV Efficiency(Pct of Max Output)",
         "type": "scatter",
         "x": [
          "2020-05-15T00:00:00",
          "2020-05-15T01:00:00",
          "2020-05-15T02:00:00",
          "2020-05-15T03:00:00",
          "2020-05-15T04:00:00",
          "2020-05-15T05:00:00",
          "2020-05-15T06:00:00",
          "2020-05-15T07:00:00",
          "2020-05-15T08:00:00",
          "2020-05-15T09:00:00",
          "2020-05-15T10:00:00",
          "2020-05-15T11:00:00",
          "2020-05-15T12:00:00",
          "2020-05-15T13:00:00",
          "2020-05-15T14:00:00",
          "2020-05-15T15:00:00",
          "2020-05-15T16:00:00",
          "2020-05-15T17:00:00",
          "2020-05-15T18:00:00",
          "2020-05-15T19:00:00",
          "2020-05-15T20:00:00",
          "2020-05-15T21:00:00",
          "2020-05-15T22:00:00",
          "2020-05-15T23:00:00",
          "2020-05-16T02:00:00",
          "2020-05-16T03:00:00",
          "2020-05-16T04:00:00",
          "2020-05-16T05:00:00",
          "2020-05-16T06:00:00",
          "2020-05-16T07:00:00",
          "2020-05-16T08:00:00",
          "2020-05-16T09:00:00",
          "2020-05-16T10:00:00",
          "2020-05-16T11:00:00",
          "2020-05-16T12:00:00",
          "2020-05-16T13:00:00",
          "2020-05-16T14:00:00",
          "2020-05-16T15:00:00",
          "2020-05-16T16:00:00",
          "2020-05-16T17:00:00",
          "2020-05-16T18:00:00",
          "2020-05-16T19:00:00",
          "2020-05-16T20:00:00",
          "2020-05-16T21:00:00",
          "2020-05-16T22:00:00",
          "2020-05-16T23:00:00",
          "2020-05-17T00:00:00",
          "2020-05-17T01:00:00",
          "2020-05-17T02:00:00",
          "2020-05-17T03:00:00",
          "2020-05-17T04:00:00",
          "2020-05-17T05:00:00",
          "2020-05-17T06:00:00",
          "2020-05-17T07:00:00",
          "2020-05-17T08:00:00",
          "2020-05-17T09:00:00",
          "2020-05-17T10:00:00",
          "2020-05-17T11:00:00",
          "2020-05-17T12:00:00",
          "2020-05-17T13:00:00",
          "2020-05-17T14:00:00",
          "2020-05-17T15:00:00",
          "2020-05-17T16:00:00",
          "2020-05-17T17:00:00",
          "2020-05-17T18:00:00",
          "2020-05-17T19:00:00",
          "2020-05-17T20:00:00",
          "2020-05-17T21:00:00",
          "2020-05-17T22:00:00",
          "2020-05-17T23:00:00",
          "2020-05-18T00:00:00",
          "2020-05-18T01:00:00",
          "2020-05-18T02:00:00",
          "2020-05-18T03:00:00",
          "2020-05-18T04:00:00",
          "2020-05-18T05:00:00",
          "2020-05-18T06:00:00",
          "2020-05-18T07:00:00",
          "2020-05-18T08:00:00",
          "2020-05-18T09:00:00",
          "2020-05-18T10:00:00",
          "2020-05-18T11:00:00",
          "2020-05-18T12:00:00",
          "2020-05-18T13:00:00",
          "2020-05-18T14:00:00",
          "2020-05-18T15:00:00",
          "2020-05-18T16:00:00",
          "2020-05-18T17:00:00",
          "2020-05-18T18:00:00",
          "2020-05-18T19:00:00",
          "2020-05-18T20:00:00",
          "2020-05-18T21:00:00",
          "2020-05-18T22:00:00",
          "2020-05-18T23:00:00",
          "2020-05-19T00:00:00",
          "2020-05-19T01:00:00",
          "2020-05-19T02:00:00",
          "2020-05-19T03:00:00",
          "2020-05-19T04:00:00",
          "2020-05-19T05:00:00",
          "2020-05-19T06:00:00",
          "2020-05-19T07:00:00",
          "2020-05-19T08:00:00",
          "2020-05-19T09:00:00",
          "2020-05-19T10:00:00",
          "2020-05-19T11:00:00",
          "2020-05-19T12:30:00",
          "2020-05-19T13:00:00",
          "2020-05-19T14:00:00",
          "2020-05-19T15:00:00",
          "2020-05-19T16:00:00",
          "2020-05-19T17:00:00",
          "2020-05-19T18:00:00",
          "2020-05-19T19:00:00",
          "2020-05-19T20:00:00",
          "2020-05-19T21:00:00",
          "2020-05-19T22:00:00",
          "2020-05-19T23:00:00",
          "2020-05-20T00:00:00",
          "2020-05-20T01:00:00",
          "2020-05-20T02:00:00",
          "2020-05-20T03:00:00",
          "2020-05-20T04:00:00",
          "2020-05-20T05:00:00",
          "2020-05-20T06:00:00",
          "2020-05-20T07:00:00",
          "2020-05-20T08:00:00",
          "2020-05-20T09:00:00",
          "2020-05-20T10:00:00",
          "2020-05-20T11:00:00",
          "2020-05-20T12:00:00",
          "2020-05-20T13:00:00",
          "2020-05-20T17:30:00",
          "2020-05-20T18:00:00",
          "2020-05-20T19:00:00",
          "2020-05-20T20:00:00",
          "2020-05-20T21:00:00",
          "2020-05-20T22:00:00",
          "2020-05-21T07:45:00",
          "2020-05-21T08:00:00",
          "2020-05-21T09:00:00",
          "2020-05-21T10:00:00",
          "2020-05-21T11:00:00",
          "2020-05-21T12:00:00",
          "2020-05-21T13:00:00",
          "2020-05-21T14:00:00",
          "2020-05-21T15:00:00",
          "2020-05-21T16:00:00",
          "2020-05-21T17:00:00",
          "2020-05-21T18:00:00",
          "2020-05-21T19:00:00",
          "2020-05-21T20:00:00",
          "2020-05-21T21:00:00",
          "2020-05-21T22:00:00",
          "2020-05-21T23:00:00",
          "2020-05-22T00:00:00",
          "2020-05-22T01:00:00",
          "2020-05-22T02:00:00",
          "2020-05-22T03:00:00",
          "2020-05-22T04:00:00",
          "2020-05-22T05:00:00",
          "2020-05-22T06:00:00",
          "2020-05-22T07:00:00",
          "2020-05-22T08:00:00",
          "2020-05-22T09:00:00",
          "2020-05-22T10:00:00",
          "2020-05-22T11:00:00",
          "2020-05-22T12:00:00",
          "2020-05-22T13:00:00",
          "2020-05-22T14:00:00",
          "2020-05-22T15:00:00",
          "2020-05-22T16:00:00",
          "2020-05-22T17:00:00",
          "2020-05-22T18:00:00",
          "2020-05-22T19:00:00",
          "2020-05-22T20:00:00",
          "2020-05-22T21:00:00",
          "2020-05-22T22:00:00",
          "2020-05-22T23:00:00",
          "2020-05-23T00:00:00",
          "2020-05-23T01:00:00",
          "2020-05-23T02:00:00",
          "2020-05-23T03:00:00",
          "2020-05-23T04:00:00",
          "2020-05-23T05:00:00",
          "2020-05-23T06:45:00",
          "2020-05-23T07:00:00",
          "2020-05-23T08:00:00",
          "2020-05-23T09:00:00",
          "2020-05-23T10:00:00",
          "2020-05-23T11:00:00",
          "2020-05-23T12:00:00",
          "2020-05-23T13:00:00",
          "2020-05-23T14:00:00",
          "2020-05-23T15:00:00",
          "2020-05-23T16:00:00",
          "2020-05-23T17:00:00",
          "2020-05-23T18:00:00",
          "2020-05-23T19:00:00",
          "2020-05-23T20:00:00",
          "2020-05-23T21:00:00",
          "2020-05-23T22:00:00",
          "2020-05-23T23:00:00",
          "2020-05-24T00:00:00",
          "2020-05-24T01:00:00",
          "2020-05-24T02:00:00",
          "2020-05-24T03:00:00",
          "2020-05-24T04:00:00",
          "2020-05-24T05:00:00",
          "2020-05-24T06:00:00",
          "2020-05-24T07:00:00",
          "2020-05-24T08:00:00",
          "2020-05-24T09:00:00",
          "2020-05-24T10:00:00",
          "2020-05-24T11:00:00",
          "2020-05-24T12:00:00",
          "2020-05-24T13:00:00",
          "2020-05-24T14:00:00",
          "2020-05-24T15:00:00",
          "2020-05-24T16:00:00",
          "2020-05-24T17:00:00",
          "2020-05-24T18:00:00",
          "2020-05-24T19:00:00",
          "2020-05-24T20:00:00",
          "2020-05-24T21:00:00",
          "2020-05-24T22:00:00",
          "2020-05-24T23:00:00",
          "2020-05-25T00:00:00",
          "2020-05-25T01:00:00",
          "2020-05-25T02:00:00",
          "2020-05-25T03:00:00",
          "2020-05-25T04:00:00",
          "2020-05-25T05:00:00",
          "2020-05-25T06:00:00",
          "2020-05-25T07:00:00",
          "2020-05-25T08:00:00",
          "2020-05-25T09:00:00",
          "2020-05-25T10:00:00",
          "2020-05-25T11:00:00",
          "2020-05-25T12:00:00",
          "2020-05-25T13:00:00",
          "2020-05-25T14:00:00",
          "2020-05-25T15:00:00",
          "2020-05-25T16:00:00",
          "2020-05-25T17:00:00",
          "2020-05-25T18:00:00",
          "2020-05-25T19:00:00",
          "2020-05-25T20:00:00",
          "2020-05-25T21:00:00",
          "2020-05-25T22:00:00",
          "2020-05-25T23:00:00",
          "2020-05-26T00:00:00",
          "2020-05-26T01:00:00",
          "2020-05-26T02:00:00",
          "2020-05-26T03:00:00",
          "2020-05-26T04:00:00",
          "2020-05-26T05:00:00",
          "2020-05-26T06:00:00",
          "2020-05-26T07:00:00",
          "2020-05-26T08:00:00",
          "2020-05-26T09:00:00",
          "2020-05-26T10:00:00",
          "2020-05-26T11:00:00",
          "2020-05-26T12:00:00",
          "2020-05-26T13:00:00",
          "2020-05-26T14:00:00",
          "2020-05-26T15:00:00",
          "2020-05-26T16:00:00",
          "2020-05-26T17:00:00",
          "2020-05-26T18:00:00",
          "2020-05-26T19:00:00",
          "2020-05-26T20:00:00",
          "2020-05-26T21:00:00",
          "2020-05-26T22:00:00",
          "2020-05-26T23:00:00",
          "2020-05-27T00:00:00",
          "2020-05-27T01:00:00",
          "2020-05-27T02:00:00",
          "2020-05-27T03:00:00",
          "2020-05-27T04:00:00",
          "2020-05-27T05:00:00",
          "2020-05-27T06:00:00",
          "2020-05-27T07:00:00",
          "2020-05-27T08:00:00",
          "2020-05-27T09:00:00",
          "2020-05-27T10:00:00",
          "2020-05-27T11:00:00",
          "2020-05-27T12:00:00",
          "2020-05-27T13:00:00",
          "2020-05-27T14:00:00",
          "2020-05-27T15:00:00",
          "2020-05-27T16:00:00",
          "2020-05-27T17:00:00",
          "2020-05-27T18:00:00",
          "2020-05-27T19:00:00",
          "2020-05-27T20:00:00",
          "2020-05-27T21:00:00",
          "2020-05-27T22:00:00",
          "2020-05-27T23:00:00",
          "2020-05-28T00:00:00",
          "2020-05-28T01:00:00",
          "2020-05-28T02:00:00",
          "2020-05-28T03:00:00",
          "2020-05-28T04:00:00",
          "2020-05-28T05:00:00",
          "2020-05-28T06:00:00",
          "2020-05-28T07:00:00",
          "2020-05-28T08:00:00",
          "2020-05-28T09:00:00",
          "2020-05-28T10:00:00",
          "2020-05-28T11:00:00",
          "2020-05-28T12:00:00",
          "2020-05-28T13:00:00",
          "2020-05-28T14:00:00",
          "2020-05-28T15:00:00",
          "2020-05-28T16:00:00",
          "2020-05-28T17:00:00",
          "2020-05-28T18:00:00",
          "2020-05-28T19:00:00",
          "2020-05-28T20:00:00",
          "2020-05-28T21:00:00",
          "2020-05-28T22:00:00",
          "2020-05-29T06:15:00",
          "2020-05-29T07:00:00",
          "2020-05-29T08:00:00",
          "2020-05-29T09:00:00",
          "2020-05-29T10:00:00",
          "2020-05-29T11:00:00",
          "2020-05-29T12:00:00",
          "2020-05-29T13:00:00",
          "2020-05-29T14:00:00",
          "2020-05-29T15:00:00",
          "2020-05-29T16:00:00",
          "2020-05-29T17:00:00",
          "2020-05-29T18:00:00",
          "2020-05-29T19:00:00",
          "2020-05-29T20:00:00",
          "2020-05-29T21:00:00",
          "2020-05-29T22:00:00",
          "2020-05-29T23:00:00",
          "2020-05-30T00:00:00",
          "2020-05-30T01:00:00",
          "2020-05-30T02:00:00",
          "2020-05-30T03:00:00",
          "2020-05-30T04:00:00",
          "2020-05-30T05:00:00",
          "2020-05-30T06:00:00",
          "2020-05-30T07:00:00",
          "2020-05-30T08:00:00",
          "2020-05-30T09:00:00",
          "2020-05-30T10:00:00",
          "2020-05-30T11:00:00",
          "2020-05-30T12:00:00",
          "2020-05-30T13:00:00",
          "2020-05-30T14:00:00",
          "2020-05-30T15:00:00",
          "2020-05-30T16:00:00",
          "2020-05-30T17:00:00",
          "2020-05-30T18:00:00",
          "2020-05-30T19:00:00",
          "2020-05-30T20:00:00",
          "2020-05-30T21:00:00",
          "2020-05-30T22:00:00",
          "2020-05-30T23:00:00",
          "2020-05-31T00:00:00",
          "2020-05-31T01:00:00",
          "2020-05-31T02:00:00",
          "2020-05-31T03:00:00",
          "2020-05-31T04:00:00",
          "2020-05-31T05:00:00",
          "2020-05-31T06:00:00",
          "2020-05-31T07:00:00",
          "2020-05-31T08:00:00",
          "2020-05-31T09:00:00",
          "2020-05-31T10:00:00",
          "2020-05-31T11:00:00",
          "2020-05-31T12:00:00",
          "2020-05-31T13:00:00",
          "2020-05-31T14:00:00",
          "2020-05-31T15:00:00",
          "2020-05-31T16:00:00",
          "2020-05-31T17:00:00",
          "2020-05-31T18:00:00",
          "2020-05-31T19:00:00",
          "2020-05-31T20:00:00",
          "2020-05-31T21:00:00",
          "2020-05-31T22:00:00",
          "2020-05-31T23:00:00",
          "2020-06-01T00:00:00",
          "2020-06-01T01:00:00",
          "2020-06-01T02:00:00",
          "2020-06-01T03:00:00",
          "2020-06-01T04:00:00",
          "2020-06-01T05:00:00",
          "2020-06-01T06:00:00",
          "2020-06-01T07:00:00",
          "2020-06-01T08:00:00",
          "2020-06-01T09:00:00",
          "2020-06-01T10:00:00",
          "2020-06-01T11:00:00",
          "2020-06-01T12:00:00",
          "2020-06-01T13:00:00",
          "2020-06-01T14:00:00",
          "2020-06-01T15:00:00",
          "2020-06-01T16:00:00",
          "2020-06-01T17:00:00",
          "2020-06-01T18:00:00",
          "2020-06-01T19:00:00",
          "2020-06-01T20:00:00",
          "2020-06-01T21:00:00",
          "2020-06-01T22:00:00",
          "2020-06-01T23:00:00",
          "2020-06-02T00:00:00",
          "2020-06-02T01:00:00",
          "2020-06-02T02:00:00",
          "2020-06-02T03:00:00",
          "2020-06-02T04:00:00",
          "2020-06-02T05:00:00",
          "2020-06-02T06:00:00",
          "2020-06-02T07:00:00",
          "2020-06-02T08:00:00",
          "2020-06-02T09:00:00",
          "2020-06-02T10:00:00",
          "2020-06-02T11:00:00",
          "2020-06-02T12:00:00",
          "2020-06-02T13:00:00",
          "2020-06-02T14:00:00",
          "2020-06-02T15:00:00",
          "2020-06-02T16:00:00",
          "2020-06-02T17:00:00",
          "2020-06-02T18:00:00",
          "2020-06-02T19:00:00",
          "2020-06-02T20:00:00",
          "2020-06-02T21:00:00",
          "2020-06-02T22:00:00",
          "2020-06-02T23:00:00",
          "2020-06-03T00:00:00",
          "2020-06-03T01:00:00",
          "2020-06-03T02:00:00",
          "2020-06-03T03:00:00",
          "2020-06-03T04:00:00",
          "2020-06-03T05:00:00",
          "2020-06-03T06:00:00",
          "2020-06-03T07:00:00",
          "2020-06-03T08:00:00",
          "2020-06-03T09:00:00",
          "2020-06-03T10:00:00",
          "2020-06-03T11:00:00",
          "2020-06-03T12:00:00",
          "2020-06-03T13:00:00",
          "2020-06-03T14:15:00",
          "2020-06-03T15:00:00",
          "2020-06-03T16:00:00",
          "2020-06-03T17:00:00",
          "2020-06-03T18:00:00",
          "2020-06-03T19:00:00",
          "2020-06-03T20:00:00",
          "2020-06-03T21:00:00",
          "2020-06-03T22:00:00",
          "2020-06-03T23:00:00",
          "2020-06-04T00:00:00",
          "2020-06-04T01:00:00",
          "2020-06-04T02:00:00",
          "2020-06-04T03:00:00",
          "2020-06-04T04:00:00",
          "2020-06-04T05:00:00",
          "2020-06-04T06:00:00",
          "2020-06-04T07:00:00",
          "2020-06-04T08:00:00",
          "2020-06-04T09:00:00",
          "2020-06-04T10:00:00",
          "2020-06-04T11:00:00",
          "2020-06-04T12:00:00",
          "2020-06-04T13:00:00",
          "2020-06-04T14:00:00",
          "2020-06-04T15:00:00",
          "2020-06-04T16:00:00",
          "2020-06-04T17:00:00",
          "2020-06-04T18:00:00",
          "2020-06-04T19:00:00",
          "2020-06-04T20:00:00",
          "2020-06-04T21:00:00",
          "2020-06-04T22:00:00",
          "2020-06-04T23:00:00",
          "2020-06-05T00:00:00",
          "2020-06-05T01:00:00",
          "2020-06-05T02:00:00",
          "2020-06-05T03:00:00",
          "2020-06-05T04:00:00",
          "2020-06-05T05:00:00",
          "2020-06-05T06:00:00",
          "2020-06-05T07:00:00",
          "2020-06-05T08:00:00",
          "2020-06-05T09:00:00",
          "2020-06-05T10:00:00",
          "2020-06-05T11:00:00",
          "2020-06-05T12:00:00",
          "2020-06-05T13:00:00",
          "2020-06-05T14:00:00",
          "2020-06-05T15:00:00",
          "2020-06-05T16:00:00",
          "2020-06-05T17:00:00",
          "2020-06-05T18:00:00",
          "2020-06-05T19:00:00",
          "2020-06-05T20:00:00",
          "2020-06-05T21:00:00",
          "2020-06-05T22:00:00",
          "2020-06-05T23:00:00",
          "2020-06-06T00:00:00",
          "2020-06-06T01:00:00",
          "2020-06-06T02:00:00",
          "2020-06-06T03:00:00",
          "2020-06-06T04:00:00",
          "2020-06-06T05:00:00",
          "2020-06-06T06:00:00",
          "2020-06-06T07:00:00",
          "2020-06-06T08:00:00",
          "2020-06-06T09:00:00",
          "2020-06-06T10:00:00",
          "2020-06-06T11:00:00",
          "2020-06-06T12:00:00",
          "2020-06-06T13:00:00",
          "2020-06-06T14:00:00",
          "2020-06-06T15:00:00",
          "2020-06-06T16:00:00",
          "2020-06-06T17:00:00",
          "2020-06-06T18:00:00",
          "2020-06-06T19:00:00",
          "2020-06-06T20:00:00",
          "2020-06-06T21:00:00",
          "2020-06-06T22:00:00",
          "2020-06-06T23:00:00",
          "2020-06-07T00:00:00",
          "2020-06-07T01:00:00",
          "2020-06-07T02:00:00",
          "2020-06-07T03:00:00",
          "2020-06-07T04:00:00",
          "2020-06-07T05:00:00",
          "2020-06-07T06:00:00",
          "2020-06-07T07:00:00",
          "2020-06-07T08:00:00",
          "2020-06-07T09:00:00",
          "2020-06-07T10:00:00",
          "2020-06-07T11:00:00",
          "2020-06-07T12:00:00",
          "2020-06-07T13:00:00",
          "2020-06-07T14:00:00",
          "2020-06-07T15:00:00",
          "2020-06-07T16:00:00",
          "2020-06-07T17:00:00",
          "2020-06-07T18:00:00",
          "2020-06-07T19:00:00",
          "2020-06-07T20:00:00",
          "2020-06-07T21:00:00",
          "2020-06-07T22:00:00",
          "2020-06-07T23:00:00",
          "2020-06-08T00:00:00",
          "2020-06-08T01:00:00",
          "2020-06-08T02:00:00",
          "2020-06-08T03:00:00",
          "2020-06-08T04:00:00",
          "2020-06-08T05:00:00",
          "2020-06-08T06:00:00",
          "2020-06-08T07:00:00",
          "2020-06-08T08:00:00",
          "2020-06-08T09:00:00",
          "2020-06-08T10:00:00",
          "2020-06-08T11:00:00",
          "2020-06-08T12:00:00",
          "2020-06-08T13:00:00",
          "2020-06-08T14:00:00",
          "2020-06-08T15:00:00",
          "2020-06-08T16:00:00",
          "2020-06-08T17:00:00",
          "2020-06-08T18:00:00",
          "2020-06-08T19:00:00",
          "2020-06-08T20:00:00",
          "2020-06-08T21:00:00",
          "2020-06-08T22:00:00",
          "2020-06-08T23:00:00",
          "2020-06-09T00:00:00",
          "2020-06-09T01:00:00",
          "2020-06-09T02:00:00",
          "2020-06-09T03:00:00",
          "2020-06-09T04:00:00",
          "2020-06-09T05:00:00",
          "2020-06-09T06:00:00",
          "2020-06-09T07:00:00",
          "2020-06-09T08:00:00",
          "2020-06-09T09:00:00",
          "2020-06-09T10:00:00",
          "2020-06-09T11:00:00",
          "2020-06-09T12:00:00",
          "2020-06-09T13:00:00",
          "2020-06-09T14:00:00",
          "2020-06-09T15:00:00",
          "2020-06-09T16:00:00",
          "2020-06-09T17:00:00",
          "2020-06-09T18:00:00",
          "2020-06-09T19:00:00",
          "2020-06-09T20:00:00",
          "2020-06-09T21:00:00",
          "2020-06-09T22:00:00",
          "2020-06-09T23:00:00",
          "2020-06-10T00:00:00",
          "2020-06-10T01:00:00",
          "2020-06-10T02:00:00",
          "2020-06-10T03:00:00",
          "2020-06-10T04:00:00",
          "2020-06-10T05:00:00",
          "2020-06-10T06:00:00",
          "2020-06-10T07:00:00",
          "2020-06-10T08:00:00",
          "2020-06-10T09:00:00",
          "2020-06-10T10:00:00",
          "2020-06-10T11:00:00",
          "2020-06-10T12:00:00",
          "2020-06-10T13:00:00",
          "2020-06-10T14:00:00",
          "2020-06-10T15:00:00",
          "2020-06-10T16:00:00",
          "2020-06-10T17:00:00",
          "2020-06-10T18:00:00",
          "2020-06-10T19:00:00",
          "2020-06-10T20:00:00",
          "2020-06-10T21:00:00",
          "2020-06-10T22:00:00",
          "2020-06-10T23:00:00",
          "2020-06-11T00:00:00",
          "2020-06-11T01:00:00",
          "2020-06-11T02:00:00",
          "2020-06-11T03:00:00",
          "2020-06-11T04:00:00",
          "2020-06-11T05:00:00",
          "2020-06-11T06:00:00",
          "2020-06-11T07:00:00",
          "2020-06-11T08:00:00",
          "2020-06-11T09:00:00",
          "2020-06-11T10:00:00",
          "2020-06-11T11:00:00",
          "2020-06-11T12:00:00",
          "2020-06-11T13:00:00",
          "2020-06-11T14:00:00",
          "2020-06-11T15:00:00",
          "2020-06-11T16:00:00",
          "2020-06-11T17:00:00",
          "2020-06-11T18:00:00",
          "2020-06-11T19:00:00",
          "2020-06-11T20:00:00",
          "2020-06-11T21:00:00",
          "2020-06-11T22:00:00",
          "2020-06-11T23:00:00",
          "2020-06-12T00:00:00",
          "2020-06-12T01:00:00",
          "2020-06-12T02:00:00",
          "2020-06-12T03:00:00",
          "2020-06-12T04:00:00",
          "2020-06-12T05:00:00",
          "2020-06-12T06:00:00",
          "2020-06-12T07:00:00",
          "2020-06-12T08:00:00",
          "2020-06-12T09:00:00",
          "2020-06-12T10:00:00",
          "2020-06-12T11:00:00",
          "2020-06-12T12:00:00",
          "2020-06-12T13:00:00",
          "2020-06-12T14:00:00",
          "2020-06-12T15:00:00",
          "2020-06-12T16:00:00",
          "2020-06-12T17:00:00",
          "2020-06-12T18:00:00",
          "2020-06-12T19:00:00",
          "2020-06-12T20:00:00",
          "2020-06-12T21:00:00",
          "2020-06-12T22:00:00",
          "2020-06-12T23:00:00",
          "2020-06-13T00:00:00",
          "2020-06-13T01:00:00",
          "2020-06-13T02:00:00",
          "2020-06-13T03:00:00",
          "2020-06-13T04:00:00",
          "2020-06-13T05:00:00",
          "2020-06-13T06:00:00",
          "2020-06-13T07:00:00",
          "2020-06-13T08:00:00",
          "2020-06-13T09:00:00",
          "2020-06-13T10:00:00",
          "2020-06-13T11:00:00",
          "2020-06-13T12:00:00",
          "2020-06-13T13:00:00",
          "2020-06-13T14:00:00",
          "2020-06-13T15:00:00",
          "2020-06-13T16:00:00",
          "2020-06-13T17:00:00",
          "2020-06-13T18:00:00",
          "2020-06-13T19:00:00",
          "2020-06-13T20:00:00",
          "2020-06-13T21:00:00",
          "2020-06-13T22:00:00",
          "2020-06-13T23:00:00",
          "2020-06-14T00:00:00",
          "2020-06-14T01:00:00",
          "2020-06-14T02:00:00",
          "2020-06-14T03:00:00",
          "2020-06-14T04:00:00",
          "2020-06-14T05:00:00",
          "2020-06-14T06:00:00",
          "2020-06-14T07:00:00",
          "2020-06-14T08:00:00",
          "2020-06-14T09:00:00",
          "2020-06-14T10:00:00",
          "2020-06-14T11:00:00",
          "2020-06-14T12:00:00",
          "2020-06-14T13:00:00",
          "2020-06-14T14:00:00",
          "2020-06-14T15:00:00",
          "2020-06-14T16:00:00",
          "2020-06-14T17:00:00",
          "2020-06-14T18:00:00",
          "2020-06-14T19:00:00",
          "2020-06-14T20:00:00",
          "2020-06-14T21:00:00",
          "2020-06-14T22:00:00",
          "2020-06-14T23:00:00",
          "2020-06-15T00:00:00",
          "2020-06-15T01:00:00",
          "2020-06-15T02:00:00",
          "2020-06-15T03:00:00",
          "2020-06-15T04:00:00",
          "2020-06-15T05:00:00",
          "2020-06-15T06:00:00",
          "2020-06-15T07:00:00",
          "2020-06-15T08:00:00",
          "2020-06-15T09:00:00",
          "2020-06-15T10:00:00",
          "2020-06-15T11:00:00",
          "2020-06-15T12:00:00",
          "2020-06-15T13:00:00",
          "2020-06-15T14:00:00",
          "2020-06-15T15:00:00",
          "2020-06-15T16:00:00",
          "2020-06-15T17:00:00",
          "2020-06-15T18:00:00",
          "2020-06-15T19:00:00",
          "2020-06-15T20:00:00",
          "2020-06-15T21:00:00",
          "2020-06-15T22:00:00",
          "2020-06-15T23:00:00",
          "2020-06-16T00:00:00",
          "2020-06-16T01:00:00",
          "2020-06-16T02:00:00",
          "2020-06-16T03:00:00",
          "2020-06-16T04:00:00",
          "2020-06-16T05:00:00",
          "2020-06-16T06:00:00",
          "2020-06-16T07:00:00",
          "2020-06-16T08:00:00",
          "2020-06-16T09:00:00",
          "2020-06-16T10:00:00",
          "2020-06-16T11:00:00",
          "2020-06-16T12:00:00",
          "2020-06-16T13:00:00",
          "2020-06-16T14:00:00",
          "2020-06-16T15:00:00",
          "2020-06-16T16:00:00",
          "2020-06-16T17:00:00",
          "2020-06-16T18:00:00",
          "2020-06-16T19:00:00",
          "2020-06-16T20:00:00",
          "2020-06-16T21:00:00",
          "2020-06-16T22:00:00",
          "2020-06-16T23:00:00",
          "2020-06-17T00:00:00",
          "2020-06-17T01:00:00",
          "2020-06-17T02:00:00",
          "2020-06-17T03:00:00",
          "2020-06-17T04:00:00",
          "2020-06-17T05:00:00",
          "2020-06-17T06:00:00",
          "2020-06-17T07:00:00",
          "2020-06-17T08:00:00",
          "2020-06-17T09:00:00",
          "2020-06-17T10:00:00",
          "2020-06-17T11:00:00",
          "2020-06-17T12:00:00",
          "2020-06-17T13:00:00",
          "2020-06-17T14:00:00",
          "2020-06-17T15:00:00",
          "2020-06-17T16:00:00",
          "2020-06-17T17:00:00",
          "2020-06-17T18:00:00",
          "2020-06-17T19:00:00",
          "2020-06-17T20:00:00",
          "2020-06-17T21:00:00",
          "2020-06-17T22:00:00",
          "2020-06-17T23:00:00"
         ],
         "y": [
          0,
          0,
          0,
          0,
          0,
          0,
          0.4,
          0.44,
          0.45,
          0.44,
          0.43,
          0.46,
          0.44,
          0.46,
          0.45,
          0.48,
          0.46,
          0.45,
          0.2,
          0,
          0,
          0,
          0,
          0,
          0,
          0,
          0,
          0,
          0.43,
          0.47,
          0.46,
          0.46,
          0.49,
          0.47,
          0.46,
          0.47,
          0.47,
          0.48,
          0.49,
          0.49,
          0.24,
          0,
          0,
          0,
          0,
          0,
          0,
          0,
          0,
          0,
          0,
          0,
          0.3,
          0.43,
          0.45,
          0.46,
          0.46,
          0.42,
          0.43,
          0.46,
          0.44,
          0.46,
          0.47,
          0.48,
          0.22,
          0,
          0,
          0,
          0,
          0,
          0,
          0,
          0,
          0,
          0,
          0,
          0.42,
          0.48,
          0.51,
          0.52,
          0.51,
          0.49,
          0.48,
          0.46,
          0.47,
          0.48,
          0.48,
          0.49,
          0.22,
          0,
          0,
          0,
          0,
          0,
          0,
          0,
          0,
          0,
          0,
          0,
          0.33,
          0.47,
          0.47,
          0.46,
          0.45,
          0.46,
          0.46,
          0.47,
          0.46,
          0.48,
          0.46,
          0.48,
          0,
          0,
          0,
          0,
          0,
          0,
          0,
          0,
          0,
          0,
          0,
          0,
          0.43,
          0.42,
          0.45,
          0.46,
          0.45,
          0.45,
          0.44,
          0.44,
          0.46,
          0.32,
          0,
          0,
          0,
          0,
          0.36,
          0.45,
          0.44,
          0.4,
          0.44,
          0.43,
          0.44,
          0.46,
          0.46,
          0.48,
          0.5,
          0.21,
          0,
          0,
          0,
          0,
          0,
          0,
          0,
          0,
          0,
          0,
          0,
          0.46,
          0.44,
          0.45,
          0.48,
          0.44,
          0.43,
          0.41,
          0.44,
          0.45,
          0.45,
          0.48,
          0.47,
          0.2,
          0,
          0,
          0,
          0,
          0,
          0,
          0,
          0,
          0,
          0,
          0,
          0.49,
          0.47,
          0.45,
          0.44,
          0.44,
          0.43,
          0.43,
          0.43,
          0.46,
          0.48,
          0.45,
          0.46,
          0.28,
          0,
          0,
          0,
          0,
          0,
          0,
          0,
          0,
          0,
          0,
          0,
          0.44,
          0.4,
          0.45,
          0.47,
          0.44,
          0.44,
          0.42,
          0.43,
          0.42,
          0.47,
          0.47,
          0.43,
          0.34,
          0,
          0,
          0,
          0,
          0,
          0,
          0,
          0,
          0,
          0,
          0,
          0.34,
          0.42,
          0.45,
          0.44,
          0.43,
          0.43,
          0.43,
          0.44,
          0.44,
          0.46,
          0.48,
          0.47,
          0.3,
          0,
          0,
          0,
          0,
          0,
          0,
          0,
          0,
          0,
          0,
          0,
          0.46,
          0.4,
          0.44,
          0.44,
          0.44,
          0.44,
          0.45,
          0.44,
          0.47,
          0.47,
          0.46,
          0.48,
          0.15,
          0,
          0,
          0,
          0,
          0,
          0,
          0,
          0,
          0,
          0,
          0,
          0.44,
          0.42,
          0.43,
          0.44,
          0.44,
          0.44,
          0.41,
          0.47,
          0.47,
          0.48,
          0.46,
          0.48,
          0.26,
          0,
          0,
          0,
          0,
          0,
          0,
          0,
          0,
          0,
          0,
          0,
          0.47,
          0.4,
          0.44,
          0.44,
          0.42,
          0.44,
          0.44,
          0.43,
          0.46,
          0.45,
          0.45,
          0.45,
          0.29,
          0,
          0,
          0,
          0,
          0.47,
          0.49,
          0.47,
          0.45,
          0.44,
          0.42,
          0.45,
          0.44,
          0.45,
          0.46,
          0.46,
          0.47,
          0.22,
          0,
          0,
          0,
          0,
          0,
          0,
          0,
          0,
          0,
          0,
          0,
          0.43,
          0.49,
          0.46,
          0.49,
          0.52,
          0.48,
          0.4,
          0.44,
          0.44,
          0.46,
          0.46,
          0.43,
          0.31,
          0,
          0,
          0,
          0,
          0,
          0,
          0,
          0,
          0,
          0,
          0,
          0.45,
          0.5,
          0.48,
          0.48,
          0.44,
          0.52,
          0.45,
          0.42,
          0.46,
          0.51,
          0.5,
          0.49,
          0.3,
          0,
          0,
          0,
          0,
          0,
          0,
          0,
          0,
          0,
          0,
          0,
          0.42,
          0.43,
          0.44,
          0.46,
          0.42,
          0.48,
          0.44,
          0.47,
          0.5,
          0.52,
          0.51,
          0.5,
          0.29,
          0,
          0,
          0,
          0,
          0,
          0,
          0,
          0,
          0,
          0,
          0,
          0.43,
          0.49,
          0.46,
          0.45,
          0.47,
          0.48,
          0.46,
          0.46,
          0.47,
          0.49,
          0.49,
          0.46,
          0.3,
          0,
          0,
          0,
          0,
          0,
          0,
          0,
          0,
          0,
          0,
          0,
          0.43,
          0.47,
          0.48,
          0.48,
          0.48,
          0.45,
          0.47,
          0.46,
          0.46,
          0.46,
          0.48,
          0.42,
          0.31,
          0,
          0,
          0,
          0,
          0,
          0,
          0,
          0,
          0,
          0,
          0,
          0.42,
          0.42,
          0.46,
          0.49,
          0.45,
          0.44,
          0.44,
          0.43,
          0.47,
          0.46,
          0.47,
          0.44,
          0.29,
          0,
          0,
          0,
          0,
          0,
          0,
          0,
          0,
          0,
          0,
          0,
          0.43,
          0.46,
          0.44,
          0.47,
          0.46,
          0.41,
          0.5,
          0.47,
          0.45,
          0.46,
          0.46,
          0.45,
          0.32,
          0,
          0,
          0,
          0,
          0,
          0,
          0,
          0,
          0,
          0,
          0,
          0.44,
          0.39,
          0.43,
          0.45,
          0.45,
          0.46,
          0.41,
          0.46,
          0.48,
          0.51,
          0.52,
          0.51,
          0.21,
          0,
          0,
          0,
          0,
          0,
          0,
          0,
          0,
          0,
          0,
          0,
          0.42,
          0.48,
          0.5,
          0.48,
          0.47,
          0.44,
          0.38,
          0.32,
          0.44,
          0.47,
          0.46,
          0.46,
          0.32,
          0,
          0,
          0,
          0,
          0,
          0,
          0,
          0,
          0,
          0,
          0,
          0.45,
          0.44,
          0.46,
          0.45,
          0.44,
          0.45,
          0.45,
          0.41,
          0.45,
          0.47,
          0.47,
          0.42,
          0.3,
          0,
          0,
          0,
          0,
          0,
          0,
          0,
          0,
          0,
          0,
          0,
          0.46,
          0.39,
          0.43,
          0.44,
          0.44,
          0.43,
          0.44,
          0.44,
          0.48,
          0.47,
          0.46,
          0.46,
          0.32,
          0,
          0,
          0,
          0,
          0,
          0,
          0,
          0,
          0,
          0,
          0,
          0.44,
          0.39,
          0.48,
          0.46,
          0.47,
          0.45,
          0.44,
          0.46,
          0.46,
          0.53,
          0.49,
          0.48,
          0.22,
          0,
          0,
          0,
          0,
          0,
          0,
          0,
          0,
          0,
          0,
          0,
          0.36,
          0.52,
          0.51,
          0.52,
          0.51,
          0.49,
          0.48,
          0.49,
          0.48,
          0.48,
          0.49,
          0.48,
          0.32,
          0,
          0,
          0,
          0,
          0,
          0,
          0,
          0,
          0,
          0,
          0,
          0.34,
          0.5,
          0.5,
          0.49,
          0.5,
          0.5,
          0.48,
          0.48,
          0.48,
          0.48,
          0.49,
          0.46,
          0.32,
          0,
          0,
          0,
          0,
          0,
          0,
          0,
          0,
          0,
          0,
          0,
          0.44,
          0.4,
          0.45,
          0.45,
          0.47,
          0.45,
          0.44,
          0.47,
          0.46,
          0.46,
          0.48,
          0.47,
          0.3,
          0,
          0,
          0,
          0,
          0,
          0,
          0,
          0,
          0,
          0,
          0,
          0.4,
          0.47,
          0.48,
          0.48,
          0.48,
          0.45,
          0.46,
          0.44,
          0.43,
          0.48,
          0.48,
          0.48,
          0.3,
          0,
          0,
          0,
          0,
          0,
          0,
          0,
          0,
          0,
          0,
          0,
          0.44,
          0.46,
          0.46,
          0.46,
          0.45,
          0.45,
          0.47,
          0.48,
          0.5,
          0.48,
          0.49,
          0.48,
          0.26,
          0,
          0,
          0,
          0,
          0,
          0,
          0,
          0,
          0,
          0,
          0,
          0.36,
          0.46,
          0.47,
          0.46,
          0.47,
          0.46,
          0.48,
          0.48,
          0.48,
          0.48,
          0.47,
          0.47,
          0.32,
          0,
          0,
          0,
          0,
          0,
          0,
          0,
          0,
          0,
          0,
          0,
          0.16,
          0.48,
          0.49,
          0.5,
          0.48,
          0.47,
          0.45,
          0.48,
          0.48,
          0.52,
          0.52,
          0.5,
          0.33,
          0,
          0,
          0,
          0,
          0
         ]
        }
       ],
       "layout": {
        "template": {
         "data": {
          "bar": [
           {
            "error_x": {
             "color": "#2a3f5f"
            },
            "error_y": {
             "color": "#2a3f5f"
            },
            "marker": {
             "line": {
              "color": "#E5ECF6",
              "width": 0.5
             },
             "pattern": {
              "fillmode": "overlay",
              "size": 10,
              "solidity": 0.2
             }
            },
            "type": "bar"
           }
          ],
          "barpolar": [
           {
            "marker": {
             "line": {
              "color": "#E5ECF6",
              "width": 0.5
             },
             "pattern": {
              "fillmode": "overlay",
              "size": 10,
              "solidity": 0.2
             }
            },
            "type": "barpolar"
           }
          ],
          "carpet": [
           {
            "aaxis": {
             "endlinecolor": "#2a3f5f",
             "gridcolor": "white",
             "linecolor": "white",
             "minorgridcolor": "white",
             "startlinecolor": "#2a3f5f"
            },
            "baxis": {
             "endlinecolor": "#2a3f5f",
             "gridcolor": "white",
             "linecolor": "white",
             "minorgridcolor": "white",
             "startlinecolor": "#2a3f5f"
            },
            "type": "carpet"
           }
          ],
          "choropleth": [
           {
            "colorbar": {
             "outlinewidth": 0,
             "ticks": ""
            },
            "type": "choropleth"
           }
          ],
          "contour": [
           {
            "colorbar": {
             "outlinewidth": 0,
             "ticks": ""
            },
            "colorscale": [
             [
              0,
              "#0d0887"
             ],
             [
              0.1111111111111111,
              "#46039f"
             ],
             [
              0.2222222222222222,
              "#7201a8"
             ],
             [
              0.3333333333333333,
              "#9c179e"
             ],
             [
              0.4444444444444444,
              "#bd3786"
             ],
             [
              0.5555555555555556,
              "#d8576b"
             ],
             [
              0.6666666666666666,
              "#ed7953"
             ],
             [
              0.7777777777777778,
              "#fb9f3a"
             ],
             [
              0.8888888888888888,
              "#fdca26"
             ],
             [
              1,
              "#f0f921"
             ]
            ],
            "type": "contour"
           }
          ],
          "contourcarpet": [
           {
            "colorbar": {
             "outlinewidth": 0,
             "ticks": ""
            },
            "type": "contourcarpet"
           }
          ],
          "heatmap": [
           {
            "colorbar": {
             "outlinewidth": 0,
             "ticks": ""
            },
            "colorscale": [
             [
              0,
              "#0d0887"
             ],
             [
              0.1111111111111111,
              "#46039f"
             ],
             [
              0.2222222222222222,
              "#7201a8"
             ],
             [
              0.3333333333333333,
              "#9c179e"
             ],
             [
              0.4444444444444444,
              "#bd3786"
             ],
             [
              0.5555555555555556,
              "#d8576b"
             ],
             [
              0.6666666666666666,
              "#ed7953"
             ],
             [
              0.7777777777777778,
              "#fb9f3a"
             ],
             [
              0.8888888888888888,
              "#fdca26"
             ],
             [
              1,
              "#f0f921"
             ]
            ],
            "type": "heatmap"
           }
          ],
          "heatmapgl": [
           {
            "colorbar": {
             "outlinewidth": 0,
             "ticks": ""
            },
            "colorscale": [
             [
              0,
              "#0d0887"
             ],
             [
              0.1111111111111111,
              "#46039f"
             ],
             [
              0.2222222222222222,
              "#7201a8"
             ],
             [
              0.3333333333333333,
              "#9c179e"
             ],
             [
              0.4444444444444444,
              "#bd3786"
             ],
             [
              0.5555555555555556,
              "#d8576b"
             ],
             [
              0.6666666666666666,
              "#ed7953"
             ],
             [
              0.7777777777777778,
              "#fb9f3a"
             ],
             [
              0.8888888888888888,
              "#fdca26"
             ],
             [
              1,
              "#f0f921"
             ]
            ],
            "type": "heatmapgl"
           }
          ],
          "histogram": [
           {
            "marker": {
             "pattern": {
              "fillmode": "overlay",
              "size": 10,
              "solidity": 0.2
             }
            },
            "type": "histogram"
           }
          ],
          "histogram2d": [
           {
            "colorbar": {
             "outlinewidth": 0,
             "ticks": ""
            },
            "colorscale": [
             [
              0,
              "#0d0887"
             ],
             [
              0.1111111111111111,
              "#46039f"
             ],
             [
              0.2222222222222222,
              "#7201a8"
             ],
             [
              0.3333333333333333,
              "#9c179e"
             ],
             [
              0.4444444444444444,
              "#bd3786"
             ],
             [
              0.5555555555555556,
              "#d8576b"
             ],
             [
              0.6666666666666666,
              "#ed7953"
             ],
             [
              0.7777777777777778,
              "#fb9f3a"
             ],
             [
              0.8888888888888888,
              "#fdca26"
             ],
             [
              1,
              "#f0f921"
             ]
            ],
            "type": "histogram2d"
           }
          ],
          "histogram2dcontour": [
           {
            "colorbar": {
             "outlinewidth": 0,
             "ticks": ""
            },
            "colorscale": [
             [
              0,
              "#0d0887"
             ],
             [
              0.1111111111111111,
              "#46039f"
             ],
             [
              0.2222222222222222,
              "#7201a8"
             ],
             [
              0.3333333333333333,
              "#9c179e"
             ],
             [
              0.4444444444444444,
              "#bd3786"
             ],
             [
              0.5555555555555556,
              "#d8576b"
             ],
             [
              0.6666666666666666,
              "#ed7953"
             ],
             [
              0.7777777777777778,
              "#fb9f3a"
             ],
             [
              0.8888888888888888,
              "#fdca26"
             ],
             [
              1,
              "#f0f921"
             ]
            ],
            "type": "histogram2dcontour"
           }
          ],
          "mesh3d": [
           {
            "colorbar": {
             "outlinewidth": 0,
             "ticks": ""
            },
            "type": "mesh3d"
           }
          ],
          "parcoords": [
           {
            "line": {
             "colorbar": {
              "outlinewidth": 0,
              "ticks": ""
             }
            },
            "type": "parcoords"
           }
          ],
          "pie": [
           {
            "automargin": true,
            "type": "pie"
           }
          ],
          "scatter": [
           {
            "fillpattern": {
             "fillmode": "overlay",
             "size": 10,
             "solidity": 0.2
            },
            "type": "scatter"
           }
          ],
          "scatter3d": [
           {
            "line": {
             "colorbar": {
              "outlinewidth": 0,
              "ticks": ""
             }
            },
            "marker": {
             "colorbar": {
              "outlinewidth": 0,
              "ticks": ""
             }
            },
            "type": "scatter3d"
           }
          ],
          "scattercarpet": [
           {
            "marker": {
             "colorbar": {
              "outlinewidth": 0,
              "ticks": ""
             }
            },
            "type": "scattercarpet"
           }
          ],
          "scattergeo": [
           {
            "marker": {
             "colorbar": {
              "outlinewidth": 0,
              "ticks": ""
             }
            },
            "type": "scattergeo"
           }
          ],
          "scattergl": [
           {
            "marker": {
             "colorbar": {
              "outlinewidth": 0,
              "ticks": ""
             }
            },
            "type": "scattergl"
           }
          ],
          "scattermapbox": [
           {
            "marker": {
             "colorbar": {
              "outlinewidth": 0,
              "ticks": ""
             }
            },
            "type": "scattermapbox"
           }
          ],
          "scatterpolar": [
           {
            "marker": {
             "colorbar": {
              "outlinewidth": 0,
              "ticks": ""
             }
            },
            "type": "scatterpolar"
           }
          ],
          "scatterpolargl": [
           {
            "marker": {
             "colorbar": {
              "outlinewidth": 0,
              "ticks": ""
             }
            },
            "type": "scatterpolargl"
           }
          ],
          "scatterternary": [
           {
            "marker": {
             "colorbar": {
              "outlinewidth": 0,
              "ticks": ""
             }
            },
            "type": "scatterternary"
           }
          ],
          "surface": [
           {
            "colorbar": {
             "outlinewidth": 0,
             "ticks": ""
            },
            "colorscale": [
             [
              0,
              "#0d0887"
             ],
             [
              0.1111111111111111,
              "#46039f"
             ],
             [
              0.2222222222222222,
              "#7201a8"
             ],
             [
              0.3333333333333333,
              "#9c179e"
             ],
             [
              0.4444444444444444,
              "#bd3786"
             ],
             [
              0.5555555555555556,
              "#d8576b"
             ],
             [
              0.6666666666666666,
              "#ed7953"
             ],
             [
              0.7777777777777778,
              "#fb9f3a"
             ],
             [
              0.8888888888888888,
              "#fdca26"
             ],
             [
              1,
              "#f0f921"
             ]
            ],
            "type": "surface"
           }
          ],
          "table": [
           {
            "cells": {
             "fill": {
              "color": "#EBF0F8"
             },
             "line": {
              "color": "white"
             }
            },
            "header": {
             "fill": {
              "color": "#C8D4E3"
             },
             "line": {
              "color": "white"
             }
            },
            "type": "table"
           }
          ]
         },
         "layout": {
          "annotationdefaults": {
           "arrowcolor": "#2a3f5f",
           "arrowhead": 0,
           "arrowwidth": 1
          },
          "autotypenumbers": "strict",
          "coloraxis": {
           "colorbar": {
            "outlinewidth": 0,
            "ticks": ""
           }
          },
          "colorscale": {
           "diverging": [
            [
             0,
             "#8e0152"
            ],
            [
             0.1,
             "#c51b7d"
            ],
            [
             0.2,
             "#de77ae"
            ],
            [
             0.3,
             "#f1b6da"
            ],
            [
             0.4,
             "#fde0ef"
            ],
            [
             0.5,
             "#f7f7f7"
            ],
            [
             0.6,
             "#e6f5d0"
            ],
            [
             0.7,
             "#b8e186"
            ],
            [
             0.8,
             "#7fbc41"
            ],
            [
             0.9,
             "#4d9221"
            ],
            [
             1,
             "#276419"
            ]
           ],
           "sequential": [
            [
             0,
             "#0d0887"
            ],
            [
             0.1111111111111111,
             "#46039f"
            ],
            [
             0.2222222222222222,
             "#7201a8"
            ],
            [
             0.3333333333333333,
             "#9c179e"
            ],
            [
             0.4444444444444444,
             "#bd3786"
            ],
            [
             0.5555555555555556,
             "#d8576b"
            ],
            [
             0.6666666666666666,
             "#ed7953"
            ],
            [
             0.7777777777777778,
             "#fb9f3a"
            ],
            [
             0.8888888888888888,
             "#fdca26"
            ],
            [
             1,
             "#f0f921"
            ]
           ],
           "sequentialminus": [
            [
             0,
             "#0d0887"
            ],
            [
             0.1111111111111111,
             "#46039f"
            ],
            [
             0.2222222222222222,
             "#7201a8"
            ],
            [
             0.3333333333333333,
             "#9c179e"
            ],
            [
             0.4444444444444444,
             "#bd3786"
            ],
            [
             0.5555555555555556,
             "#d8576b"
            ],
            [
             0.6666666666666666,
             "#ed7953"
            ],
            [
             0.7777777777777778,
             "#fb9f3a"
            ],
            [
             0.8888888888888888,
             "#fdca26"
            ],
            [
             1,
             "#f0f921"
            ]
           ]
          },
          "colorway": [
           "#636efa",
           "#EF553B",
           "#00cc96",
           "#ab63fa",
           "#FFA15A",
           "#19d3f3",
           "#FF6692",
           "#B6E880",
           "#FF97FF",
           "#FECB52"
          ],
          "font": {
           "color": "#2a3f5f"
          },
          "geo": {
           "bgcolor": "white",
           "lakecolor": "white",
           "landcolor": "#E5ECF6",
           "showlakes": true,
           "showland": true,
           "subunitcolor": "white"
          },
          "hoverlabel": {
           "align": "left"
          },
          "hovermode": "closest",
          "mapbox": {
           "style": "light"
          },
          "paper_bgcolor": "white",
          "plot_bgcolor": "#E5ECF6",
          "polar": {
           "angularaxis": {
            "gridcolor": "white",
            "linecolor": "white",
            "ticks": ""
           },
           "bgcolor": "#E5ECF6",
           "radialaxis": {
            "gridcolor": "white",
            "linecolor": "white",
            "ticks": ""
           }
          },
          "scene": {
           "xaxis": {
            "backgroundcolor": "#E5ECF6",
            "gridcolor": "white",
            "gridwidth": 2,
            "linecolor": "white",
            "showbackground": true,
            "ticks": "",
            "zerolinecolor": "white"
           },
           "yaxis": {
            "backgroundcolor": "#E5ECF6",
            "gridcolor": "white",
            "gridwidth": 2,
            "linecolor": "white",
            "showbackground": true,
            "ticks": "",
            "zerolinecolor": "white"
           },
           "zaxis": {
            "backgroundcolor": "#E5ECF6",
            "gridcolor": "white",
            "gridwidth": 2,
            "linecolor": "white",
            "showbackground": true,
            "ticks": "",
            "zerolinecolor": "white"
           }
          },
          "shapedefaults": {
           "line": {
            "color": "#2a3f5f"
           }
          },
          "ternary": {
           "aaxis": {
            "gridcolor": "white",
            "linecolor": "white",
            "ticks": ""
           },
           "baxis": {
            "gridcolor": "white",
            "linecolor": "white",
            "ticks": ""
           },
           "bgcolor": "#E5ECF6",
           "caxis": {
            "gridcolor": "white",
            "linecolor": "white",
            "ticks": ""
           }
          },
          "title": {
           "x": 0.05
          },
          "xaxis": {
           "automargin": true,
           "gridcolor": "white",
           "linecolor": "white",
           "ticks": "",
           "title": {
            "standoff": 15
           },
           "zerolinecolor": "white",
           "zerolinewidth": 2
          },
          "yaxis": {
           "automargin": true,
           "gridcolor": "white",
           "linecolor": "white",
           "ticks": "",
           "title": {
            "standoff": 15
           },
           "zerolinecolor": "white",
           "zerolinewidth": 2
          }
         }
        },
        "title": {},
        "xaxis": {
         "title": {
          "text": "Date"
         }
        },
        "yaxis": {
         "title": {}
        }
       }
      }
     },
     "metadata": {},
     "output_type": "display_data"
    },
    {
     "data": {
      "application/vnd.plotly.v1+json": {
       "config": {
        "plotlyServerURL": "https://plot.ly"
       },
       "data": [
        {
         "name": "Mean Irradiance (W/M^2)",
         "type": "scatter",
         "x": [
          "2020-06-07T00:00:00",
          "2020-06-07T00:15:00",
          "2020-06-07T00:30:00",
          "2020-06-07T00:45:00",
          "2020-06-07T01:00:00",
          "2020-06-07T01:15:00",
          "2020-06-07T01:30:00",
          "2020-06-07T01:45:00",
          "2020-06-07T02:00:00",
          "2020-06-07T02:15:00",
          "2020-06-07T02:30:00",
          "2020-06-07T02:45:00",
          "2020-06-07T03:00:00",
          "2020-06-07T03:15:00",
          "2020-06-07T03:30:00",
          "2020-06-07T03:45:00",
          "2020-06-07T04:00:00",
          "2020-06-07T04:15:00",
          "2020-06-07T04:30:00",
          "2020-06-07T04:45:00",
          "2020-06-07T05:00:00",
          "2020-06-07T05:15:00",
          "2020-06-07T05:30:00",
          "2020-06-07T05:45:00",
          "2020-06-07T06:00:00",
          "2020-06-07T06:15:00",
          "2020-06-07T06:30:00",
          "2020-06-07T06:45:00",
          "2020-06-07T07:00:00",
          "2020-06-07T07:15:00",
          "2020-06-07T07:30:00",
          "2020-06-07T07:45:00",
          "2020-06-07T08:00:00",
          "2020-06-07T08:15:00",
          "2020-06-07T08:30:00",
          "2020-06-07T08:45:00",
          "2020-06-07T09:00:00",
          "2020-06-07T09:15:00",
          "2020-06-07T09:30:00",
          "2020-06-07T09:45:00",
          "2020-06-07T10:00:00",
          "2020-06-07T10:15:00",
          "2020-06-07T10:30:00",
          "2020-06-07T10:45:00",
          "2020-06-07T11:00:00",
          "2020-06-07T11:15:00",
          "2020-06-07T11:30:00",
          "2020-06-07T11:45:00",
          "2020-06-07T12:00:00",
          "2020-06-07T12:15:00",
          "2020-06-07T12:30:00",
          "2020-06-07T12:45:00",
          "2020-06-07T13:00:00",
          "2020-06-07T13:15:00",
          "2020-06-07T13:30:00",
          "2020-06-07T13:45:00",
          "2020-06-07T14:00:00",
          "2020-06-07T14:15:00",
          "2020-06-07T14:30:00",
          "2020-06-07T14:45:00",
          "2020-06-07T15:00:00",
          "2020-06-07T15:15:00",
          "2020-06-07T15:30:00",
          "2020-06-07T15:45:00",
          "2020-06-07T16:00:00",
          "2020-06-07T16:15:00",
          "2020-06-07T16:30:00",
          "2020-06-07T16:45:00",
          "2020-06-07T17:00:00",
          "2020-06-07T17:15:00",
          "2020-06-07T17:30:00",
          "2020-06-07T17:45:00",
          "2020-06-07T18:00:00",
          "2020-06-07T18:15:00",
          "2020-06-07T18:30:00",
          "2020-06-07T18:45:00",
          "2020-06-07T19:00:00",
          "2020-06-07T19:15:00",
          "2020-06-07T19:30:00",
          "2020-06-07T19:45:00",
          "2020-06-07T20:00:00",
          "2020-06-07T20:15:00",
          "2020-06-07T20:30:00",
          "2020-06-07T20:45:00",
          "2020-06-07T21:00:00",
          "2020-06-07T21:15:00",
          "2020-06-07T21:30:00",
          "2020-06-07T21:45:00",
          "2020-06-07T22:00:00",
          "2020-06-07T22:15:00",
          "2020-06-07T22:30:00",
          "2020-06-07T22:45:00",
          "2020-06-07T23:00:00",
          "2020-06-07T23:15:00",
          "2020-06-07T23:30:00",
          "2020-06-07T23:45:00",
          "2020-06-08T00:00:00"
         ],
         "y": [
          0,
          0,
          0,
          0,
          0,
          0,
          0,
          0,
          0,
          0,
          0,
          0,
          0,
          0,
          0,
          0,
          0,
          0,
          0,
          0,
          0,
          0,
          0,
          0,
          0.01,
          0.03,
          0.06,
          0.11,
          0.13,
          0.13,
          0.14,
          0.17,
          0.23,
          0.24,
          0.24,
          0.34,
          0.63,
          0.59,
          0.47,
          0.43,
          0.46,
          0.54,
          0.65,
          1.04,
          0.85,
          1.09,
          0.86,
          0.83,
          1.02,
          1.02,
          1.01,
          1,
          0.94,
          0.95,
          0.83,
          0.59,
          0.76,
          0.66,
          0.51,
          0.33,
          0.63,
          0.49,
          0.56,
          0.46,
          0.51,
          0.45,
          0.26,
          0.35,
          0.24,
          0.25,
          0.16,
          0.08,
          0.05,
          0.02,
          0.01,
          0,
          0,
          0,
          0,
          0,
          0,
          0,
          0,
          0,
          0,
          0,
          0,
          0,
          0,
          0,
          0,
          0,
          0,
          0,
          0,
          0,
          0
         ]
        },
        {
         "name": "Mean PV Efficiency(Pct of Max Output)",
         "type": "scatter",
         "x": [
          "2020-06-07T00:00:00",
          "2020-06-07T00:15:00",
          "2020-06-07T00:30:00",
          "2020-06-07T00:45:00",
          "2020-06-07T01:00:00",
          "2020-06-07T01:15:00",
          "2020-06-07T01:30:00",
          "2020-06-07T01:45:00",
          "2020-06-07T02:00:00",
          "2020-06-07T02:15:00",
          "2020-06-07T02:30:00",
          "2020-06-07T02:45:00",
          "2020-06-07T03:00:00",
          "2020-06-07T03:15:00",
          "2020-06-07T03:30:00",
          "2020-06-07T03:45:00",
          "2020-06-07T04:00:00",
          "2020-06-07T04:15:00",
          "2020-06-07T04:30:00",
          "2020-06-07T04:45:00",
          "2020-06-07T05:00:00",
          "2020-06-07T05:15:00",
          "2020-06-07T05:30:00",
          "2020-06-07T05:45:00",
          "2020-06-07T06:00:00",
          "2020-06-07T06:15:00",
          "2020-06-07T06:30:00",
          "2020-06-07T06:45:00",
          "2020-06-07T07:00:00",
          "2020-06-07T07:15:00",
          "2020-06-07T07:30:00",
          "2020-06-07T07:45:00",
          "2020-06-07T08:00:00",
          "2020-06-07T08:15:00",
          "2020-06-07T08:30:00",
          "2020-06-07T08:45:00",
          "2020-06-07T09:00:00",
          "2020-06-07T09:15:00",
          "2020-06-07T09:30:00",
          "2020-06-07T09:45:00",
          "2020-06-07T10:00:00",
          "2020-06-07T10:15:00",
          "2020-06-07T10:30:00",
          "2020-06-07T10:45:00",
          "2020-06-07T11:00:00",
          "2020-06-07T11:15:00",
          "2020-06-07T11:30:00",
          "2020-06-07T11:45:00",
          "2020-06-07T12:00:00",
          "2020-06-07T12:15:00",
          "2020-06-07T12:30:00",
          "2020-06-07T12:45:00",
          "2020-06-07T13:00:00",
          "2020-06-07T13:15:00",
          "2020-06-07T13:30:00",
          "2020-06-07T13:45:00",
          "2020-06-07T14:00:00",
          "2020-06-07T14:15:00",
          "2020-06-07T14:30:00",
          "2020-06-07T14:45:00",
          "2020-06-07T15:00:00",
          "2020-06-07T15:15:00",
          "2020-06-07T15:30:00",
          "2020-06-07T15:45:00",
          "2020-06-07T16:00:00",
          "2020-06-07T16:15:00",
          "2020-06-07T16:30:00",
          "2020-06-07T16:45:00",
          "2020-06-07T17:00:00",
          "2020-06-07T17:15:00",
          "2020-06-07T17:30:00",
          "2020-06-07T17:45:00",
          "2020-06-07T18:00:00",
          "2020-06-07T18:15:00",
          "2020-06-07T18:30:00",
          "2020-06-07T18:45:00",
          "2020-06-07T19:00:00",
          "2020-06-07T19:15:00",
          "2020-06-07T19:30:00",
          "2020-06-07T19:45:00",
          "2020-06-07T20:00:00",
          "2020-06-07T20:15:00",
          "2020-06-07T20:30:00",
          "2020-06-07T20:45:00",
          "2020-06-07T21:00:00",
          "2020-06-07T21:15:00",
          "2020-06-07T21:30:00",
          "2020-06-07T21:45:00",
          "2020-06-07T22:00:00",
          "2020-06-07T22:15:00",
          "2020-06-07T22:30:00",
          "2020-06-07T22:45:00",
          "2020-06-07T23:00:00",
          "2020-06-07T23:15:00",
          "2020-06-07T23:30:00",
          "2020-06-07T23:45:00",
          "2020-06-08T00:00:00"
         ],
         "y": [
          0,
          0,
          0,
          0,
          0,
          0,
          0,
          0,
          0,
          0,
          0,
          0,
          0,
          0,
          0,
          0,
          0,
          0,
          0,
          0,
          0,
          0,
          0,
          0,
          0.28,
          0.46,
          0.47,
          0.46,
          0.46,
          0.49,
          0.49,
          0.49,
          0.5,
          0.5,
          0.49,
          0.49,
          0.49,
          0.47,
          0.49,
          0.48,
          0.49,
          0.48,
          0.49,
          0.42,
          0.45,
          0.41,
          0.45,
          0.45,
          0.43,
          0.38,
          0.36,
          0.33,
          0.32,
          0.32,
          0.33,
          0.32,
          0.42,
          0.43,
          0.46,
          0.46,
          0.49,
          0.47,
          0.47,
          0.46,
          0.48,
          0.45,
          0.44,
          0.48,
          0.46,
          0.45,
          0.46,
          0.49,
          0.48,
          0.46,
          0.34,
          0,
          0,
          0,
          0,
          0,
          0,
          0,
          0,
          0,
          0,
          0,
          0,
          0,
          0,
          0,
          0,
          0,
          0,
          0,
          0,
          0,
          0
         ]
        }
       ],
       "layout": {
        "template": {
         "data": {
          "bar": [
           {
            "error_x": {
             "color": "#2a3f5f"
            },
            "error_y": {
             "color": "#2a3f5f"
            },
            "marker": {
             "line": {
              "color": "#E5ECF6",
              "width": 0.5
             },
             "pattern": {
              "fillmode": "overlay",
              "size": 10,
              "solidity": 0.2
             }
            },
            "type": "bar"
           }
          ],
          "barpolar": [
           {
            "marker": {
             "line": {
              "color": "#E5ECF6",
              "width": 0.5
             },
             "pattern": {
              "fillmode": "overlay",
              "size": 10,
              "solidity": 0.2
             }
            },
            "type": "barpolar"
           }
          ],
          "carpet": [
           {
            "aaxis": {
             "endlinecolor": "#2a3f5f",
             "gridcolor": "white",
             "linecolor": "white",
             "minorgridcolor": "white",
             "startlinecolor": "#2a3f5f"
            },
            "baxis": {
             "endlinecolor": "#2a3f5f",
             "gridcolor": "white",
             "linecolor": "white",
             "minorgridcolor": "white",
             "startlinecolor": "#2a3f5f"
            },
            "type": "carpet"
           }
          ],
          "choropleth": [
           {
            "colorbar": {
             "outlinewidth": 0,
             "ticks": ""
            },
            "type": "choropleth"
           }
          ],
          "contour": [
           {
            "colorbar": {
             "outlinewidth": 0,
             "ticks": ""
            },
            "colorscale": [
             [
              0,
              "#0d0887"
             ],
             [
              0.1111111111111111,
              "#46039f"
             ],
             [
              0.2222222222222222,
              "#7201a8"
             ],
             [
              0.3333333333333333,
              "#9c179e"
             ],
             [
              0.4444444444444444,
              "#bd3786"
             ],
             [
              0.5555555555555556,
              "#d8576b"
             ],
             [
              0.6666666666666666,
              "#ed7953"
             ],
             [
              0.7777777777777778,
              "#fb9f3a"
             ],
             [
              0.8888888888888888,
              "#fdca26"
             ],
             [
              1,
              "#f0f921"
             ]
            ],
            "type": "contour"
           }
          ],
          "contourcarpet": [
           {
            "colorbar": {
             "outlinewidth": 0,
             "ticks": ""
            },
            "type": "contourcarpet"
           }
          ],
          "heatmap": [
           {
            "colorbar": {
             "outlinewidth": 0,
             "ticks": ""
            },
            "colorscale": [
             [
              0,
              "#0d0887"
             ],
             [
              0.1111111111111111,
              "#46039f"
             ],
             [
              0.2222222222222222,
              "#7201a8"
             ],
             [
              0.3333333333333333,
              "#9c179e"
             ],
             [
              0.4444444444444444,
              "#bd3786"
             ],
             [
              0.5555555555555556,
              "#d8576b"
             ],
             [
              0.6666666666666666,
              "#ed7953"
             ],
             [
              0.7777777777777778,
              "#fb9f3a"
             ],
             [
              0.8888888888888888,
              "#fdca26"
             ],
             [
              1,
              "#f0f921"
             ]
            ],
            "type": "heatmap"
           }
          ],
          "heatmapgl": [
           {
            "colorbar": {
             "outlinewidth": 0,
             "ticks": ""
            },
            "colorscale": [
             [
              0,
              "#0d0887"
             ],
             [
              0.1111111111111111,
              "#46039f"
             ],
             [
              0.2222222222222222,
              "#7201a8"
             ],
             [
              0.3333333333333333,
              "#9c179e"
             ],
             [
              0.4444444444444444,
              "#bd3786"
             ],
             [
              0.5555555555555556,
              "#d8576b"
             ],
             [
              0.6666666666666666,
              "#ed7953"
             ],
             [
              0.7777777777777778,
              "#fb9f3a"
             ],
             [
              0.8888888888888888,
              "#fdca26"
             ],
             [
              1,
              "#f0f921"
             ]
            ],
            "type": "heatmapgl"
           }
          ],
          "histogram": [
           {
            "marker": {
             "pattern": {
              "fillmode": "overlay",
              "size": 10,
              "solidity": 0.2
             }
            },
            "type": "histogram"
           }
          ],
          "histogram2d": [
           {
            "colorbar": {
             "outlinewidth": 0,
             "ticks": ""
            },
            "colorscale": [
             [
              0,
              "#0d0887"
             ],
             [
              0.1111111111111111,
              "#46039f"
             ],
             [
              0.2222222222222222,
              "#7201a8"
             ],
             [
              0.3333333333333333,
              "#9c179e"
             ],
             [
              0.4444444444444444,
              "#bd3786"
             ],
             [
              0.5555555555555556,
              "#d8576b"
             ],
             [
              0.6666666666666666,
              "#ed7953"
             ],
             [
              0.7777777777777778,
              "#fb9f3a"
             ],
             [
              0.8888888888888888,
              "#fdca26"
             ],
             [
              1,
              "#f0f921"
             ]
            ],
            "type": "histogram2d"
           }
          ],
          "histogram2dcontour": [
           {
            "colorbar": {
             "outlinewidth": 0,
             "ticks": ""
            },
            "colorscale": [
             [
              0,
              "#0d0887"
             ],
             [
              0.1111111111111111,
              "#46039f"
             ],
             [
              0.2222222222222222,
              "#7201a8"
             ],
             [
              0.3333333333333333,
              "#9c179e"
             ],
             [
              0.4444444444444444,
              "#bd3786"
             ],
             [
              0.5555555555555556,
              "#d8576b"
             ],
             [
              0.6666666666666666,
              "#ed7953"
             ],
             [
              0.7777777777777778,
              "#fb9f3a"
             ],
             [
              0.8888888888888888,
              "#fdca26"
             ],
             [
              1,
              "#f0f921"
             ]
            ],
            "type": "histogram2dcontour"
           }
          ],
          "mesh3d": [
           {
            "colorbar": {
             "outlinewidth": 0,
             "ticks": ""
            },
            "type": "mesh3d"
           }
          ],
          "parcoords": [
           {
            "line": {
             "colorbar": {
              "outlinewidth": 0,
              "ticks": ""
             }
            },
            "type": "parcoords"
           }
          ],
          "pie": [
           {
            "automargin": true,
            "type": "pie"
           }
          ],
          "scatter": [
           {
            "fillpattern": {
             "fillmode": "overlay",
             "size": 10,
             "solidity": 0.2
            },
            "type": "scatter"
           }
          ],
          "scatter3d": [
           {
            "line": {
             "colorbar": {
              "outlinewidth": 0,
              "ticks": ""
             }
            },
            "marker": {
             "colorbar": {
              "outlinewidth": 0,
              "ticks": ""
             }
            },
            "type": "scatter3d"
           }
          ],
          "scattercarpet": [
           {
            "marker": {
             "colorbar": {
              "outlinewidth": 0,
              "ticks": ""
             }
            },
            "type": "scattercarpet"
           }
          ],
          "scattergeo": [
           {
            "marker": {
             "colorbar": {
              "outlinewidth": 0,
              "ticks": ""
             }
            },
            "type": "scattergeo"
           }
          ],
          "scattergl": [
           {
            "marker": {
             "colorbar": {
              "outlinewidth": 0,
              "ticks": ""
             }
            },
            "type": "scattergl"
           }
          ],
          "scattermapbox": [
           {
            "marker": {
             "colorbar": {
              "outlinewidth": 0,
              "ticks": ""
             }
            },
            "type": "scattermapbox"
           }
          ],
          "scatterpolar": [
           {
            "marker": {
             "colorbar": {
              "outlinewidth": 0,
              "ticks": ""
             }
            },
            "type": "scatterpolar"
           }
          ],
          "scatterpolargl": [
           {
            "marker": {
             "colorbar": {
              "outlinewidth": 0,
              "ticks": ""
             }
            },
            "type": "scatterpolargl"
           }
          ],
          "scatterternary": [
           {
            "marker": {
             "colorbar": {
              "outlinewidth": 0,
              "ticks": ""
             }
            },
            "type": "scatterternary"
           }
          ],
          "surface": [
           {
            "colorbar": {
             "outlinewidth": 0,
             "ticks": ""
            },
            "colorscale": [
             [
              0,
              "#0d0887"
             ],
             [
              0.1111111111111111,
              "#46039f"
             ],
             [
              0.2222222222222222,
              "#7201a8"
             ],
             [
              0.3333333333333333,
              "#9c179e"
             ],
             [
              0.4444444444444444,
              "#bd3786"
             ],
             [
              0.5555555555555556,
              "#d8576b"
             ],
             [
              0.6666666666666666,
              "#ed7953"
             ],
             [
              0.7777777777777778,
              "#fb9f3a"
             ],
             [
              0.8888888888888888,
              "#fdca26"
             ],
             [
              1,
              "#f0f921"
             ]
            ],
            "type": "surface"
           }
          ],
          "table": [
           {
            "cells": {
             "fill": {
              "color": "#EBF0F8"
             },
             "line": {
              "color": "white"
             }
            },
            "header": {
             "fill": {
              "color": "#C8D4E3"
             },
             "line": {
              "color": "white"
             }
            },
            "type": "table"
           }
          ]
         },
         "layout": {
          "annotationdefaults": {
           "arrowcolor": "#2a3f5f",
           "arrowhead": 0,
           "arrowwidth": 1
          },
          "autotypenumbers": "strict",
          "coloraxis": {
           "colorbar": {
            "outlinewidth": 0,
            "ticks": ""
           }
          },
          "colorscale": {
           "diverging": [
            [
             0,
             "#8e0152"
            ],
            [
             0.1,
             "#c51b7d"
            ],
            [
             0.2,
             "#de77ae"
            ],
            [
             0.3,
             "#f1b6da"
            ],
            [
             0.4,
             "#fde0ef"
            ],
            [
             0.5,
             "#f7f7f7"
            ],
            [
             0.6,
             "#e6f5d0"
            ],
            [
             0.7,
             "#b8e186"
            ],
            [
             0.8,
             "#7fbc41"
            ],
            [
             0.9,
             "#4d9221"
            ],
            [
             1,
             "#276419"
            ]
           ],
           "sequential": [
            [
             0,
             "#0d0887"
            ],
            [
             0.1111111111111111,
             "#46039f"
            ],
            [
             0.2222222222222222,
             "#7201a8"
            ],
            [
             0.3333333333333333,
             "#9c179e"
            ],
            [
             0.4444444444444444,
             "#bd3786"
            ],
            [
             0.5555555555555556,
             "#d8576b"
            ],
            [
             0.6666666666666666,
             "#ed7953"
            ],
            [
             0.7777777777777778,
             "#fb9f3a"
            ],
            [
             0.8888888888888888,
             "#fdca26"
            ],
            [
             1,
             "#f0f921"
            ]
           ],
           "sequentialminus": [
            [
             0,
             "#0d0887"
            ],
            [
             0.1111111111111111,
             "#46039f"
            ],
            [
             0.2222222222222222,
             "#7201a8"
            ],
            [
             0.3333333333333333,
             "#9c179e"
            ],
            [
             0.4444444444444444,
             "#bd3786"
            ],
            [
             0.5555555555555556,
             "#d8576b"
            ],
            [
             0.6666666666666666,
             "#ed7953"
            ],
            [
             0.7777777777777778,
             "#fb9f3a"
            ],
            [
             0.8888888888888888,
             "#fdca26"
            ],
            [
             1,
             "#f0f921"
            ]
           ]
          },
          "colorway": [
           "#636efa",
           "#EF553B",
           "#00cc96",
           "#ab63fa",
           "#FFA15A",
           "#19d3f3",
           "#FF6692",
           "#B6E880",
           "#FF97FF",
           "#FECB52"
          ],
          "font": {
           "color": "#2a3f5f"
          },
          "geo": {
           "bgcolor": "white",
           "lakecolor": "white",
           "landcolor": "#E5ECF6",
           "showlakes": true,
           "showland": true,
           "subunitcolor": "white"
          },
          "hoverlabel": {
           "align": "left"
          },
          "hovermode": "closest",
          "mapbox": {
           "style": "light"
          },
          "paper_bgcolor": "white",
          "plot_bgcolor": "#E5ECF6",
          "polar": {
           "angularaxis": {
            "gridcolor": "white",
            "linecolor": "white",
            "ticks": ""
           },
           "bgcolor": "#E5ECF6",
           "radialaxis": {
            "gridcolor": "white",
            "linecolor": "white",
            "ticks": ""
           }
          },
          "scene": {
           "xaxis": {
            "backgroundcolor": "#E5ECF6",
            "gridcolor": "white",
            "gridwidth": 2,
            "linecolor": "white",
            "showbackground": true,
            "ticks": "",
            "zerolinecolor": "white"
           },
           "yaxis": {
            "backgroundcolor": "#E5ECF6",
            "gridcolor": "white",
            "gridwidth": 2,
            "linecolor": "white",
            "showbackground": true,
            "ticks": "",
            "zerolinecolor": "white"
           },
           "zaxis": {
            "backgroundcolor": "#E5ECF6",
            "gridcolor": "white",
            "gridwidth": 2,
            "linecolor": "white",
            "showbackground": true,
            "ticks": "",
            "zerolinecolor": "white"
           }
          },
          "shapedefaults": {
           "line": {
            "color": "#2a3f5f"
           }
          },
          "ternary": {
           "aaxis": {
            "gridcolor": "white",
            "linecolor": "white",
            "ticks": ""
           },
           "baxis": {
            "gridcolor": "white",
            "linecolor": "white",
            "ticks": ""
           },
           "bgcolor": "#E5ECF6",
           "caxis": {
            "gridcolor": "white",
            "linecolor": "white",
            "ticks": ""
           }
          },
          "title": {
           "x": 0.05
          },
          "xaxis": {
           "automargin": true,
           "gridcolor": "white",
           "linecolor": "white",
           "ticks": "",
           "title": {
            "standoff": 15
           },
           "zerolinecolor": "white",
           "zerolinewidth": 2
          },
          "yaxis": {
           "automargin": true,
           "gridcolor": "white",
           "linecolor": "white",
           "ticks": "",
           "title": {
            "standoff": 15
           },
           "zerolinecolor": "white",
           "zerolinewidth": 2
          }
         }
        },
        "title": {
         "text": "June 7th, The Sunniest Day: Irradiance vs. PV Efficiency"
        },
        "xaxis": {
         "title": {
          "text": "Date"
         }
        },
        "yaxis": {
         "title": {}
        }
       }
      }
     },
     "metadata": {},
     "output_type": "display_data"
    }
   ],
   "source": [
    "\n",
    "variables = ['avg_irrad', 'avg_PV_effic']\n",
    "key_labels = ['Mean Irradiance (W/M^2)', 'Mean PV Efficiency(Pct of Max Output)']\n",
    "\n",
    "plot_variable(hourly_aggregate, variables, key_labels)\n",
    "\n"
   ]
  },
  {
   "cell_type": "markdown",
   "metadata": {},
   "source": [
    "The next chart switches to the 15 minute interval data, and filters to just June 7th. This chart reveals that there is an effective baseline efficiency - notice how the efficiency spikes almost straight up to a threshold the moment the sun rises. In addition, the absolute highest peaks of irradiance correspond with marked decreases in efficiency. \n",
    "\n",
    "It is clear that there is a relationship between irradiance and PV efficiency. Looking at the period of max irradiance, we can see two large spikes at 10:45 and 11:15. These correspond to marked dips in panel efficiency. Similar trends can be seen from 12:00 to about 13:30. One would think that more sun would only increase the efficiency of the panels - but instead there appears to be a negative correlation. The least efficient period in the day was also when the sun was at maximum intensity. This is very interesting! What is the specific cause of this drop in efficiency? It is possible that other variables are having an effect - such as ambient temperature, or inverter efficiency. The next step is to look for relationships across all of the variables, and build a model that explains changes in PV Efficiency."
   ]
  },
  {
   "cell_type": "code",
   "execution_count": 33,
   "metadata": {},
   "outputs": [
    {
     "data": {
      "application/vnd.plotly.v1+json": {
       "config": {
        "plotlyServerURL": "https://plot.ly"
       },
       "data": [
        {
         "name": "Mean Irradiance (W/M^2)",
         "type": "scatter",
         "x": [
          "2020-06-07T00:00:00",
          "2020-06-07T00:15:00",
          "2020-06-07T00:30:00",
          "2020-06-07T00:45:00",
          "2020-06-07T01:00:00",
          "2020-06-07T01:15:00",
          "2020-06-07T01:30:00",
          "2020-06-07T01:45:00",
          "2020-06-07T02:00:00",
          "2020-06-07T02:15:00",
          "2020-06-07T02:30:00",
          "2020-06-07T02:45:00",
          "2020-06-07T03:00:00",
          "2020-06-07T03:15:00",
          "2020-06-07T03:30:00",
          "2020-06-07T03:45:00",
          "2020-06-07T04:00:00",
          "2020-06-07T04:15:00",
          "2020-06-07T04:30:00",
          "2020-06-07T04:45:00",
          "2020-06-07T05:00:00",
          "2020-06-07T05:15:00",
          "2020-06-07T05:30:00",
          "2020-06-07T05:45:00",
          "2020-06-07T06:00:00",
          "2020-06-07T06:15:00",
          "2020-06-07T06:30:00",
          "2020-06-07T06:45:00",
          "2020-06-07T07:00:00",
          "2020-06-07T07:15:00",
          "2020-06-07T07:30:00",
          "2020-06-07T07:45:00",
          "2020-06-07T08:00:00",
          "2020-06-07T08:15:00",
          "2020-06-07T08:30:00",
          "2020-06-07T08:45:00",
          "2020-06-07T09:00:00",
          "2020-06-07T09:15:00",
          "2020-06-07T09:30:00",
          "2020-06-07T09:45:00",
          "2020-06-07T10:00:00",
          "2020-06-07T10:15:00",
          "2020-06-07T10:30:00",
          "2020-06-07T10:45:00",
          "2020-06-07T11:00:00",
          "2020-06-07T11:15:00",
          "2020-06-07T11:30:00",
          "2020-06-07T11:45:00",
          "2020-06-07T12:00:00",
          "2020-06-07T12:15:00",
          "2020-06-07T12:30:00",
          "2020-06-07T12:45:00",
          "2020-06-07T13:00:00",
          "2020-06-07T13:15:00",
          "2020-06-07T13:30:00",
          "2020-06-07T13:45:00",
          "2020-06-07T14:00:00",
          "2020-06-07T14:15:00",
          "2020-06-07T14:30:00",
          "2020-06-07T14:45:00",
          "2020-06-07T15:00:00",
          "2020-06-07T15:15:00",
          "2020-06-07T15:30:00",
          "2020-06-07T15:45:00",
          "2020-06-07T16:00:00",
          "2020-06-07T16:15:00",
          "2020-06-07T16:30:00",
          "2020-06-07T16:45:00",
          "2020-06-07T17:00:00",
          "2020-06-07T17:15:00",
          "2020-06-07T17:30:00",
          "2020-06-07T17:45:00",
          "2020-06-07T18:00:00",
          "2020-06-07T18:15:00",
          "2020-06-07T18:30:00",
          "2020-06-07T18:45:00",
          "2020-06-07T19:00:00",
          "2020-06-07T19:15:00",
          "2020-06-07T19:30:00",
          "2020-06-07T19:45:00",
          "2020-06-07T20:00:00",
          "2020-06-07T20:15:00",
          "2020-06-07T20:30:00",
          "2020-06-07T20:45:00",
          "2020-06-07T21:00:00",
          "2020-06-07T21:15:00",
          "2020-06-07T21:30:00",
          "2020-06-07T21:45:00",
          "2020-06-07T22:00:00",
          "2020-06-07T22:15:00",
          "2020-06-07T22:30:00",
          "2020-06-07T22:45:00",
          "2020-06-07T23:00:00",
          "2020-06-07T23:15:00",
          "2020-06-07T23:30:00",
          "2020-06-07T23:45:00",
          "2020-06-08T00:00:00"
         ],
         "y": [
          0,
          0,
          0,
          0,
          0,
          0,
          0,
          0,
          0,
          0,
          0,
          0,
          0,
          0,
          0,
          0,
          0,
          0,
          0,
          0,
          0,
          0,
          0,
          0,
          0.01,
          0.03,
          0.06,
          0.11,
          0.13,
          0.13,
          0.14,
          0.17,
          0.23,
          0.24,
          0.24,
          0.34,
          0.63,
          0.59,
          0.47,
          0.43,
          0.46,
          0.54,
          0.65,
          1.04,
          0.85,
          1.09,
          0.86,
          0.83,
          1.02,
          1.02,
          1.01,
          1,
          0.94,
          0.95,
          0.83,
          0.59,
          0.76,
          0.66,
          0.51,
          0.33,
          0.63,
          0.49,
          0.56,
          0.46,
          0.51,
          0.45,
          0.26,
          0.35,
          0.24,
          0.25,
          0.16,
          0.08,
          0.05,
          0.02,
          0.01,
          0,
          0,
          0,
          0,
          0,
          0,
          0,
          0,
          0,
          0,
          0,
          0,
          0,
          0,
          0,
          0,
          0,
          0,
          0,
          0,
          0,
          0
         ]
        },
        {
         "name": "Mean PV Efficiency(Pct of Max Output)",
         "type": "scatter",
         "x": [
          "2020-06-07T00:00:00",
          "2020-06-07T00:15:00",
          "2020-06-07T00:30:00",
          "2020-06-07T00:45:00",
          "2020-06-07T01:00:00",
          "2020-06-07T01:15:00",
          "2020-06-07T01:30:00",
          "2020-06-07T01:45:00",
          "2020-06-07T02:00:00",
          "2020-06-07T02:15:00",
          "2020-06-07T02:30:00",
          "2020-06-07T02:45:00",
          "2020-06-07T03:00:00",
          "2020-06-07T03:15:00",
          "2020-06-07T03:30:00",
          "2020-06-07T03:45:00",
          "2020-06-07T04:00:00",
          "2020-06-07T04:15:00",
          "2020-06-07T04:30:00",
          "2020-06-07T04:45:00",
          "2020-06-07T05:00:00",
          "2020-06-07T05:15:00",
          "2020-06-07T05:30:00",
          "2020-06-07T05:45:00",
          "2020-06-07T06:00:00",
          "2020-06-07T06:15:00",
          "2020-06-07T06:30:00",
          "2020-06-07T06:45:00",
          "2020-06-07T07:00:00",
          "2020-06-07T07:15:00",
          "2020-06-07T07:30:00",
          "2020-06-07T07:45:00",
          "2020-06-07T08:00:00",
          "2020-06-07T08:15:00",
          "2020-06-07T08:30:00",
          "2020-06-07T08:45:00",
          "2020-06-07T09:00:00",
          "2020-06-07T09:15:00",
          "2020-06-07T09:30:00",
          "2020-06-07T09:45:00",
          "2020-06-07T10:00:00",
          "2020-06-07T10:15:00",
          "2020-06-07T10:30:00",
          "2020-06-07T10:45:00",
          "2020-06-07T11:00:00",
          "2020-06-07T11:15:00",
          "2020-06-07T11:30:00",
          "2020-06-07T11:45:00",
          "2020-06-07T12:00:00",
          "2020-06-07T12:15:00",
          "2020-06-07T12:30:00",
          "2020-06-07T12:45:00",
          "2020-06-07T13:00:00",
          "2020-06-07T13:15:00",
          "2020-06-07T13:30:00",
          "2020-06-07T13:45:00",
          "2020-06-07T14:00:00",
          "2020-06-07T14:15:00",
          "2020-06-07T14:30:00",
          "2020-06-07T14:45:00",
          "2020-06-07T15:00:00",
          "2020-06-07T15:15:00",
          "2020-06-07T15:30:00",
          "2020-06-07T15:45:00",
          "2020-06-07T16:00:00",
          "2020-06-07T16:15:00",
          "2020-06-07T16:30:00",
          "2020-06-07T16:45:00",
          "2020-06-07T17:00:00",
          "2020-06-07T17:15:00",
          "2020-06-07T17:30:00",
          "2020-06-07T17:45:00",
          "2020-06-07T18:00:00",
          "2020-06-07T18:15:00",
          "2020-06-07T18:30:00",
          "2020-06-07T18:45:00",
          "2020-06-07T19:00:00",
          "2020-06-07T19:15:00",
          "2020-06-07T19:30:00",
          "2020-06-07T19:45:00",
          "2020-06-07T20:00:00",
          "2020-06-07T20:15:00",
          "2020-06-07T20:30:00",
          "2020-06-07T20:45:00",
          "2020-06-07T21:00:00",
          "2020-06-07T21:15:00",
          "2020-06-07T21:30:00",
          "2020-06-07T21:45:00",
          "2020-06-07T22:00:00",
          "2020-06-07T22:15:00",
          "2020-06-07T22:30:00",
          "2020-06-07T22:45:00",
          "2020-06-07T23:00:00",
          "2020-06-07T23:15:00",
          "2020-06-07T23:30:00",
          "2020-06-07T23:45:00",
          "2020-06-08T00:00:00"
         ],
         "y": [
          0,
          0,
          0,
          0,
          0,
          0,
          0,
          0,
          0,
          0,
          0,
          0,
          0,
          0,
          0,
          0,
          0,
          0,
          0,
          0,
          0,
          0,
          0,
          0,
          0.28,
          0.46,
          0.47,
          0.46,
          0.46,
          0.49,
          0.49,
          0.49,
          0.5,
          0.5,
          0.49,
          0.49,
          0.49,
          0.47,
          0.49,
          0.48,
          0.49,
          0.48,
          0.49,
          0.42,
          0.45,
          0.41,
          0.45,
          0.45,
          0.43,
          0.38,
          0.36,
          0.33,
          0.32,
          0.32,
          0.33,
          0.32,
          0.42,
          0.43,
          0.46,
          0.46,
          0.49,
          0.47,
          0.47,
          0.46,
          0.48,
          0.45,
          0.44,
          0.48,
          0.46,
          0.45,
          0.46,
          0.49,
          0.48,
          0.46,
          0.34,
          0,
          0,
          0,
          0,
          0,
          0,
          0,
          0,
          0,
          0,
          0,
          0,
          0,
          0,
          0,
          0,
          0,
          0,
          0,
          0,
          0,
          0
         ]
        }
       ],
       "layout": {
        "template": {
         "data": {
          "bar": [
           {
            "error_x": {
             "color": "#2a3f5f"
            },
            "error_y": {
             "color": "#2a3f5f"
            },
            "marker": {
             "line": {
              "color": "#E5ECF6",
              "width": 0.5
             },
             "pattern": {
              "fillmode": "overlay",
              "size": 10,
              "solidity": 0.2
             }
            },
            "type": "bar"
           }
          ],
          "barpolar": [
           {
            "marker": {
             "line": {
              "color": "#E5ECF6",
              "width": 0.5
             },
             "pattern": {
              "fillmode": "overlay",
              "size": 10,
              "solidity": 0.2
             }
            },
            "type": "barpolar"
           }
          ],
          "carpet": [
           {
            "aaxis": {
             "endlinecolor": "#2a3f5f",
             "gridcolor": "white",
             "linecolor": "white",
             "minorgridcolor": "white",
             "startlinecolor": "#2a3f5f"
            },
            "baxis": {
             "endlinecolor": "#2a3f5f",
             "gridcolor": "white",
             "linecolor": "white",
             "minorgridcolor": "white",
             "startlinecolor": "#2a3f5f"
            },
            "type": "carpet"
           }
          ],
          "choropleth": [
           {
            "colorbar": {
             "outlinewidth": 0,
             "ticks": ""
            },
            "type": "choropleth"
           }
          ],
          "contour": [
           {
            "colorbar": {
             "outlinewidth": 0,
             "ticks": ""
            },
            "colorscale": [
             [
              0,
              "#0d0887"
             ],
             [
              0.1111111111111111,
              "#46039f"
             ],
             [
              0.2222222222222222,
              "#7201a8"
             ],
             [
              0.3333333333333333,
              "#9c179e"
             ],
             [
              0.4444444444444444,
              "#bd3786"
             ],
             [
              0.5555555555555556,
              "#d8576b"
             ],
             [
              0.6666666666666666,
              "#ed7953"
             ],
             [
              0.7777777777777778,
              "#fb9f3a"
             ],
             [
              0.8888888888888888,
              "#fdca26"
             ],
             [
              1,
              "#f0f921"
             ]
            ],
            "type": "contour"
           }
          ],
          "contourcarpet": [
           {
            "colorbar": {
             "outlinewidth": 0,
             "ticks": ""
            },
            "type": "contourcarpet"
           }
          ],
          "heatmap": [
           {
            "colorbar": {
             "outlinewidth": 0,
             "ticks": ""
            },
            "colorscale": [
             [
              0,
              "#0d0887"
             ],
             [
              0.1111111111111111,
              "#46039f"
             ],
             [
              0.2222222222222222,
              "#7201a8"
             ],
             [
              0.3333333333333333,
              "#9c179e"
             ],
             [
              0.4444444444444444,
              "#bd3786"
             ],
             [
              0.5555555555555556,
              "#d8576b"
             ],
             [
              0.6666666666666666,
              "#ed7953"
             ],
             [
              0.7777777777777778,
              "#fb9f3a"
             ],
             [
              0.8888888888888888,
              "#fdca26"
             ],
             [
              1,
              "#f0f921"
             ]
            ],
            "type": "heatmap"
           }
          ],
          "heatmapgl": [
           {
            "colorbar": {
             "outlinewidth": 0,
             "ticks": ""
            },
            "colorscale": [
             [
              0,
              "#0d0887"
             ],
             [
              0.1111111111111111,
              "#46039f"
             ],
             [
              0.2222222222222222,
              "#7201a8"
             ],
             [
              0.3333333333333333,
              "#9c179e"
             ],
             [
              0.4444444444444444,
              "#bd3786"
             ],
             [
              0.5555555555555556,
              "#d8576b"
             ],
             [
              0.6666666666666666,
              "#ed7953"
             ],
             [
              0.7777777777777778,
              "#fb9f3a"
             ],
             [
              0.8888888888888888,
              "#fdca26"
             ],
             [
              1,
              "#f0f921"
             ]
            ],
            "type": "heatmapgl"
           }
          ],
          "histogram": [
           {
            "marker": {
             "pattern": {
              "fillmode": "overlay",
              "size": 10,
              "solidity": 0.2
             }
            },
            "type": "histogram"
           }
          ],
          "histogram2d": [
           {
            "colorbar": {
             "outlinewidth": 0,
             "ticks": ""
            },
            "colorscale": [
             [
              0,
              "#0d0887"
             ],
             [
              0.1111111111111111,
              "#46039f"
             ],
             [
              0.2222222222222222,
              "#7201a8"
             ],
             [
              0.3333333333333333,
              "#9c179e"
             ],
             [
              0.4444444444444444,
              "#bd3786"
             ],
             [
              0.5555555555555556,
              "#d8576b"
             ],
             [
              0.6666666666666666,
              "#ed7953"
             ],
             [
              0.7777777777777778,
              "#fb9f3a"
             ],
             [
              0.8888888888888888,
              "#fdca26"
             ],
             [
              1,
              "#f0f921"
             ]
            ],
            "type": "histogram2d"
           }
          ],
          "histogram2dcontour": [
           {
            "colorbar": {
             "outlinewidth": 0,
             "ticks": ""
            },
            "colorscale": [
             [
              0,
              "#0d0887"
             ],
             [
              0.1111111111111111,
              "#46039f"
             ],
             [
              0.2222222222222222,
              "#7201a8"
             ],
             [
              0.3333333333333333,
              "#9c179e"
             ],
             [
              0.4444444444444444,
              "#bd3786"
             ],
             [
              0.5555555555555556,
              "#d8576b"
             ],
             [
              0.6666666666666666,
              "#ed7953"
             ],
             [
              0.7777777777777778,
              "#fb9f3a"
             ],
             [
              0.8888888888888888,
              "#fdca26"
             ],
             [
              1,
              "#f0f921"
             ]
            ],
            "type": "histogram2dcontour"
           }
          ],
          "mesh3d": [
           {
            "colorbar": {
             "outlinewidth": 0,
             "ticks": ""
            },
            "type": "mesh3d"
           }
          ],
          "parcoords": [
           {
            "line": {
             "colorbar": {
              "outlinewidth": 0,
              "ticks": ""
             }
            },
            "type": "parcoords"
           }
          ],
          "pie": [
           {
            "automargin": true,
            "type": "pie"
           }
          ],
          "scatter": [
           {
            "fillpattern": {
             "fillmode": "overlay",
             "size": 10,
             "solidity": 0.2
            },
            "type": "scatter"
           }
          ],
          "scatter3d": [
           {
            "line": {
             "colorbar": {
              "outlinewidth": 0,
              "ticks": ""
             }
            },
            "marker": {
             "colorbar": {
              "outlinewidth": 0,
              "ticks": ""
             }
            },
            "type": "scatter3d"
           }
          ],
          "scattercarpet": [
           {
            "marker": {
             "colorbar": {
              "outlinewidth": 0,
              "ticks": ""
             }
            },
            "type": "scattercarpet"
           }
          ],
          "scattergeo": [
           {
            "marker": {
             "colorbar": {
              "outlinewidth": 0,
              "ticks": ""
             }
            },
            "type": "scattergeo"
           }
          ],
          "scattergl": [
           {
            "marker": {
             "colorbar": {
              "outlinewidth": 0,
              "ticks": ""
             }
            },
            "type": "scattergl"
           }
          ],
          "scattermapbox": [
           {
            "marker": {
             "colorbar": {
              "outlinewidth": 0,
              "ticks": ""
             }
            },
            "type": "scattermapbox"
           }
          ],
          "scatterpolar": [
           {
            "marker": {
             "colorbar": {
              "outlinewidth": 0,
              "ticks": ""
             }
            },
            "type": "scatterpolar"
           }
          ],
          "scatterpolargl": [
           {
            "marker": {
             "colorbar": {
              "outlinewidth": 0,
              "ticks": ""
             }
            },
            "type": "scatterpolargl"
           }
          ],
          "scatterternary": [
           {
            "marker": {
             "colorbar": {
              "outlinewidth": 0,
              "ticks": ""
             }
            },
            "type": "scatterternary"
           }
          ],
          "surface": [
           {
            "colorbar": {
             "outlinewidth": 0,
             "ticks": ""
            },
            "colorscale": [
             [
              0,
              "#0d0887"
             ],
             [
              0.1111111111111111,
              "#46039f"
             ],
             [
              0.2222222222222222,
              "#7201a8"
             ],
             [
              0.3333333333333333,
              "#9c179e"
             ],
             [
              0.4444444444444444,
              "#bd3786"
             ],
             [
              0.5555555555555556,
              "#d8576b"
             ],
             [
              0.6666666666666666,
              "#ed7953"
             ],
             [
              0.7777777777777778,
              "#fb9f3a"
             ],
             [
              0.8888888888888888,
              "#fdca26"
             ],
             [
              1,
              "#f0f921"
             ]
            ],
            "type": "surface"
           }
          ],
          "table": [
           {
            "cells": {
             "fill": {
              "color": "#EBF0F8"
             },
             "line": {
              "color": "white"
             }
            },
            "header": {
             "fill": {
              "color": "#C8D4E3"
             },
             "line": {
              "color": "white"
             }
            },
            "type": "table"
           }
          ]
         },
         "layout": {
          "annotationdefaults": {
           "arrowcolor": "#2a3f5f",
           "arrowhead": 0,
           "arrowwidth": 1
          },
          "autotypenumbers": "strict",
          "coloraxis": {
           "colorbar": {
            "outlinewidth": 0,
            "ticks": ""
           }
          },
          "colorscale": {
           "diverging": [
            [
             0,
             "#8e0152"
            ],
            [
             0.1,
             "#c51b7d"
            ],
            [
             0.2,
             "#de77ae"
            ],
            [
             0.3,
             "#f1b6da"
            ],
            [
             0.4,
             "#fde0ef"
            ],
            [
             0.5,
             "#f7f7f7"
            ],
            [
             0.6,
             "#e6f5d0"
            ],
            [
             0.7,
             "#b8e186"
            ],
            [
             0.8,
             "#7fbc41"
            ],
            [
             0.9,
             "#4d9221"
            ],
            [
             1,
             "#276419"
            ]
           ],
           "sequential": [
            [
             0,
             "#0d0887"
            ],
            [
             0.1111111111111111,
             "#46039f"
            ],
            [
             0.2222222222222222,
             "#7201a8"
            ],
            [
             0.3333333333333333,
             "#9c179e"
            ],
            [
             0.4444444444444444,
             "#bd3786"
            ],
            [
             0.5555555555555556,
             "#d8576b"
            ],
            [
             0.6666666666666666,
             "#ed7953"
            ],
            [
             0.7777777777777778,
             "#fb9f3a"
            ],
            [
             0.8888888888888888,
             "#fdca26"
            ],
            [
             1,
             "#f0f921"
            ]
           ],
           "sequentialminus": [
            [
             0,
             "#0d0887"
            ],
            [
             0.1111111111111111,
             "#46039f"
            ],
            [
             0.2222222222222222,
             "#7201a8"
            ],
            [
             0.3333333333333333,
             "#9c179e"
            ],
            [
             0.4444444444444444,
             "#bd3786"
            ],
            [
             0.5555555555555556,
             "#d8576b"
            ],
            [
             0.6666666666666666,
             "#ed7953"
            ],
            [
             0.7777777777777778,
             "#fb9f3a"
            ],
            [
             0.8888888888888888,
             "#fdca26"
            ],
            [
             1,
             "#f0f921"
            ]
           ]
          },
          "colorway": [
           "#636efa",
           "#EF553B",
           "#00cc96",
           "#ab63fa",
           "#FFA15A",
           "#19d3f3",
           "#FF6692",
           "#B6E880",
           "#FF97FF",
           "#FECB52"
          ],
          "font": {
           "color": "#2a3f5f"
          },
          "geo": {
           "bgcolor": "white",
           "lakecolor": "white",
           "landcolor": "#E5ECF6",
           "showlakes": true,
           "showland": true,
           "subunitcolor": "white"
          },
          "hoverlabel": {
           "align": "left"
          },
          "hovermode": "closest",
          "mapbox": {
           "style": "light"
          },
          "paper_bgcolor": "white",
          "plot_bgcolor": "#E5ECF6",
          "polar": {
           "angularaxis": {
            "gridcolor": "white",
            "linecolor": "white",
            "ticks": ""
           },
           "bgcolor": "#E5ECF6",
           "radialaxis": {
            "gridcolor": "white",
            "linecolor": "white",
            "ticks": ""
           }
          },
          "scene": {
           "xaxis": {
            "backgroundcolor": "#E5ECF6",
            "gridcolor": "white",
            "gridwidth": 2,
            "linecolor": "white",
            "showbackground": true,
            "ticks": "",
            "zerolinecolor": "white"
           },
           "yaxis": {
            "backgroundcolor": "#E5ECF6",
            "gridcolor": "white",
            "gridwidth": 2,
            "linecolor": "white",
            "showbackground": true,
            "ticks": "",
            "zerolinecolor": "white"
           },
           "zaxis": {
            "backgroundcolor": "#E5ECF6",
            "gridcolor": "white",
            "gridwidth": 2,
            "linecolor": "white",
            "showbackground": true,
            "ticks": "",
            "zerolinecolor": "white"
           }
          },
          "shapedefaults": {
           "line": {
            "color": "#2a3f5f"
           }
          },
          "ternary": {
           "aaxis": {
            "gridcolor": "white",
            "linecolor": "white",
            "ticks": ""
           },
           "baxis": {
            "gridcolor": "white",
            "linecolor": "white",
            "ticks": ""
           },
           "bgcolor": "#E5ECF6",
           "caxis": {
            "gridcolor": "white",
            "linecolor": "white",
            "ticks": ""
           }
          },
          "title": {
           "x": 0.05
          },
          "xaxis": {
           "automargin": true,
           "gridcolor": "white",
           "linecolor": "white",
           "ticks": "",
           "title": {
            "standoff": 15
           },
           "zerolinecolor": "white",
           "zerolinewidth": 2
          },
          "yaxis": {
           "automargin": true,
           "gridcolor": "white",
           "linecolor": "white",
           "ticks": "",
           "title": {
            "standoff": 15
           },
           "zerolinecolor": "white",
           "zerolinewidth": 2
          }
         }
        },
        "title": {
         "text": "June 7th, The Sunniest Day: Irradiance vs. PV Efficiency"
        },
        "xaxis": {
         "title": {
          "text": "Date"
         }
        },
        "yaxis": {
         "title": {}
        }
       }
      }
     },
     "metadata": {},
     "output_type": "display_data"
    }
   ],
   "source": [
    "plot_variable(plant1_aggregate, variables, key_labels,\n",
    "              start_date='2020-06-07',end_date='2020-06-08',\n",
    "              title=\"June 7th, The Sunniest Day: Irradiance vs. PV Efficiency\")"
   ]
  },
  {
   "cell_type": "markdown",
   "metadata": {},
   "source": [
    "**Modeling**\n",
    "\n",
    "As can be seen by the visualizations above, there is a highly cyclical pattern in the data. There is no sun at night, no production at night, and a steady increase in irradiance up until noon followed by a steady decrease each day. Temperature follows a similar trend. I begin model fitting by plotting a correlation matrix for the dataframe. My hypothesis is that high temperatures impede efficiency, and that there is a practical limit to the efficiency of the project as a whole. As a reminder, the data I'm looking at are aggregates of all 22 inverters - I have sum values for total project output, mean outputs at the inverter-level, and then project wide values for irradiance, temperature, etc. I will utilize the plant1_aggregate dataframe for this analysis because it retains the 15-minute interval granularity and I want maximum data depth for modeling.\n",
    "\n",
    "NOTES: \n",
    "\n",
    "    * I will be able to model the relationship between irradiation and power generation using a simple linear regression, perhaps establishing the time of day as dummy variable to factor daily recurring patterns into the model. \n",
    "    * More advanced approaches and tools could include using Prophet, a time series forecasting tool in Python that can model relationship between weather variables and generation. It can also handle seasonality an repetitive trends in the data. \n",
    "    * NeuralProphet is an outgrowth that uses neural networks to model complex relationships. This is overkill for a simply dataset like this one, but would be very educational to try implementing. That should just about do it for modeling approaches.  "
   ]
  },
  {
   "cell_type": "markdown",
   "metadata": {},
   "source": [
    "Below I generated a correlation matrix and displayed it via a heatmap using seaborn and pyplot. DC and AC outputs exhibit very high positive correlations with each other, which makes sense. DC is the power coming in from the panel to the inverter, and AC is the inverter output - so an increase or decrease in DC output is logically associated with a proportional increase or decrease in AC output. To avoid muddling the matrix, I remove inverter efficiency from consideration because I made it and it is based of computations of other variables. This will make it highly correlated to them by default. I retain pv efficiency, specifically looking at correlations to temperature for that computed variable.\n",
    "\n",
    "The variables avg_temp, avg_module_temp, avg_irrad, and avg_PV_effic Average project-level and module temp, irradiation, and PV efficiency also show positive correlations with each other, although not as strong as DC and AC output. The correlation coefficients range from around 0.72 to 0.96, suggesting a moderate to strong linear relationship. This indicates that I should be able to create a strong model that predicts changes in PV efficiency, based on the other variables as predictors."
   ]
  },
  {
   "cell_type": "code",
   "execution_count": 34,
   "metadata": {},
   "outputs": [
    {
     "data": {
      "image/png": "[encoded data removed]",
      "text/plain": [
       "<Figure size 1000x800 with 2 Axes>"
      ]
     },
     "metadata": {},
     "output_type": "display_data"
    }
   ],
   "source": [
    "import seaborn as sns\n",
    "import matplotlib.pyplot as plt\n",
    "\n",
    "'''Calculate correlation matrix, by first dropping inverter efficiency variable. Inverter efficiency was a constructed variable and \n",
    "I want to focus on natural variables and their relationship to PV efficiency) in this case.'''\n",
    "model_data = plant1_aggregate.drop(\"avg_inverter_effic\",axis=1)\n",
    "\n",
    "correlation_matrix = model_data.corr(numeric_only=True)\n",
    "\n",
    "# Create correlation heatmap\n",
    "plt.figure(figsize=(10, 8))\n",
    "sns.heatmap(correlation_matrix, annot=True, cmap=\"coolwarm\", square=True)\n",
    "plt.title(\"Correlation Between Variables\")\n",
    "plt.show()"
   ]
  },
  {
   "cell_type": "markdown",
   "metadata": {},
   "source": [
    "Below I built the linear model of PV efficiency. I split the PV efficiency variable out and assigned it to y, while the predictor variables were grouped into df X. Then I split out the data into corresponding training and testing sets. The train_test_split function from sklearn makes this into a one liner, which was really excellent to find! Finally, I apply the LinearRegression functionality from sklearn to fit a multilinear regression model to the training data. \n",
    "\n",
    "I wrote a few lines to print out the actual equation. Many of the variables drop out in this process - I chose not to display variables with coefficients smaller than .001. The resulting equation shows us that there is actually a negative relationship between mean AC output and PV efficiency - when AC output increases by one unit, PV efficiency tends to decrease by 1.61. There is a similar but slightly weaker relationship between irradiance and PV efficiency as well. This model appears to confirm my hypothesis that there is a loss of efficiency as irradiance and temperature climb. The relationship between temperature and efficiency is positive, but small. \n",
    "\n",
    "It's worth noting that this is, of course, an approximation of the relationship between these variables. The intercept is -0.195, meaning that the expected value for PV efficiency is 0 if all independent variables are set to zero. Of course, if irradiance were zero, there would be no light to generate power from, so the real value of PV efficiency would be 0, not -0.195. It is encouraging that the model went negative in this case though."
   ]
  },
  {
   "cell_type": "code",
   "execution_count": 17,
   "metadata": {},
   "outputs": [
    {
     "name": "stdout",
     "output_type": "stream",
     "text": [
      "Model equation: avg_PV_effic = -0.195 + -0.007 * total_DC + 0.076 * total_AC + 0.159 * avg_DC + -1.612 * avg_AC + 0.009 * avg_temp + 0.004 * avg_module_temp + -1.062 * avg_irrad\n"
     ]
    }
   ],
   "source": [
    "import pandas as pd\n",
    "from sklearn.model_selection import train_test_split\n",
    "from sklearn.linear_model import LinearRegression\n",
    "\n",
    "# Select the numeric variables for the independent variables\n",
    "X = model_data[['total_DC', 'total_AC', 'avg_DC', 'avg_AC', 'avg_temp', 'avg_module_temp', 'avg_irrad']]\n",
    "\n",
    "# Select the target variable\n",
    "y = model_data['avg_PV_effic']\n",
    "\n",
    "# Split the data into training and testing sets\n",
    "X_train, X_test, y_train, y_test = train_test_split(X, y, test_size=0.2, random_state=42)\n",
    "\n",
    "# Build and fit the linear regression model using the training set\n",
    "model = LinearRegression()\n",
    "model.fit(X_train, y_train)\n",
    "\n",
    "coefficients = model.coef_\n",
    "intercept = model.intercept_\n",
    "\n",
    "# Create a list of variable names\n",
    "variable_names = ['total_DC', 'total_AC', 'avg_DC', 'avg_AC', 'avg_temp', 'avg_module_temp', 'avg_irrad']\n",
    "\n",
    "# Generate the model equation\n",
    "equation = \"avg_PV_effic = {:.3f}\".format(intercept)\n",
    "for i, coeff in enumerate(coefficients):\n",
    "    if np.abs(coeff) > 0.001:  # Only include variables with coefficients greater than 0.01 (adjust threshold as needed)\n",
    "        equation += \" + {:.3f} * {}\".format(coeff, variable_names[i])\n",
    "\n",
    "print(\"Model equation:\", equation)\n",
    "\n"
   ]
  },
  {
   "cell_type": "markdown",
   "metadata": {},
   "source": [
    "Next I use the .score() method, applying the model to the test data subsets. It returns an R-squared of 0.66, meaning that the independent variables were able to correctly explain 66% of the variance in PV efficiency. This is fairly helpful, but not a particularly strong model. I would not trust it to predict power output for an asset I manage for work, for example. "
   ]
  },
  {
   "cell_type": "code",
   "execution_count": 18,
   "metadata": {},
   "outputs": [
    {
     "name": "stdout",
     "output_type": "stream",
     "text": [
      "R-squared score: 0.66\n"
     ]
    }
   ],
   "source": [
    "\n",
    "# Evaluate the model on the testing set\n",
    "r2_score = model.score(X_test, y_test)\n",
    "\n",
    "# Print the R-squared score\n",
    "print(\"R-squared score: {:.2f}\".format(r2_score))"
   ]
  },
  {
   "cell_type": "markdown",
   "metadata": {},
   "source": [
    "**Conclusion**\n",
    "\n",
    "This project taught me so much about Python, and working with project-level renewable energy data. I ran out of time to implement some additional models I was excited to try, namely trying to use Prophet for time series prediction and graphing. I wasn't able to install the fbprophet package to begin this process. I received this error in the Terminal: ERROR: Could not build wheels for fbprophet, pysimdjson, which is required to install pyproject.toml-based projects. (I'd love your thoughts on this, Patrick) I also failed to get dummy variables to work for improving the linear regression model - this is something I've been successful with before in R (factoring seasonality into temperature models) so that was frustrating. I'll continue to improve this project and plan to share it on my Github as well. \n",
    "\n",
    "In any case, I was able to join, clean, transform, visualize, and model real, publically available PV data. There are strong correlations between the environmental attributes of the project (irradiance, temperature) and the actual performance of the project. PV efficiency increases with irradiance to a point, but too much irradiance can actually hurt efficiency. Temperature has a weak impact on efficiency. These hypotheses are confirmed!\n",
    "\n",
    "Additional exploration I would like to do here would be to apply the models I build to another project, to see if they hold true. I'd also like to get true time series - specific models working, rather than just the simple linear regression I included here."
   ]
  },
  {
   "cell_type": "markdown",
   "metadata": {},
   "source": [
    "References:\n",
    "\n",
    "Harris, C. R., Millman, K. J., van der Walt, S. J., Gommers, R., Virtanen, P., Cournapeau, D., ... Oliphant, T. E. (2020). Array programming with NumPy. Nature, 585(7825), 357-362. doi: 10.1038/s41586-020-2649-2\n",
    "\n",
    "Hunter, J. D. (2007). Matplotlib: A 2D graphics environment. Computing in Science & Engineering, 9(3), 90-95. doi: 10.1109/MCSE.2007.55\n",
    "\n",
    "McKinney, W. (2010). Data structures for statistical computing in Python. In Proceedings of the 9th Python in Science Conference (pp. 56-61). doi: 10.25080/Majora-92bf1922-00a\n",
    "\n",
    "National Renewable Energy Laboratory. (n.d.). PV cell and module basics. Retrieved May 7, 2023, from https://www.nrel.gov/pv/cell-module-basics.html\n",
    "\n",
    "Pedregosa, F., Varoquaux, G., Gramfort, A., Michel, V., Thirion, B., Grisel, O., ... Vanderplas, J. (2011). Scikit-learn: Machine learning in Python. Journal of Machine Learning Research, 12, 2825-2830.\n",
    "\n",
    "Python Software Foundation. (2020). Python Language Reference, version 3.8.2. Retrieved from https://docs.python.org/3.8/reference/index.html\n",
    "\n",
    "Sievert, C. (2019). Interactive web-based data visualization with R, plotly, and shiny. Chapman and Hall/CRC.\n",
    "\n",
    "\n",
    "\n"
   ]
  },
  {
   "cell_type": "markdown",
   "metadata": {},
   "source": [
    "Appendices:"
   ]
  },
  {
   "cell_type": "code",
   "execution_count": null,
   "metadata": {},
   "outputs": [],
   "source": [
    "\n",
    "def get_notebook_path():\n",
    "    \"\"\"Return the path of the current Jupyter Notebook including the file name.\"\"\"\n",
    "    try:\n",
    "        # Get the absolute path of the notebook file\n",
    "        notebook_path = os.path.abspath(\".ipynb\")\n",
    "    except NameError:\n",
    "        # If __file__ is not defined, fallback to the current working directory\n",
    "        notebook_path = os.getcwd()\n",
    "    \n",
    "    return notebook_path\n",
    "\n",
    "# Get the path to the current notebook including the file name\n",
    "notebook_path = get_notebook_path()\n",
    "print(\"Notebook path:\", notebook_path)"
   ]
  },
  {
   "cell_type": "code",
   "execution_count": null,
   "metadata": {},
   "outputs": [],
   "source": [
    "import nbformat\n",
    "\n",
    "def get_word_count(notebook_path):\n",
    "    notebook = nbformat.read(notebook_path, as_version=nbformat.NO_CONVERT)\n",
    "    word_count = 0\n",
    "\n",
    "    for cell in notebook['cells']:\n",
    "        if cell['cell_type'] == 'markdown':\n",
    "            # Split the markdown cell content by whitespace to count words\n",
    "            words = cell['source'].split()\n",
    "            word_count += len(words)\n",
    "\n",
    "    return word_count\n",
    "\n",
    "# Specify the path to your .ipynb file\n",
    "\n",
    "# Get the word count for markdown sections in the notebook\n",
    "total_word_count = get_word_count(notebook_path=\"/Users/harrypodolsky/Desktop/ROUX/ALY 6140/Final Project/final_project_EDA.ipynb\")\n",
    "print(\"Total word count for markdown sections:\", total_word_count)"
   ]
  },
  {
   "cell_type": "markdown",
   "metadata": {},
   "source": [
    "Below was a little bit of failure! I wanted to assign the grid intensity variable as a dummy variable to feed back into a new linear model, and see if it would improve the predictive ability. I was not able to get the data types to play nicely, and I am not totally sure why. I ran out of time to trouble shoot this before deadline! Including for context."
   ]
  },
  {
   "cell_type": "code",
   "execution_count": null,
   "metadata": {},
   "outputs": [],
   "source": [
    "# from sklearn.metrics import mean_squared_error\n",
    "\n",
    "# numeric_cols = ['total_DC', 'total_AC', 'avg_DC', 'avg_AC', 'avg_temp', 'avg_module_temp', 'avg_irrad', 'avg_PV_effic']\n",
    "# model_data[numeric_cols] = model_data[numeric_cols].astype(float)\n",
    "\n",
    "\n",
    "# # Create a dummy variable from the 'grid_intensity' column\n",
    "# dummy_df = pd.get_dummies(model_data['grid_intensity'], prefix='grid', drop_first=True)\n",
    "\n",
    "# # Concatenate the dummy variable with the original dataframe\n",
    "# df_with_dummy = pd.concat([model_data, dummy_df], axis=1)\n",
    "# dummy_cols = ['grid_off-peak', 'grid_peak']\n",
    "# df_with_dummy[dummy_cols] = df_with_dummy[dummy_cols].astype(float)\n",
    "# # Define the feature matrix X and the target variable y\n",
    "# X = df_with_dummy.drop(['avg_PV_effic', 'grid_intensity'], axis=1)\n",
    "\n",
    "# y = df_with_dummy['avg_PV_effic']\n",
    "\n",
    "# # Split the data into training and testing sets\n",
    "# X_train, X_test, y_train, y_test = train_test_split(X, y, test_size=0.2, random_state=42)\n",
    "\n",
    "# # Fit a linear regression model\n",
    "# model = LinearRegression()\n",
    "# model.fit(X_train, y_train)\n",
    "\n",
    "# # Predict on the testing set\n",
    "# y_pred = model.predict(X_test)\n",
    "\n",
    "# # Calculate the mean squared error\n",
    "# mse = mean_squared_error(y_test, y_pred)\n",
    "# print(\"Mean Squared Error:\", mse)"
   ]
  }
 ],
 "metadata": {
  "kernelspec": {
   "display_name": "Python 3 (ipykernel)",
   "language": "python",
   "name": "python3"
  },
  "language_info": {
   "codemirror_mode": {
    "name": "ipython",
    "version": 3
   },
   "file_extension": ".py",
   "mimetype": "text/x-python",
   "name": "python",
   "nbconvert_exporter": "python",
   "pygments_lexer": "ipython3",
   "version": "3.11.0"
  }
 },
 "nbformat": 4,
 "nbformat_minor": 2
}
